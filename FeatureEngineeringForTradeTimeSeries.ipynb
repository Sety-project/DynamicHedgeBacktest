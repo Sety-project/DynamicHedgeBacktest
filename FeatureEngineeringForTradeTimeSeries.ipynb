{
 "cells": [
  {
   "cell_type": "code",
   "execution_count": 9,
   "metadata": {},
   "outputs": [],
   "source": [
    "from datalib import BinanceTradeLoader \n",
    "import math\n",
    "import numpy as np\n",
    "import pandas as pd\n",
    "import seaborn as sns\n",
    "from calendar import monthrange\n",
    "import matplotlib.pyplot as plt\n",
    "import plotly.graph_objects as go\n",
    "from plotly.subplots import make_subplots\n",
    "import asyncio\n",
    "import tensorflow as tf"
   ]
  },
  {
   "cell_type": "code",
   "execution_count": 10,
   "metadata": {},
   "outputs": [],
   "source": [
    "resample_interval = 1000 #milliseconds\n",
    "local_cache_path = \"/media/corvin/BigData/Crypto/binance/\"\n",
    "trade_loader = BinanceTradeLoader(local_cache_path)"
   ]
  },
  {
   "cell_type": "code",
   "execution_count": 11,
   "metadata": {},
   "outputs": [],
   "source": [
    "def make_monthly_volume_vwap_and_imbalance(symbol, month, year, resample_interval) :\n",
    "    num_days = monthrange(year, month)[1]\n",
    "    return pd.concat(make_daily_volume_vwap_and_imbalance(symbol, day, month, year, resample_interval) for day in range(1,num_days + 1)).reset_index(drop = True)\n",
    "\n",
    "def make_daily_volume_vwap_and_imbalance(symbol, day, month, year, resample_interval) :\n",
    "    trades = trade_loader.load_daily_trades_usdt_margined(symbol, day, month, year)\n",
    "    resampled = make_volume_vwap_and_imbalance(trades, resample_interval)\n",
    "    del trades\n",
    "    return resampled\n",
    "def make_volume_vwap_and_imbalance(trades, resample_interval = 1000) :\n",
    "    trades[\"buy_usdt_volume\"] = trades[\"price\"] * trades[\"qty\"] *(1 - trades[\"isBuyerMaker\"])\n",
    "    trades[\"sell_usdt_volume\"] = trades[\"price\"] * trades[\"qty\"] *trades[\"isBuyerMaker\"]\n",
    "    trades[\"usdt_volume\"] = trades[\"price\"] * trades[\"qty\"]\n",
    "    resampled =  trades.resample(f'{resample_interval}ms', on = \"time\").agg({\"buy_usdt_volume\" : np.sum, \"sell_usdt_volume\" : np.sum, \"usdt_volume\" : np.sum, \"qty\" : np.sum}).reset_index()\n",
    "    resampled[\"buy_percentage\"] = resampled[\"buy_usdt_volume\"] / (resampled[\"buy_usdt_volume\"] + resampled[\"sell_usdt_volume\"])\n",
    "    resampled[\"vwap\"] = resampled[\"usdt_volume\"] / resampled[\"qty\"]\n",
    "    resampled[\"vwap\"].fillna(method=\"ffill\", inplace = True)\n",
    "    resampled[\"buy_percentage\"].fillna(0.5, inplace = True)\n",
    "    return resampled.drop(columns = [\"usdt_volume\", \"buy_usdt_volume\", \"sell_usdt_volume\"])\n"
   ]
  },
  {
   "cell_type": "code",
   "execution_count": 30,
   "metadata": {},
   "outputs": [
    {
     "data": {
      "text/html": [
       "<div>\n",
       "<style scoped>\n",
       "    .dataframe tbody tr th:only-of-type {\n",
       "        vertical-align: middle;\n",
       "    }\n",
       "\n",
       "    .dataframe tbody tr th {\n",
       "        vertical-align: top;\n",
       "    }\n",
       "\n",
       "    .dataframe thead th {\n",
       "        text-align: right;\n",
       "    }\n",
       "</style>\n",
       "<table border=\"1\" class=\"dataframe\">\n",
       "  <thead>\n",
       "    <tr style=\"text-align: right;\">\n",
       "      <th></th>\n",
       "      <th>time</th>\n",
       "      <th>qty</th>\n",
       "      <th>buy_percentage</th>\n",
       "      <th>vwap</th>\n",
       "    </tr>\n",
       "  </thead>\n",
       "  <tbody>\n",
       "    <tr>\n",
       "      <th>0</th>\n",
       "      <td>2021-06-02 00:00:01</td>\n",
       "      <td>536.5</td>\n",
       "      <td>0.905516</td>\n",
       "      <td>6.303171</td>\n",
       "    </tr>\n",
       "    <tr>\n",
       "      <th>1</th>\n",
       "      <td>2021-06-02 00:00:02</td>\n",
       "      <td>420.5</td>\n",
       "      <td>0.027353</td>\n",
       "      <td>6.302027</td>\n",
       "    </tr>\n",
       "    <tr>\n",
       "      <th>2</th>\n",
       "      <td>2021-06-02 00:00:03</td>\n",
       "      <td>673.1</td>\n",
       "      <td>0.669475</td>\n",
       "      <td>6.302669</td>\n",
       "    </tr>\n",
       "    <tr>\n",
       "      <th>3</th>\n",
       "      <td>2021-06-02 00:00:04</td>\n",
       "      <td>3734.4</td>\n",
       "      <td>0.997671</td>\n",
       "      <td>6.306340</td>\n",
       "    </tr>\n",
       "    <tr>\n",
       "      <th>4</th>\n",
       "      <td>2021-06-02 00:00:05</td>\n",
       "      <td>665.2</td>\n",
       "      <td>0.919436</td>\n",
       "      <td>6.309271</td>\n",
       "    </tr>\n",
       "  </tbody>\n",
       "</table>\n",
       "</div>"
      ],
      "text/plain": [
       "                 time     qty  buy_percentage      vwap\n",
       "0 2021-06-02 00:00:01   536.5        0.905516  6.303171\n",
       "1 2021-06-02 00:00:02   420.5        0.027353  6.302027\n",
       "2 2021-06-02 00:00:03   673.1        0.669475  6.302669\n",
       "3 2021-06-02 00:00:04  3734.4        0.997671  6.306340\n",
       "4 2021-06-02 00:00:05   665.2        0.919436  6.309271"
      ]
     },
     "execution_count": 30,
     "metadata": {},
     "output_type": "execute_result"
    }
   ],
   "source": [
    "\n",
    "test = make_daily_volume_vwap_and_imbalance(\"EOS\",2, 6,2021, resample_interval)\n",
    "test.head()"
   ]
  },
  {
   "cell_type": "code",
   "execution_count": 31,
   "metadata": {},
   "outputs": [],
   "source": [
    "test[\"1_min_qty\"] = test[\"qty\"].rolling(60).sum()\n",
    "test[\"1_min_vwap\"] = (test[\"qty\"] * test[\"vwap\"]).rolling(60).sum() / test[\"1_min_qty\"]\n",
    "test[\"1_min_buy_percentage\"] = (test[\"qty\"] * test[\"buy_percentage\"]).rolling(60).sum() / test[\"1_min_qty\"]\n",
    "# test.dropna(inplace= True)\n",
    "test[\"1_hour_qty\"] = test[\"qty\"].rolling(60 * 60).sum()\n",
    "test[\"1_hour_vwap\"] = (test[\"qty\"] * test[\"vwap\"]).rolling(60 * 60).sum() / test[\"1_hour_qty\"]\n",
    "test[\"1_hour_buy_percentage\"] = (test[\"qty\"] * test[\"buy_percentage\"]).rolling(60 * 60).sum() / test[\"1_hour_qty\"]\n",
    "# test[\"target_1sec_vwap\"] = test[\"vwap\"].shift(-1)\n",
    "# test[\"target_1min_vwap\"] = test[\"1_min_vwap\"].shift(-60)\n",
    "# test[\"target_1hour_vwap\"] = test[\"1_hour_vwap\"].shift(-60 * 60)\n",
    "\n",
    "result = test.dropna()"
   ]
  },
  {
   "cell_type": "code",
   "execution_count": 32,
   "metadata": {},
   "outputs": [
    {
     "data": {
      "text/html": [
       "<div>\n",
       "<style scoped>\n",
       "    .dataframe tbody tr th:only-of-type {\n",
       "        vertical-align: middle;\n",
       "    }\n",
       "\n",
       "    .dataframe tbody tr th {\n",
       "        vertical-align: top;\n",
       "    }\n",
       "\n",
       "    .dataframe thead th {\n",
       "        text-align: right;\n",
       "    }\n",
       "</style>\n",
       "<table border=\"1\" class=\"dataframe\">\n",
       "  <thead>\n",
       "    <tr style=\"text-align: right;\">\n",
       "      <th></th>\n",
       "      <th>time</th>\n",
       "      <th>qty</th>\n",
       "      <th>buy_percentage</th>\n",
       "      <th>vwap</th>\n",
       "      <th>1_min_qty</th>\n",
       "      <th>1_min_vwap</th>\n",
       "      <th>1_min_buy_percentage</th>\n",
       "      <th>1_hour_qty</th>\n",
       "      <th>1_hour_vwap</th>\n",
       "      <th>1_hour_buy_percentage</th>\n",
       "    </tr>\n",
       "  </thead>\n",
       "  <tbody>\n",
       "    <tr>\n",
       "      <th>3599</th>\n",
       "      <td>2021-06-02 01:00:00</td>\n",
       "      <td>2.6</td>\n",
       "      <td>0.500041</td>\n",
       "      <td>6.168500</td>\n",
       "      <td>79281.5</td>\n",
       "      <td>6.172484</td>\n",
       "      <td>0.709861</td>\n",
       "      <td>4707710.4</td>\n",
       "      <td>6.232138</td>\n",
       "      <td>0.472305</td>\n",
       "    </tr>\n",
       "    <tr>\n",
       "      <th>3600</th>\n",
       "      <td>2021-06-02 01:00:01</td>\n",
       "      <td>245.4</td>\n",
       "      <td>1.000000</td>\n",
       "      <td>6.169735</td>\n",
       "      <td>75124.2</td>\n",
       "      <td>6.172528</td>\n",
       "      <td>0.695240</td>\n",
       "      <td>4707419.3</td>\n",
       "      <td>6.232127</td>\n",
       "      <td>0.472283</td>\n",
       "    </tr>\n",
       "    <tr>\n",
       "      <th>3601</th>\n",
       "      <td>2021-06-02 01:00:02</td>\n",
       "      <td>4.9</td>\n",
       "      <td>1.000000</td>\n",
       "      <td>6.170000</td>\n",
       "      <td>69088.8</td>\n",
       "      <td>6.172487</td>\n",
       "      <td>0.670399</td>\n",
       "      <td>4707003.7</td>\n",
       "      <td>6.232121</td>\n",
       "      <td>0.472324</td>\n",
       "    </tr>\n",
       "    <tr>\n",
       "      <th>3602</th>\n",
       "      <td>2021-06-02 01:00:03</td>\n",
       "      <td>238.5</td>\n",
       "      <td>0.925351</td>\n",
       "      <td>6.170695</td>\n",
       "      <td>69136.8</td>\n",
       "      <td>6.172470</td>\n",
       "      <td>0.670432</td>\n",
       "      <td>4706569.1</td>\n",
       "      <td>6.232107</td>\n",
       "      <td>0.472319</td>\n",
       "    </tr>\n",
       "    <tr>\n",
       "      <th>3603</th>\n",
       "      <td>2021-06-02 01:00:04</td>\n",
       "      <td>1638.6</td>\n",
       "      <td>0.033514</td>\n",
       "      <td>6.171273</td>\n",
       "      <td>68609.3</td>\n",
       "      <td>6.172334</td>\n",
       "      <td>0.676188</td>\n",
       "      <td>4704473.3</td>\n",
       "      <td>6.232027</td>\n",
       "      <td>0.471749</td>\n",
       "    </tr>\n",
       "    <tr>\n",
       "      <th>...</th>\n",
       "      <td>...</td>\n",
       "      <td>...</td>\n",
       "      <td>...</td>\n",
       "      <td>...</td>\n",
       "      <td>...</td>\n",
       "      <td>...</td>\n",
       "      <td>...</td>\n",
       "      <td>...</td>\n",
       "      <td>...</td>\n",
       "      <td>...</td>\n",
       "    </tr>\n",
       "    <tr>\n",
       "      <th>3655</th>\n",
       "      <td>2021-06-02 01:00:56</td>\n",
       "      <td>449.8</td>\n",
       "      <td>0.994889</td>\n",
       "      <td>6.189477</td>\n",
       "      <td>150021.6</td>\n",
       "      <td>6.177628</td>\n",
       "      <td>0.229105</td>\n",
       "      <td>4725335.7</td>\n",
       "      <td>6.228012</td>\n",
       "      <td>0.464734</td>\n",
       "    </tr>\n",
       "    <tr>\n",
       "      <th>3656</th>\n",
       "      <td>2021-06-02 01:00:57</td>\n",
       "      <td>591.2</td>\n",
       "      <td>0.030113</td>\n",
       "      <td>6.189030</td>\n",
       "      <td>150612.8</td>\n",
       "      <td>6.177672</td>\n",
       "      <td>0.228323</td>\n",
       "      <td>4721324.3</td>\n",
       "      <td>6.227922</td>\n",
       "      <td>0.465090</td>\n",
       "    </tr>\n",
       "    <tr>\n",
       "      <th>3657</th>\n",
       "      <td>2021-06-02 01:00:58</td>\n",
       "      <td>2195.2</td>\n",
       "      <td>0.838581</td>\n",
       "      <td>6.189093</td>\n",
       "      <td>152650.3</td>\n",
       "      <td>6.177847</td>\n",
       "      <td>0.236310</td>\n",
       "      <td>4721909.4</td>\n",
       "      <td>6.227873</td>\n",
       "      <td>0.465084</td>\n",
       "    </tr>\n",
       "    <tr>\n",
       "      <th>3658</th>\n",
       "      <td>2021-06-02 01:00:59</td>\n",
       "      <td>16.9</td>\n",
       "      <td>1.000000</td>\n",
       "      <td>6.186000</td>\n",
       "      <td>152667.2</td>\n",
       "      <td>6.177847</td>\n",
       "      <td>0.236395</td>\n",
       "      <td>4721910.3</td>\n",
       "      <td>6.227873</td>\n",
       "      <td>0.465087</td>\n",
       "    </tr>\n",
       "    <tr>\n",
       "      <th>3659</th>\n",
       "      <td>2021-06-02 01:01:00</td>\n",
       "      <td>527.9</td>\n",
       "      <td>0.991855</td>\n",
       "      <td>6.186040</td>\n",
       "      <td>153192.5</td>\n",
       "      <td>6.177876</td>\n",
       "      <td>0.238993</td>\n",
       "      <td>4722422.4</td>\n",
       "      <td>6.227868</td>\n",
       "      <td>0.465147</td>\n",
       "    </tr>\n",
       "  </tbody>\n",
       "</table>\n",
       "<p>61 rows × 10 columns</p>\n",
       "</div>"
      ],
      "text/plain": [
       "                    time     qty  buy_percentage      vwap  1_min_qty  \\\n",
       "3599 2021-06-02 01:00:00     2.6        0.500041  6.168500    79281.5   \n",
       "3600 2021-06-02 01:00:01   245.4        1.000000  6.169735    75124.2   \n",
       "3601 2021-06-02 01:00:02     4.9        1.000000  6.170000    69088.8   \n",
       "3602 2021-06-02 01:00:03   238.5        0.925351  6.170695    69136.8   \n",
       "3603 2021-06-02 01:00:04  1638.6        0.033514  6.171273    68609.3   \n",
       "...                  ...     ...             ...       ...        ...   \n",
       "3655 2021-06-02 01:00:56   449.8        0.994889  6.189477   150021.6   \n",
       "3656 2021-06-02 01:00:57   591.2        0.030113  6.189030   150612.8   \n",
       "3657 2021-06-02 01:00:58  2195.2        0.838581  6.189093   152650.3   \n",
       "3658 2021-06-02 01:00:59    16.9        1.000000  6.186000   152667.2   \n",
       "3659 2021-06-02 01:01:00   527.9        0.991855  6.186040   153192.5   \n",
       "\n",
       "      1_min_vwap  1_min_buy_percentage  1_hour_qty  1_hour_vwap  \\\n",
       "3599    6.172484              0.709861   4707710.4     6.232138   \n",
       "3600    6.172528              0.695240   4707419.3     6.232127   \n",
       "3601    6.172487              0.670399   4707003.7     6.232121   \n",
       "3602    6.172470              0.670432   4706569.1     6.232107   \n",
       "3603    6.172334              0.676188   4704473.3     6.232027   \n",
       "...          ...                   ...         ...          ...   \n",
       "3655    6.177628              0.229105   4725335.7     6.228012   \n",
       "3656    6.177672              0.228323   4721324.3     6.227922   \n",
       "3657    6.177847              0.236310   4721909.4     6.227873   \n",
       "3658    6.177847              0.236395   4721910.3     6.227873   \n",
       "3659    6.177876              0.238993   4722422.4     6.227868   \n",
       "\n",
       "      1_hour_buy_percentage  \n",
       "3599               0.472305  \n",
       "3600               0.472283  \n",
       "3601               0.472324  \n",
       "3602               0.472319  \n",
       "3603               0.471749  \n",
       "...                     ...  \n",
       "3655               0.464734  \n",
       "3656               0.465090  \n",
       "3657               0.465084  \n",
       "3658               0.465087  \n",
       "3659               0.465147  \n",
       "\n",
       "[61 rows x 10 columns]"
      ]
     },
     "execution_count": 32,
     "metadata": {},
     "output_type": "execute_result"
    }
   ],
   "source": [
    "result.head(61)"
   ]
  },
  {
   "cell_type": "code",
   "execution_count": 15,
   "metadata": {},
   "outputs": [
    {
     "data": {
      "text/plain": [
       "<AxesSubplot:xlabel='time', ylabel='1_hour_buy_percentage'>"
      ]
     },
     "execution_count": 15,
     "metadata": {},
     "output_type": "execute_result"
    },
    {
     "data": {
      "image/png": "[encoded data removed]",
      "text/plain": [
       "<Figure size 432x288 with 1 Axes>"
      ]
     },
     "metadata": {
      "needs_background": "light"
     },
     "output_type": "display_data"
    }
   ],
   "source": [
    "sns.lineplot(data = result.set_index(\"time\")[\"1_hour_buy_percentage\"])\n"
   ]
  },
  {
   "cell_type": "code",
   "execution_count": 18,
   "metadata": {},
   "outputs": [
    {
     "data": {
      "text/plain": [
       "<AxesSubplot:xlabel='time', ylabel='vwap'>"
      ]
     },
     "execution_count": 18,
     "metadata": {},
     "output_type": "execute_result"
    },
    {
     "data": {
      "image/png": "[encoded data removed]",
      "text/plain": [
       "<Figure size 432x288 with 1 Axes>"
      ]
     },
     "metadata": {
      "needs_background": "light"
     },
     "output_type": "display_data"
    }
   ],
   "source": [
    "sns.lineplot(data = result.set_index(\"time\")[\"vwap\"])"
   ]
  },
  {
   "cell_type": "code",
   "execution_count": 16,
   "metadata": {},
   "outputs": [],
   "source": [
    "class WindowGenerator():\n",
    "  def __init__(self, input_width, label_width, shift,\n",
    "               train_df, val_df, test_df,\n",
    "               label_columns=None):\n",
    "    # Store the raw data.\n",
    "    self.train_df = train_df\n",
    "    self.val_df = val_df\n",
    "    self.test_df = test_df\n",
    "\n",
    "    # Work out the label column indices.\n",
    "    self.label_columns = label_columns\n",
    "    if label_columns is not None:\n",
    "      self.label_columns_indices = {name: i for i, name in\n",
    "                                    enumerate(label_columns)}\n",
    "    self.column_indices = {name: i for i, name in\n",
    "                           enumerate(train_df.columns)}\n",
    "\n",
    "    # Work out the window parameters.\n",
    "    self.input_width = input_width\n",
    "    self.label_width = label_width\n",
    "    self.shift = shift\n",
    "\n",
    "    self.total_window_size = input_width + shift\n",
    "\n",
    "    self.input_slice = slice(0, input_width)\n",
    "    self.input_indices = np.arange(self.total_window_size)[self.input_slice]\n",
    "\n",
    "    self.label_start = self.total_window_size - self.label_width\n",
    "    self.labels_slice = slice(self.label_start, None)\n",
    "    self.label_indices = np.arange(self.total_window_size)[self.labels_slice]\n",
    "\n",
    "  def __repr__(self):\n",
    "    return '\\n'.join([\n",
    "        f'Total window size: {self.total_window_size}',\n",
    "        f'Input indices: {self.input_indices}',\n",
    "        f'Label indices: {self.label_indices}',\n",
    "        f'Label column name(s): {self.label_columns}'])"
   ]
  },
  {
   "cell_type": "code",
   "execution_count": 40,
   "metadata": {},
   "outputs": [
    {
     "data": {
      "text/plain": [
       "Total window size: 120\n",
       "Input indices: [ 0  1  2  3  4  5  6  7  8  9 10 11 12 13 14 15 16 17 18 19 20 21 22 23\n",
       " 24 25 26 27 28 29 30 31 32 33 34 35 36 37 38 39 40 41 42 43 44 45 46 47\n",
       " 48 49 50 51 52 53 54 55 56 57 58 59]\n",
       "Label indices: [119]\n",
       "Label column name(s): ['1_min_vwap']"
      ]
     },
     "execution_count": 40,
     "metadata": {},
     "output_type": "execute_result"
    }
   ],
   "source": [
    "result_no_time = result.drop(columns = [\"time\"])\n",
    "w1 = WindowGenerator(train_df = result_no_time, val_df = None, test_df = None, input_width=60, label_width=1, shift=60,\n",
    "                     label_columns=[\"1_min_vwap\"])\n",
    "w1"
   ]
  },
  {
   "cell_type": "code",
   "execution_count": 41,
   "metadata": {},
   "outputs": [],
   "source": [
    "def split_window(self, features):\n",
    "  inputs = features[:, self.input_slice, :]\n",
    "  labels = features[:, self.labels_slice, :]\n",
    "  if self.label_columns is not None:\n",
    "    labels = tf.stack(\n",
    "        [labels[:, :, self.column_indices[name]] for name in self.label_columns],\n",
    "        axis=-1)\n",
    "\n",
    "  # Slicing doesn't preserve static shape information, so set the shapes\n",
    "  # manually. This way the `tf.data.Datasets` are easier to inspect.\n",
    "  inputs.set_shape([None, self.input_width, None])\n",
    "  labels.set_shape([None, self.label_width, None])\n",
    "\n",
    "  return inputs, labels\n",
    "\n",
    "WindowGenerator.split_window = split_window"
   ]
  },
  {
   "cell_type": "code",
   "execution_count": 42,
   "metadata": {},
   "outputs": [
    {
     "name": "stdout",
     "output_type": "stream",
     "text": [
      "All shapes are: (batch, time, features)\n",
      "Window shape: (3, 120, 9)\n",
      "Inputs shape: (3, 60, 9)\n",
      "labels shape: (3, 1, 1)\n"
     ]
    }
   ],
   "source": [
    "# Stack three slices, the length of the total window:\n",
    "example_window = tf.stack([np.array(result_no_time[:w1.total_window_size]),\n",
    "                           np.array(result_no_time[100:100+w1.total_window_size]),\n",
    "                           np.array(result_no_time[200:200+w1.total_window_size])])\n",
    "\n",
    "\n",
    "example_inputs, example_labels = w1.split_window(example_window)\n",
    "\n",
    "print('All shapes are: (batch, time, features)')\n",
    "print(f'Window shape: {example_window.shape}')\n",
    "print(f'Inputs shape: {example_inputs.shape}')\n",
    "print(f'labels shape: {example_labels.shape}')"
   ]
  },
  {
   "cell_type": "code",
   "execution_count": 43,
   "metadata": {},
   "outputs": [],
   "source": [
    "w1.example = example_inputs, example_labels"
   ]
  },
  {
   "cell_type": "code",
   "execution_count": 47,
   "metadata": {},
   "outputs": [],
   "source": [
    "def plot(self, model=None, plot_col='1_min_vwap', max_subplots=3):\n",
    "  inputs, labels = self.example\n",
    "  plt.figure(figsize=(12, 8))\n",
    "  plot_col_index = self.column_indices[plot_col]\n",
    "  max_n = min(max_subplots, len(inputs))\n",
    "  for n in range(max_n):\n",
    "    plt.subplot(max_n, 1, n+1)\n",
    "    plt.ylabel(f'{plot_col} [normed]')\n",
    "    plt.plot(self.input_indices, inputs[n, :, plot_col_index],\n",
    "             label='Inputs', marker='.', zorder=-10)\n",
    "\n",
    "    if self.label_columns:\n",
    "      label_col_index = self.label_columns_indices.get(plot_col, None)\n",
    "    else:\n",
    "      label_col_index = plot_col_index\n",
    "\n",
    "    if label_col_index is None:\n",
    "      continue\n",
    "\n",
    "    plt.scatter(self.label_indices, labels[n, :, label_col_index],\n",
    "                edgecolors='k', label='Labels', c='#2ca02c', s=64)\n",
    "    if model is not None:\n",
    "      predictions = model(inputs)\n",
    "      plt.scatter(self.label_indices, predictions[n, :, label_col_index],\n",
    "                  marker='X', edgecolors='k', label='Predictions',\n",
    "                  c='#ff7f0e', s=64)\n",
    "\n",
    "    if n == 0:\n",
    "      plt.legend()\n",
    "\n",
    "  plt.xlabel('Time [h]')\n",
    "\n",
    "WindowGenerator.plot = plot"
   ]
  },
  {
   "cell_type": "code",
   "execution_count": 48,
   "metadata": {},
   "outputs": [
    {
     "data": {
      "image/png": "[encoded data removed]",
      "text/plain": [
       "<Figure size 864x576 with 3 Axes>"
      ]
     },
     "metadata": {
      "needs_background": "light"
     },
     "output_type": "display_data"
    }
   ],
   "source": [
    "w1.plot()"
   ]
  },
  {
   "cell_type": "code",
   "execution_count": null,
   "metadata": {},
   "outputs": [],
   "source": []
  }
 ],
 "metadata": {
  "kernelspec": {
   "display_name": "mlearning",
   "language": "python",
   "name": "mlearning"
  },
  "language_info": {
   "codemirror_mode": {
    "name": "ipython",
    "version": 3
   },
   "file_extension": ".py",
   "mimetype": "text/x-python",
   "name": "python",
   "nbconvert_exporter": "python",
   "pygments_lexer": "ipython3",
   "version": "3.8.10"
  }
 },
 "nbformat": 4,
 "nbformat_minor": 4
}
