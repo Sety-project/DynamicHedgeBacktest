{
 "cells": [
  {
   "cell_type": "code",
   "execution_count": 6,
   "id": "4c48dab2",
   "metadata": {},
   "outputs": [
    {
     "name": "stdout",
     "output_type": "stream",
     "text": [
      "DOWNLOAD FILE FROM S3: s3://tardis-data-dump/2021-12-01-2w/ftx_quotes_2021-10-14_BTC-PERP.csv.gz -> C:/Users/Tibor/Data/tardis/ftx_quotes_2021-10-14_BTC-PERP.csv.gz\n",
      "DOWNLOAD FILE FROM S3: s3://tardis-data-dump/2021-12-01-2w/ftx_quotes_2021-10-14_BTC-USD.csv.gz -> C:/Users/Tibor/Data/tardis/ftx_quotes_2021-10-14_BTC-USD.csv.gz\n"
     ]
    }
   ],
   "source": [
    "from puffin import tools\n",
    "tools.s3_download_file('C:/Users/Tibor/Data/tardis/ftx_quotes_2021-10-14_BTC-PERP.csv.gz', 'tardis-data-dump', '2021-12-01-2w/ftx_quotes_2021-10-14_BTC-PERP.csv.gz')\n",
    "tools.s3_download_file('C:/Users/Tibor/Data/tardis/ftx_quotes_2021-10-14_BTC-USD.csv.gz', 'tardis-data-dump', '2021-12-01-2w/ftx_quotes_2021-10-14_BTC-USD.csv.gz')"
   ]
  },
  {
   "cell_type": "code",
   "execution_count": 1,
   "id": "714dfc02",
   "metadata": {},
   "outputs": [],
   "source": [
    "import puffin.tardis_importer as ti\n",
    "perp = ti.generate_tob_data_from_gzip('BTC-PERP', 'C:/Users/Tibor/Data/tardis/ftx_quotes_2021-10-14_BTC-PERP.csv.gz')\n",
    "spot = ti.generate_tob_data_from_gzip('BTC/USD', 'C:/Users/Tibor/Data/tardis/ftx_quotes_2021-10-14_BTC-USD.csv.gz')"
   ]
  },
  {
   "cell_type": "code",
   "execution_count": 2,
   "id": "457cd427",
   "metadata": {},
   "outputs": [
    {
     "data": {
      "text/html": [
       "<div>\n",
       "<style scoped>\n",
       "    .dataframe tbody tr th:only-of-type {\n",
       "        vertical-align: middle;\n",
       "    }\n",
       "\n",
       "    .dataframe tbody tr th {\n",
       "        vertical-align: top;\n",
       "    }\n",
       "\n",
       "    .dataframe thead th {\n",
       "        text-align: right;\n",
       "    }\n",
       "</style>\n",
       "<table border=\"1\" class=\"dataframe\">\n",
       "  <thead>\n",
       "    <tr style=\"text-align: right;\">\n",
       "      <th></th>\n",
       "      <th>perp_bid</th>\n",
       "      <th>perp_ask</th>\n",
       "      <th>spot_bid</th>\n",
       "      <th>spot_ask</th>\n",
       "      <th>Perp_ask-Spot_bid</th>\n",
       "      <th>Perp_bid-Spot_ask</th>\n",
       "    </tr>\n",
       "    <tr>\n",
       "      <th>exchange_timestamp_nanos</th>\n",
       "      <th></th>\n",
       "      <th></th>\n",
       "      <th></th>\n",
       "      <th></th>\n",
       "      <th></th>\n",
       "      <th></th>\n",
       "    </tr>\n",
       "  </thead>\n",
       "  <tbody>\n",
       "    <tr>\n",
       "      <th>1634169600540823000</th>\n",
       "      <td>57403.0</td>\n",
       "      <td>57404.0</td>\n",
       "      <td>57382.0</td>\n",
       "      <td>57383.0</td>\n",
       "      <td>3.833220</td>\n",
       "      <td>3.484746</td>\n",
       "    </tr>\n",
       "    <tr>\n",
       "      <th>1634169600566339000</th>\n",
       "      <td>57403.0</td>\n",
       "      <td>57404.0</td>\n",
       "      <td>57382.0</td>\n",
       "      <td>57383.0</td>\n",
       "      <td>3.833220</td>\n",
       "      <td>3.484746</td>\n",
       "    </tr>\n",
       "    <tr>\n",
       "      <th>1634169600590952000</th>\n",
       "      <td>57403.0</td>\n",
       "      <td>57404.0</td>\n",
       "      <td>57382.0</td>\n",
       "      <td>57383.0</td>\n",
       "      <td>3.833220</td>\n",
       "      <td>3.484746</td>\n",
       "    </tr>\n",
       "    <tr>\n",
       "      <th>1634169600845309000</th>\n",
       "      <td>57403.0</td>\n",
       "      <td>57404.0</td>\n",
       "      <td>57382.0</td>\n",
       "      <td>57383.0</td>\n",
       "      <td>3.833220</td>\n",
       "      <td>3.484746</td>\n",
       "    </tr>\n",
       "    <tr>\n",
       "      <th>1634169601228554000</th>\n",
       "      <td>57403.0</td>\n",
       "      <td>57404.0</td>\n",
       "      <td>57382.0</td>\n",
       "      <td>57383.0</td>\n",
       "      <td>3.833220</td>\n",
       "      <td>3.484746</td>\n",
       "    </tr>\n",
       "    <tr>\n",
       "      <th>...</th>\n",
       "      <td>...</td>\n",
       "      <td>...</td>\n",
       "      <td>...</td>\n",
       "      <td>...</td>\n",
       "      <td>...</td>\n",
       "      <td>...</td>\n",
       "    </tr>\n",
       "    <tr>\n",
       "      <th>1634255999697064000</th>\n",
       "      <td>57382.0</td>\n",
       "      <td>57383.0</td>\n",
       "      <td>57359.0</td>\n",
       "      <td>57360.0</td>\n",
       "      <td>4.183298</td>\n",
       "      <td>3.834690</td>\n",
       "    </tr>\n",
       "    <tr>\n",
       "      <th>1634255999751084000</th>\n",
       "      <td>57382.0</td>\n",
       "      <td>57383.0</td>\n",
       "      <td>57359.0</td>\n",
       "      <td>57360.0</td>\n",
       "      <td>4.183298</td>\n",
       "      <td>3.834690</td>\n",
       "    </tr>\n",
       "    <tr>\n",
       "      <th>1634255999800352000</th>\n",
       "      <td>57382.0</td>\n",
       "      <td>57383.0</td>\n",
       "      <td>57359.0</td>\n",
       "      <td>57360.0</td>\n",
       "      <td>4.183298</td>\n",
       "      <td>3.834690</td>\n",
       "    </tr>\n",
       "    <tr>\n",
       "      <th>1634255999820993000</th>\n",
       "      <td>57382.0</td>\n",
       "      <td>57383.0</td>\n",
       "      <td>57359.0</td>\n",
       "      <td>57360.0</td>\n",
       "      <td>4.183298</td>\n",
       "      <td>3.834690</td>\n",
       "    </tr>\n",
       "    <tr>\n",
       "      <th>1634255999825863000</th>\n",
       "      <td>57382.0</td>\n",
       "      <td>57383.0</td>\n",
       "      <td>57359.0</td>\n",
       "      <td>57360.0</td>\n",
       "      <td>4.183298</td>\n",
       "      <td>3.834690</td>\n",
       "    </tr>\n",
       "  </tbody>\n",
       "</table>\n",
       "<p>1839261 rows × 6 columns</p>\n",
       "</div>"
      ],
      "text/plain": [
       "                          perp_bid  perp_ask  spot_bid  spot_ask  \\\n",
       "exchange_timestamp_nanos                                           \n",
       "1634169600540823000        57403.0   57404.0   57382.0   57383.0   \n",
       "1634169600566339000        57403.0   57404.0   57382.0   57383.0   \n",
       "1634169600590952000        57403.0   57404.0   57382.0   57383.0   \n",
       "1634169600845309000        57403.0   57404.0   57382.0   57383.0   \n",
       "1634169601228554000        57403.0   57404.0   57382.0   57383.0   \n",
       "...                            ...       ...       ...       ...   \n",
       "1634255999697064000        57382.0   57383.0   57359.0   57360.0   \n",
       "1634255999751084000        57382.0   57383.0   57359.0   57360.0   \n",
       "1634255999800352000        57382.0   57383.0   57359.0   57360.0   \n",
       "1634255999820993000        57382.0   57383.0   57359.0   57360.0   \n",
       "1634255999825863000        57382.0   57383.0   57359.0   57360.0   \n",
       "\n",
       "                          Perp_ask-Spot_bid  Perp_bid-Spot_ask  \n",
       "exchange_timestamp_nanos                                        \n",
       "1634169600540823000                3.833220           3.484746  \n",
       "1634169600566339000                3.833220           3.484746  \n",
       "1634169600590952000                3.833220           3.484746  \n",
       "1634169600845309000                3.833220           3.484746  \n",
       "1634169601228554000                3.833220           3.484746  \n",
       "...                                     ...                ...  \n",
       "1634255999697064000                4.183298           3.834690  \n",
       "1634255999751084000                4.183298           3.834690  \n",
       "1634255999800352000                4.183298           3.834690  \n",
       "1634255999820993000                4.183298           3.834690  \n",
       "1634255999825863000                4.183298           3.834690  \n",
       "\n",
       "[1839261 rows x 6 columns]"
      ]
     },
     "execution_count": 2,
     "metadata": {},
     "output_type": "execute_result"
    }
   ],
   "source": [
    "import pandas as pd\n",
    "p = perp[['exchange_timestamp_nanos', 'bid_price', 'ask_price']].set_index('exchange_timestamp_nanos').rename(columns={'bid_price': 'perp_bid', 'ask_price': 'perp_ask'})\n",
    "s = spot[['exchange_timestamp_nanos', 'bid_price', 'ask_price']].set_index('exchange_timestamp_nanos').rename(columns={'bid_price': 'spot_bid', 'ask_price': 'spot_ask'})\n",
    "data = pd.merge(left=p, right=s, how='outer', left_index=True, right_index=True)\n",
    "data = data.sort_index()\n",
    "data = data.fillna(method='ffill')\n",
    "data = data.dropna(how='any')\n",
    "data['Perp_ask-Spot_bid'] = 2e4*(data['perp_ask'] - data['spot_bid'])/(data['perp_ask'] + data['spot_bid'])\n",
    "data['Perp_bid-Spot_ask'] = 2e4*(data['perp_bid'] - data['spot_ask'])/(data['perp_bid'] + data['spot_ask'])\n",
    "data"
   ]
  },
  {
   "cell_type": "code",
   "execution_count": 3,
   "id": "494f0155",
   "metadata": {},
   "outputs": [
    {
     "data": {
      "text/plain": [
       "exchange_timestamp_nanos\n",
       "1634169600540823000         NaN\n",
       "1634169600566339000         NaN\n",
       "1634169600590952000         NaN\n",
       "1634169600845309000         NaN\n",
       "1634169601228554000         NaN\n",
       "                         ...   \n",
       "1634255999697064000    2.965004\n",
       "1634255999751084000    2.965004\n",
       "1634255999800352000    2.965004\n",
       "1634255999820993000    2.965004\n",
       "1634255999825863000    2.965004\n",
       "Name: Perp_bid-Spot_ask, Length: 1839261, dtype: float64"
      ]
     },
     "execution_count": 3,
     "metadata": {},
     "output_type": "execute_result"
    }
   ],
   "source": [
    "data['Perp_ask-Spot_bid'].rolling(len(data)//24).quantile(.75)\n",
    "data['Perp_bid-Spot_ask'].rolling(len(data)//24).quantile(.25)"
   ]
  },
  {
   "cell_type": "code",
   "execution_count": 6,
   "id": "fb39ecc1",
   "metadata": {},
   "outputs": [
    {
     "ename": "NameError",
     "evalue": "name 'figure' is not defined",
     "output_type": "error",
     "traceback": [
      "\u001b[1;31m---------------------------------------------------------------------------\u001b[0m",
      "\u001b[1;31mNameError\u001b[0m                                 Traceback (most recent call last)",
      "\u001b[1;32m~\\AppData\\Local\\Temp/ipykernel_8356/1572355788.py\u001b[0m in \u001b[0;36m<module>\u001b[1;34m\u001b[0m\n\u001b[0;32m      1\u001b[0m \u001b[1;32mimport\u001b[0m \u001b[0mmatplotlib\u001b[0m\u001b[1;33m.\u001b[0m\u001b[0mpyplot\u001b[0m \u001b[1;32mas\u001b[0m \u001b[0mplt\u001b[0m\u001b[1;33m\u001b[0m\u001b[1;33m\u001b[0m\u001b[0m\n\u001b[1;32m----> 2\u001b[1;33m \u001b[0mfigure\u001b[0m\u001b[1;33m(\u001b[0m\u001b[0mfigsize\u001b[0m\u001b[1;33m=\u001b[0m\u001b[1;33m(\u001b[0m\u001b[1;36m8\u001b[0m\u001b[1;33m,\u001b[0m \u001b[1;36m6\u001b[0m\u001b[1;33m)\u001b[0m\u001b[1;33m,\u001b[0m \u001b[0mdpi\u001b[0m\u001b[1;33m=\u001b[0m\u001b[1;36m80\u001b[0m\u001b[1;33m)\u001b[0m\u001b[1;33m\u001b[0m\u001b[1;33m\u001b[0m\u001b[0m\n\u001b[0m\u001b[0;32m      3\u001b[0m \u001b[0mplt\u001b[0m\u001b[1;33m.\u001b[0m\u001b[0mplot\u001b[0m\u001b[1;33m(\u001b[0m\u001b[0mdata\u001b[0m\u001b[1;33m[\u001b[0m\u001b[1;34m'Perp_ask-Spot_bid'\u001b[0m\u001b[1;33m]\u001b[0m\u001b[1;33m.\u001b[0m\u001b[0mrolling\u001b[0m\u001b[1;33m(\u001b[0m\u001b[0mlen\u001b[0m\u001b[1;33m(\u001b[0m\u001b[0mdata\u001b[0m\u001b[1;33m)\u001b[0m\u001b[1;33m//\u001b[0m\u001b[1;36m24\u001b[0m\u001b[1;33m)\u001b[0m\u001b[1;33m.\u001b[0m\u001b[0mquantile\u001b[0m\u001b[1;33m(\u001b[0m\u001b[1;36m.75\u001b[0m\u001b[1;33m)\u001b[0m\u001b[1;33m)\u001b[0m\u001b[1;33m\u001b[0m\u001b[1;33m\u001b[0m\u001b[0m\n\u001b[0;32m      4\u001b[0m \u001b[0mplt\u001b[0m\u001b[1;33m.\u001b[0m\u001b[0mplot\u001b[0m\u001b[1;33m(\u001b[0m\u001b[0mdata\u001b[0m\u001b[1;33m[\u001b[0m\u001b[1;34m'Perp_bid-Spot_ask'\u001b[0m\u001b[1;33m]\u001b[0m\u001b[1;33m.\u001b[0m\u001b[0mrolling\u001b[0m\u001b[1;33m(\u001b[0m\u001b[0mlen\u001b[0m\u001b[1;33m(\u001b[0m\u001b[0mdata\u001b[0m\u001b[1;33m)\u001b[0m\u001b[1;33m//\u001b[0m\u001b[1;36m24\u001b[0m\u001b[1;33m)\u001b[0m\u001b[1;33m.\u001b[0m\u001b[0mquantile\u001b[0m\u001b[1;33m(\u001b[0m\u001b[1;36m.75\u001b[0m\u001b[1;33m)\u001b[0m\u001b[1;33m)\u001b[0m\u001b[1;33m\u001b[0m\u001b[1;33m\u001b[0m\u001b[0m\n",
      "\u001b[1;31mNameError\u001b[0m: name 'figure' is not defined"
     ]
    }
   ],
   "source": [
    "import matplotlib.pyplot as plt\n",
    "ply.\n",
    "plt.plot(data['Perp_ask-Spot_bid'].rolling(len(data)//24).quantile(.75))\n",
    "plt.plot(data['Perp_bid-Spot_ask'].rolling(len(data)//24).quantile(.75))"
   ]
  },
  {
   "cell_type": "code",
   "execution_count": null,
   "id": "c679ea22",
   "metadata": {},
   "outputs": [],
   "source": []
  }
 ],
 "metadata": {
  "kernelspec": {
   "display_name": "Python 3 (ipykernel)",
   "language": "python",
   "name": "python3"
  },
  "language_info": {
   "codemirror_mode": {
    "name": "ipython",
    "version": 3
   },
   "file_extension": ".py",
   "mimetype": "text/x-python",
   "name": "python",
   "nbconvert_exporter": "python",
   "pygments_lexer": "ipython3",
   "version": "3.9.7"
  }
 },
 "nbformat": 4,
 "nbformat_minor": 5
}
