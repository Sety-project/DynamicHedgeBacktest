{
 "cells": [
  {
   "cell_type": "code",
   "execution_count": 12,
   "id": "d1f06e22",
   "metadata": {},
   "outputs": [
    {
     "data": {
      "text/plain": "       Unnamed: 0  timestamp_millis  first_timestamp_millis  \\\n1               1     1630972507000            1.630973e+12   \n2               2     1630972508000            1.630973e+12   \n3               3     1630972509000            1.630973e+12   \n4               4     1630972510000            1.630973e+12   \n5               5     1630972511000            1.630973e+12   \n...           ...               ...                     ...   \n86282       86689     1631059195000            1.631059e+12   \n86283       86690     1631059196000            1.631059e+12   \n86284       86691     1631059197000            1.631059e+12   \n86285       86692     1631059198000            1.631059e+12   \n86286       86693     1631059199000            1.631059e+12   \n\n       last_timestamp_millis   vwap   open  close   high    low  volume  \\\n1               1.630973e+12  13896  13896  13896  13897  13896  101560   \n2               1.630973e+12  13897  13897  13898  13898  13897   65369   \n3               1.630973e+12  13898  13898  13899  13899  13898   32468   \n4               1.630973e+12  13899  13899  13899  13900  13899   34836   \n5               1.630973e+12  13899  13900  13899  13900  13899   11772   \n...                      ...    ...    ...    ...    ...    ...     ...   \n86282           1.631059e+12  11262  11262  11264  11264  11262   24741   \n86283           1.631059e+12  11268  11263  11273  11273  11263  670018   \n86284           1.631059e+12  11276  11273  11278  11279  11273  706235   \n86285           1.631059e+12  11281  11279  11283  11283  11278  680958   \n86286           1.631059e+12  11289  11284  11292  11293  11283  795901   \n\n       volume_given  directional_volume  abs_directional_volume  delta_price  \\\n1             25819              4992.2                  4992.2       0.0000   \n2             30541               428.7                   428.7       0.0001   \n3              1925              2861.8                  2861.8       0.0001   \n4              9703              1543.0                  1543.0       0.0001   \n5              5217               133.8                   133.8       0.0000   \n...             ...                 ...                     ...          ...   \n86282          5456              1382.9                  1382.9       0.0005   \n86283         24020             62197.8                 62197.8       0.0006   \n86284        312905              8042.5                  8042.5       0.0008   \n86285        420930            -16090.2                 16090.2       0.0005   \n86286         25442             74501.7                 74501.7       0.0008   \n\n            logQ  \n1       8.515632  \n2       6.060757  \n3       7.959206  \n4       7.341484  \n5       4.896346  \n...          ...  \n86282   7.231938  \n86283  11.038075  \n86284   8.992495  \n86285  -9.685966  \n86286  11.218577  \n\n[86286 rows x 15 columns]",
      "text/html": "<div>\n<style scoped>\n    .dataframe tbody tr th:only-of-type {\n        vertical-align: middle;\n    }\n\n    .dataframe tbody tr th {\n        vertical-align: top;\n    }\n\n    .dataframe thead th {\n        text-align: right;\n    }\n</style>\n<table border=\"1\" class=\"dataframe\">\n  <thead>\n    <tr style=\"text-align: right;\">\n      <th></th>\n      <th>Unnamed: 0</th>\n      <th>timestamp_millis</th>\n      <th>first_timestamp_millis</th>\n      <th>last_timestamp_millis</th>\n      <th>vwap</th>\n      <th>open</th>\n      <th>close</th>\n      <th>high</th>\n      <th>low</th>\n      <th>volume</th>\n      <th>volume_given</th>\n      <th>directional_volume</th>\n      <th>abs_directional_volume</th>\n      <th>delta_price</th>\n      <th>logQ</th>\n    </tr>\n  </thead>\n  <tbody>\n    <tr>\n      <th>1</th>\n      <td>1</td>\n      <td>1630972507000</td>\n      <td>1.630973e+12</td>\n      <td>1.630973e+12</td>\n      <td>13896</td>\n      <td>13896</td>\n      <td>13896</td>\n      <td>13897</td>\n      <td>13896</td>\n      <td>101560</td>\n      <td>25819</td>\n      <td>4992.2</td>\n      <td>4992.2</td>\n      <td>0.0000</td>\n      <td>8.515632</td>\n    </tr>\n    <tr>\n      <th>2</th>\n      <td>2</td>\n      <td>1630972508000</td>\n      <td>1.630973e+12</td>\n      <td>1.630973e+12</td>\n      <td>13897</td>\n      <td>13897</td>\n      <td>13898</td>\n      <td>13898</td>\n      <td>13897</td>\n      <td>65369</td>\n      <td>30541</td>\n      <td>428.7</td>\n      <td>428.7</td>\n      <td>0.0001</td>\n      <td>6.060757</td>\n    </tr>\n    <tr>\n      <th>3</th>\n      <td>3</td>\n      <td>1630972509000</td>\n      <td>1.630973e+12</td>\n      <td>1.630973e+12</td>\n      <td>13898</td>\n      <td>13898</td>\n      <td>13899</td>\n      <td>13899</td>\n      <td>13898</td>\n      <td>32468</td>\n      <td>1925</td>\n      <td>2861.8</td>\n      <td>2861.8</td>\n      <td>0.0001</td>\n      <td>7.959206</td>\n    </tr>\n    <tr>\n      <th>4</th>\n      <td>4</td>\n      <td>1630972510000</td>\n      <td>1.630973e+12</td>\n      <td>1.630973e+12</td>\n      <td>13899</td>\n      <td>13899</td>\n      <td>13899</td>\n      <td>13900</td>\n      <td>13899</td>\n      <td>34836</td>\n      <td>9703</td>\n      <td>1543.0</td>\n      <td>1543.0</td>\n      <td>0.0001</td>\n      <td>7.341484</td>\n    </tr>\n    <tr>\n      <th>5</th>\n      <td>5</td>\n      <td>1630972511000</td>\n      <td>1.630973e+12</td>\n      <td>1.630973e+12</td>\n      <td>13899</td>\n      <td>13900</td>\n      <td>13899</td>\n      <td>13900</td>\n      <td>13899</td>\n      <td>11772</td>\n      <td>5217</td>\n      <td>133.8</td>\n      <td>133.8</td>\n      <td>0.0000</td>\n      <td>4.896346</td>\n    </tr>\n    <tr>\n      <th>...</th>\n      <td>...</td>\n      <td>...</td>\n      <td>...</td>\n      <td>...</td>\n      <td>...</td>\n      <td>...</td>\n      <td>...</td>\n      <td>...</td>\n      <td>...</td>\n      <td>...</td>\n      <td>...</td>\n      <td>...</td>\n      <td>...</td>\n      <td>...</td>\n      <td>...</td>\n    </tr>\n    <tr>\n      <th>86282</th>\n      <td>86689</td>\n      <td>1631059195000</td>\n      <td>1.631059e+12</td>\n      <td>1.631059e+12</td>\n      <td>11262</td>\n      <td>11262</td>\n      <td>11264</td>\n      <td>11264</td>\n      <td>11262</td>\n      <td>24741</td>\n      <td>5456</td>\n      <td>1382.9</td>\n      <td>1382.9</td>\n      <td>0.0005</td>\n      <td>7.231938</td>\n    </tr>\n    <tr>\n      <th>86283</th>\n      <td>86690</td>\n      <td>1631059196000</td>\n      <td>1.631059e+12</td>\n      <td>1.631059e+12</td>\n      <td>11268</td>\n      <td>11263</td>\n      <td>11273</td>\n      <td>11273</td>\n      <td>11263</td>\n      <td>670018</td>\n      <td>24020</td>\n      <td>62197.8</td>\n      <td>62197.8</td>\n      <td>0.0006</td>\n      <td>11.038075</td>\n    </tr>\n    <tr>\n      <th>86284</th>\n      <td>86691</td>\n      <td>1631059197000</td>\n      <td>1.631059e+12</td>\n      <td>1.631059e+12</td>\n      <td>11276</td>\n      <td>11273</td>\n      <td>11278</td>\n      <td>11279</td>\n      <td>11273</td>\n      <td>706235</td>\n      <td>312905</td>\n      <td>8042.5</td>\n      <td>8042.5</td>\n      <td>0.0008</td>\n      <td>8.992495</td>\n    </tr>\n    <tr>\n      <th>86285</th>\n      <td>86692</td>\n      <td>1631059198000</td>\n      <td>1.631059e+12</td>\n      <td>1.631059e+12</td>\n      <td>11281</td>\n      <td>11279</td>\n      <td>11283</td>\n      <td>11283</td>\n      <td>11278</td>\n      <td>680958</td>\n      <td>420930</td>\n      <td>-16090.2</td>\n      <td>16090.2</td>\n      <td>0.0005</td>\n      <td>-9.685966</td>\n    </tr>\n    <tr>\n      <th>86286</th>\n      <td>86693</td>\n      <td>1631059199000</td>\n      <td>1.631059e+12</td>\n      <td>1.631059e+12</td>\n      <td>11289</td>\n      <td>11284</td>\n      <td>11292</td>\n      <td>11293</td>\n      <td>11283</td>\n      <td>795901</td>\n      <td>25442</td>\n      <td>74501.7</td>\n      <td>74501.7</td>\n      <td>0.0008</td>\n      <td>11.218577</td>\n    </tr>\n  </tbody>\n</table>\n<p>86286 rows × 15 columns</p>\n</div>"
     },
     "execution_count": 1,
     "metadata": {},
     "output_type": "execute_result"
    },
    {
     "data": {
      "text/plain": "       Unnamed: 0  timestamp_millis  first_timestamp_millis  \\\n1               1     1630972507000            1.630973e+12   \n2               2     1630972508000            1.630973e+12   \n3               3     1630972509000            1.630973e+12   \n4               4     1630972510000            1.630973e+12   \n5               5     1630972511000            1.630973e+12   \n...           ...               ...                     ...   \n86282       86689     1631059195000            1.631059e+12   \n86283       86690     1631059196000            1.631059e+12   \n86284       86691     1631059197000            1.631059e+12   \n86285       86692     1631059198000            1.631059e+12   \n86286       86693     1631059199000            1.631059e+12   \n\n       last_timestamp_millis   vwap   open  close   high    low  volume  \\\n1               1.630973e+12  13896  13896  13896  13897  13896  101560   \n2               1.630973e+12  13897  13897  13898  13898  13897   65369   \n3               1.630973e+12  13898  13898  13899  13899  13898   32468   \n4               1.630973e+12  13899  13899  13899  13900  13899   34836   \n5               1.630973e+12  13899  13900  13899  13900  13899   11772   \n...                      ...    ...    ...    ...    ...    ...     ...   \n86282           1.631059e+12  11262  11262  11264  11264  11262   24741   \n86283           1.631059e+12  11268  11263  11273  11273  11263  670018   \n86284           1.631059e+12  11276  11273  11278  11279  11273  706235   \n86285           1.631059e+12  11281  11279  11283  11283  11278  680958   \n86286           1.631059e+12  11289  11284  11292  11293  11283  795901   \n\n       volume_given  directional_volume  abs_directional_volume  delta_price  \\\n1             25819              4992.2                  4992.2       0.0000   \n2             30541               428.7                   428.7       0.0001   \n3              1925              2861.8                  2861.8       0.0001   \n4              9703              1543.0                  1543.0       0.0001   \n5              5217               133.8                   133.8       0.0000   \n...             ...                 ...                     ...          ...   \n86282          5456              1382.9                  1382.9       0.0005   \n86283         24020             62197.8                 62197.8       0.0006   \n86284        312905              8042.5                  8042.5       0.0008   \n86285        420930            -16090.2                 16090.2       0.0005   \n86286         25442             74501.7                 74501.7       0.0008   \n\n            logQ  \n1       8.515632  \n2       6.060757  \n3       7.959206  \n4       7.341484  \n5       4.896346  \n...          ...  \n86282   7.231938  \n86283  11.038075  \n86284   8.992495  \n86285  -9.685966  \n86286  11.218577  \n\n[86286 rows x 15 columns]",
      "text/html": "<div>\n<style scoped>\n    .dataframe tbody tr th:only-of-type {\n        vertical-align: middle;\n    }\n\n    .dataframe tbody tr th {\n        vertical-align: top;\n    }\n\n    .dataframe thead th {\n        text-align: right;\n    }\n</style>\n<table border=\"1\" class=\"dataframe\">\n  <thead>\n    <tr style=\"text-align: right;\">\n      <th></th>\n      <th>Unnamed: 0</th>\n      <th>timestamp_millis</th>\n      <th>first_timestamp_millis</th>\n      <th>last_timestamp_millis</th>\n      <th>vwap</th>\n      <th>open</th>\n      <th>close</th>\n      <th>high</th>\n      <th>low</th>\n      <th>volume</th>\n      <th>volume_given</th>\n      <th>directional_volume</th>\n      <th>abs_directional_volume</th>\n      <th>delta_price</th>\n      <th>logQ</th>\n    </tr>\n  </thead>\n  <tbody>\n    <tr>\n      <th>1</th>\n      <td>1</td>\n      <td>1630972507000</td>\n      <td>1.630973e+12</td>\n      <td>1.630973e+12</td>\n      <td>13896</td>\n      <td>13896</td>\n      <td>13896</td>\n      <td>13897</td>\n      <td>13896</td>\n      <td>101560</td>\n      <td>25819</td>\n      <td>4992.2</td>\n      <td>4992.2</td>\n      <td>0.0000</td>\n      <td>8.515632</td>\n    </tr>\n    <tr>\n      <th>2</th>\n      <td>2</td>\n      <td>1630972508000</td>\n      <td>1.630973e+12</td>\n      <td>1.630973e+12</td>\n      <td>13897</td>\n      <td>13897</td>\n      <td>13898</td>\n      <td>13898</td>\n      <td>13897</td>\n      <td>65369</td>\n      <td>30541</td>\n      <td>428.7</td>\n      <td>428.7</td>\n      <td>0.0001</td>\n      <td>6.060757</td>\n    </tr>\n    <tr>\n      <th>3</th>\n      <td>3</td>\n      <td>1630972509000</td>\n      <td>1.630973e+12</td>\n      <td>1.630973e+12</td>\n      <td>13898</td>\n      <td>13898</td>\n      <td>13899</td>\n      <td>13899</td>\n      <td>13898</td>\n      <td>32468</td>\n      <td>1925</td>\n      <td>2861.8</td>\n      <td>2861.8</td>\n      <td>0.0001</td>\n      <td>7.959206</td>\n    </tr>\n    <tr>\n      <th>4</th>\n      <td>4</td>\n      <td>1630972510000</td>\n      <td>1.630973e+12</td>\n      <td>1.630973e+12</td>\n      <td>13899</td>\n      <td>13899</td>\n      <td>13899</td>\n      <td>13900</td>\n      <td>13899</td>\n      <td>34836</td>\n      <td>9703</td>\n      <td>1543.0</td>\n      <td>1543.0</td>\n      <td>0.0001</td>\n      <td>7.341484</td>\n    </tr>\n    <tr>\n      <th>5</th>\n      <td>5</td>\n      <td>1630972511000</td>\n      <td>1.630973e+12</td>\n      <td>1.630973e+12</td>\n      <td>13899</td>\n      <td>13900</td>\n      <td>13899</td>\n      <td>13900</td>\n      <td>13899</td>\n      <td>11772</td>\n      <td>5217</td>\n      <td>133.8</td>\n      <td>133.8</td>\n      <td>0.0000</td>\n      <td>4.896346</td>\n    </tr>\n    <tr>\n      <th>...</th>\n      <td>...</td>\n      <td>...</td>\n      <td>...</td>\n      <td>...</td>\n      <td>...</td>\n      <td>...</td>\n      <td>...</td>\n      <td>...</td>\n      <td>...</td>\n      <td>...</td>\n      <td>...</td>\n      <td>...</td>\n      <td>...</td>\n      <td>...</td>\n      <td>...</td>\n    </tr>\n    <tr>\n      <th>86282</th>\n      <td>86689</td>\n      <td>1631059195000</td>\n      <td>1.631059e+12</td>\n      <td>1.631059e+12</td>\n      <td>11262</td>\n      <td>11262</td>\n      <td>11264</td>\n      <td>11264</td>\n      <td>11262</td>\n      <td>24741</td>\n      <td>5456</td>\n      <td>1382.9</td>\n      <td>1382.9</td>\n      <td>0.0005</td>\n      <td>7.231938</td>\n    </tr>\n    <tr>\n      <th>86283</th>\n      <td>86690</td>\n      <td>1631059196000</td>\n      <td>1.631059e+12</td>\n      <td>1.631059e+12</td>\n      <td>11268</td>\n      <td>11263</td>\n      <td>11273</td>\n      <td>11273</td>\n      <td>11263</td>\n      <td>670018</td>\n      <td>24020</td>\n      <td>62197.8</td>\n      <td>62197.8</td>\n      <td>0.0006</td>\n      <td>11.038075</td>\n    </tr>\n    <tr>\n      <th>86284</th>\n      <td>86691</td>\n      <td>1631059197000</td>\n      <td>1.631059e+12</td>\n      <td>1.631059e+12</td>\n      <td>11276</td>\n      <td>11273</td>\n      <td>11278</td>\n      <td>11279</td>\n      <td>11273</td>\n      <td>706235</td>\n      <td>312905</td>\n      <td>8042.5</td>\n      <td>8042.5</td>\n      <td>0.0008</td>\n      <td>8.992495</td>\n    </tr>\n    <tr>\n      <th>86285</th>\n      <td>86692</td>\n      <td>1631059198000</td>\n      <td>1.631059e+12</td>\n      <td>1.631059e+12</td>\n      <td>11281</td>\n      <td>11279</td>\n      <td>11283</td>\n      <td>11283</td>\n      <td>11278</td>\n      <td>680958</td>\n      <td>420930</td>\n      <td>-16090.2</td>\n      <td>16090.2</td>\n      <td>0.0005</td>\n      <td>-9.685966</td>\n    </tr>\n    <tr>\n      <th>86286</th>\n      <td>86693</td>\n      <td>1631059199000</td>\n      <td>1.631059e+12</td>\n      <td>1.631059e+12</td>\n      <td>11289</td>\n      <td>11284</td>\n      <td>11292</td>\n      <td>11293</td>\n      <td>11283</td>\n      <td>795901</td>\n      <td>25442</td>\n      <td>74501.7</td>\n      <td>74501.7</td>\n      <td>0.0008</td>\n      <td>11.218577</td>\n    </tr>\n  </tbody>\n</table>\n<p>86286 rows × 15 columns</p>\n</div>"
     },
     "execution_count": 12,
     "metadata": {},
     "output_type": "execute_result"
    }
   ],
   "source": [
    "import market_data as md\n",
    "import pandas as pd\n",
    "import scipy as sp\n",
    "import numpy as np\n",
    "my_market_data = md.MarketData('XRPUSDT')\n",
    "secondly_bars = pd.read_csv('C:/Users/Tibor/Data/formatted/secondly/20210907_Binance_XRPUSDT_secondly_bars.csv')\n",
    "secondly_bars['directional_volume'] = (secondly_bars['volume'] - 2*secondly_bars['volume_given'])/10\n",
    "secondly_bars['abs_directional_volume'] = abs(secondly_bars['directional_volume'])\n",
    "secondly_bars['delta_price'] = secondly_bars['vwap'].diff(periods=1)/10000\n",
    "secondly_bars['logQ'] = secondly_bars['directional_volume'].apply(lambda v: -np.log(-v) if v < 0 else np.log(v) if v > 0 else 0)\n",
    "secondly_bars = secondly_bars.dropna()\n",
    "secondly_bars"
   ]
  },
  {
   "cell_type": "code",
   "execution_count": 13,
   "id": "b028645e",
   "metadata": {},
   "outputs": [
    {
     "data": {
      "text/plain": "[<matplotlib.lines.Line2D at 0x1bd7b980040>]"
     },
     "execution_count": 2,
     "metadata": {},
     "output_type": "execute_result"
    },
    {
     "data": {
      "text/plain": "<Figure size 432x288 with 1 Axes>",
      "image/png": "[encoded data removed]"
     },
     "metadata": {
      "needs_background": "light"
     },
     "output_type": "display_data"
    },
    {
     "data": {
      "text/plain": "[<matplotlib.lines.Line2D at 0x1bd7f92f610>]"
     },
     "execution_count": 13,
     "metadata": {},
     "output_type": "execute_result"
    },
    {
     "data": {
      "text/plain": "<Figure size 432x288 with 1 Axes>",
      "image/png": "[encoded data removed]"
     },
     "metadata": {
      "needs_background": "light"
     },
     "output_type": "display_data"
    }
   ],
   "source": [
    "import matplotlib.pyplot as pp\n",
    "v = np.array(secondly_bars['abs_directional_volume'])\n",
    "v = v[np.nonzero(v)]\n",
    "v = v[v < 1e6]\n",
    "count, bin_edges = np.histogram(v, 50)\n",
    "bin_centres = (bin_edges[1:] + bin_edges[:-1])/2\n",
    "pp.plot(bin_centres, count)"
   ]
  },
  {
   "cell_type": "code",
   "execution_count": 14,
   "id": "76248229",
   "metadata": {},
   "outputs": [
    {
     "data": {
      "text/plain": "(array([1.21659893e+00, 1.31559015e+14]),\n array([[4.57682001e-03, 7.71716579e+12],\n        [7.71716579e+12, 1.30858431e+28]]))"
     },
     "execution_count": 3,
     "metadata": {},
     "output_type": "execute_result"
    },
    {
     "data": {
      "text/plain": "(array([1.21659893e+00, 1.31559015e+14]),\n array([[4.57682001e-03, 7.71716579e+12],\n        [7.71716579e+12, 1.30858431e+28]]))"
     },
     "execution_count": 14,
     "metadata": {},
     "output_type": "execute_result"
    }
   ],
   "source": [
    "from scipy.optimize import curve_fit\n",
    "def fit2(x, a, b):\n",
    "    return -(1+a)*x + np.log(b)\n",
    "curve_fit(fit2, np.log(bin_centres), np.log(count))"
   ]
  },
  {
   "cell_type": "code",
   "execution_count": 15,
   "id": "35e5fe75",
   "metadata": {},
   "outputs": [
    {
     "data": {
      "text/plain": "<matplotlib.collections.PathCollection at 0x1bd7ba29d30>"
     },
     "execution_count": 4,
     "metadata": {},
     "output_type": "execute_result"
    },
    {
     "data": {
      "text/plain": "<Figure size 432x288 with 1 Axes>",
      "image/png": "[encoded data removed]"
     },
     "metadata": {
      "needs_background": "light"
     },
     "output_type": "display_data"
    },
    {
     "data": {
      "text/plain": "<matplotlib.collections.PathCollection at 0x1bd00429fa0>"
     },
     "execution_count": 15,
     "metadata": {},
     "output_type": "execute_result"
    },
    {
     "data": {
      "text/plain": "<Figure size 432x288 with 1 Axes>",
      "image/png": "[encoded data removed]"
     },
     "metadata": {
      "needs_background": "light"
     },
     "output_type": "display_data"
    }
   ],
   "source": [
    "logQ = secondly_bars['logQ']\n",
    "deltaP = secondly_bars['delta_price']\n",
    "pp.scatter(logQ, deltaP)"
   ]
  },
  {
   "cell_type": "code",
   "execution_count": 16,
   "id": "4119177f",
   "metadata": {},
   "outputs": [
    {
     "data": {
      "text/plain": "LinregressResult(slope=2.064369991528115e-05, intercept=-7.459704758244412e-07, rvalue=0.278127576673403, pvalue=0.0, stderr=2.427144756974467e-07, intercept_stderr=2.152813036812192e-06)"
     },
     "execution_count": 5,
     "metadata": {},
     "output_type": "execute_result"
    },
    {
     "data": {
      "text/plain": "LinregressResult(slope=2.064369991528115e-05, intercept=-7.459704758244412e-07, rvalue=0.278127576673403, pvalue=0.0, stderr=2.427144756974467e-07, intercept_stderr=2.152813036812192e-06)"
     },
     "execution_count": 16,
     "metadata": {},
     "output_type": "execute_result"
    }
   ],
   "source": [
    "from scipy.stats import linregress\n",
    "logQ = secondly_bars['logQ']\n",
    "deltaP = secondly_bars['delta_price']\n",
    "linregress(logQ, deltaP)"
   ]
  },
  {
   "cell_type": "code",
   "execution_count": 17,
   "id": "5bebde33",
   "metadata": {},
   "outputs": [
    {
     "data": {
      "text/plain": "86286"
     },
     "execution_count": 6,
     "metadata": {},
     "output_type": "execute_result"
    },
    {
     "data": {
      "text/plain": "86286"
     },
     "execution_count": 17,
     "metadata": {},
     "output_type": "execute_result"
    }
   ],
   "source": [
    "len(logQ)"
   ]
  },
  {
   "cell_type": "code",
   "execution_count": 18,
   "id": "dc16aebf",
   "metadata": {},
   "outputs": [
    {
     "data": {
      "text/plain": "86286"
     },
     "execution_count": 7,
     "metadata": {},
     "output_type": "execute_result"
    },
    {
     "data": {
      "text/plain": "86286"
     },
     "execution_count": 18,
     "metadata": {},
     "output_type": "execute_result"
    }
   ],
   "source": [
    "len(deltaP)"
   ]
  },
  {
   "cell_type": "code",
   "execution_count": 19,
   "id": "b3a96bbf",
   "metadata": {},
   "outputs": [
    {
     "data": {
      "text/plain": "(array([3747.83511374]), array([[1941.16191226]]))"
     },
     "execution_count": 8,
     "metadata": {},
     "output_type": "execute_result"
    },
    {
     "data": {
      "text/plain": "(array([3747.83511374]), array([[1941.16191226]]))"
     },
     "execution_count": 19,
     "metadata": {},
     "output_type": "execute_result"
    }
   ],
   "source": [
    "from scipy.optimize import curve_fit\n",
    "def linfit(x,m):\n",
    "    return m*x\n",
    "curve_fit(linfit, deltaP, logQ)"
   ]
  },
  {
   "cell_type": "code",
   "execution_count": 20,
   "id": "5828934b",
   "metadata": {},
   "outputs": [
    {
     "data": {
      "text/plain": "4559.6169114647555"
     },
     "execution_count": 9,
     "metadata": {},
     "output_type": "execute_result"
    },
    {
     "data": {
      "text/plain": "4559.6169114647555"
     },
     "execution_count": 20,
     "metadata": {},
     "output_type": "execute_result"
    }
   ],
   "source": [
    "3747.83511374*1.21660019"
   ]
  },
  {
   "cell_type": "code",
   "execution_count": 21,
   "id": "ffdbaf4b",
   "metadata": {},
   "outputs": [
    {
     "data": {
      "text/plain": "4.333523669503477e-07"
     },
     "execution_count": 10,
     "metadata": {},
     "output_type": "execute_result"
    },
    {
     "data": {
      "text/plain": "4.333523669503477e-07"
     },
     "execution_count": 21,
     "metadata": {},
     "output_type": "execute_result"
    }
   ],
   "source": [
    "np.var(deltaP)"
   ]
  },
  {
   "cell_type": "code",
   "execution_count": 22,
   "id": "1e0979d9",
   "metadata": {},
   "outputs": [
    {
     "data": {
      "text/plain": "0.00032461411804184944"
     },
     "execution_count": 11,
     "metadata": {},
     "output_type": "execute_result"
    },
    {
     "data": {
      "text/plain": "0.00032461411804184944"
     },
     "execution_count": 22,
     "metadata": {},
     "output_type": "execute_result"
    }
   ],
   "source": [
    "(1/3747.8351137)*1.21660019\n"
   ]
  },
  {
   "cell_type": "code",
   "execution_count": 22,
   "id": "88075b48",
   "metadata": {},
   "outputs": [],
   "source": []
  }
 ],
 "metadata": {
  "kernelspec": {
   "display_name": "Python 3 (ipykernel)",
   "language": "python",
   "name": "python3"
  },
  "language_info": {
   "codemirror_mode": {
    "name": "ipython",
    "version": 3
   },
   "file_extension": ".py",
   "mimetype": "text/x-python",
   "name": "python",
   "nbconvert_exporter": "python",
   "pygments_lexer": "ipython3",
   "version": "3.9.7"
  }
 },
 "nbformat": 4,
 "nbformat_minor": 5
}