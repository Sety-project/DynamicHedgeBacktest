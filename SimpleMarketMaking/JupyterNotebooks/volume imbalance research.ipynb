{
 "cells": [
  {
   "cell_type": "code",
   "execution_count": 21,
   "id": "6fe911fe",
   "metadata": {},
   "outputs": [
    {
     "data": {
      "text/html": [
       "<div>\n",
       "<style scoped>\n",
       "    .dataframe tbody tr th:only-of-type {\n",
       "        vertical-align: middle;\n",
       "    }\n",
       "\n",
       "    .dataframe tbody tr th {\n",
       "        vertical-align: top;\n",
       "    }\n",
       "\n",
       "    .dataframe thead th {\n",
       "        text-align: right;\n",
       "    }\n",
       "</style>\n",
       "<table border=\"1\" class=\"dataframe\">\n",
       "  <thead>\n",
       "    <tr style=\"text-align: right;\">\n",
       "      <th></th>\n",
       "      <th>Unnamed: 0</th>\n",
       "      <th>timestamp_millis</th>\n",
       "      <th>first_timestamp_millis</th>\n",
       "      <th>last_timestamp_millis</th>\n",
       "      <th>vwap</th>\n",
       "      <th>open</th>\n",
       "      <th>close</th>\n",
       "      <th>high</th>\n",
       "      <th>low</th>\n",
       "      <th>volume</th>\n",
       "      <th>volume_given</th>\n",
       "      <th>volume_paid</th>\n",
       "      <th>volume_imbalance</th>\n",
       "      <th>return</th>\n",
       "    </tr>\n",
       "  </thead>\n",
       "  <tbody>\n",
       "    <tr>\n",
       "      <th>0</th>\n",
       "      <td>0</td>\n",
       "      <td>1630972506000</td>\n",
       "      <td>1.630973e+12</td>\n",
       "      <td>1.630973e+12</td>\n",
       "      <td>13896</td>\n",
       "      <td>13894</td>\n",
       "      <td>13896</td>\n",
       "      <td>13897</td>\n",
       "      <td>13894</td>\n",
       "      <td>103811</td>\n",
       "      <td>10087</td>\n",
       "      <td>93724</td>\n",
       "      <td>0.805666</td>\n",
       "      <td>0.000000</td>\n",
       "    </tr>\n",
       "    <tr>\n",
       "      <th>1</th>\n",
       "      <td>1</td>\n",
       "      <td>1630972507000</td>\n",
       "      <td>1.630973e+12</td>\n",
       "      <td>1.630973e+12</td>\n",
       "      <td>13896</td>\n",
       "      <td>13896</td>\n",
       "      <td>13896</td>\n",
       "      <td>13897</td>\n",
       "      <td>13896</td>\n",
       "      <td>101560</td>\n",
       "      <td>25819</td>\n",
       "      <td>75741</td>\n",
       "      <td>0.491552</td>\n",
       "      <td>0.000072</td>\n",
       "    </tr>\n",
       "    <tr>\n",
       "      <th>2</th>\n",
       "      <td>2</td>\n",
       "      <td>1630972508000</td>\n",
       "      <td>1.630973e+12</td>\n",
       "      <td>1.630973e+12</td>\n",
       "      <td>13897</td>\n",
       "      <td>13897</td>\n",
       "      <td>13898</td>\n",
       "      <td>13898</td>\n",
       "      <td>13897</td>\n",
       "      <td>65369</td>\n",
       "      <td>30541</td>\n",
       "      <td>34828</td>\n",
       "      <td>0.065582</td>\n",
       "      <td>0.000072</td>\n",
       "    </tr>\n",
       "    <tr>\n",
       "      <th>3</th>\n",
       "      <td>3</td>\n",
       "      <td>1630972509000</td>\n",
       "      <td>1.630973e+12</td>\n",
       "      <td>1.630973e+12</td>\n",
       "      <td>13898</td>\n",
       "      <td>13898</td>\n",
       "      <td>13899</td>\n",
       "      <td>13899</td>\n",
       "      <td>13898</td>\n",
       "      <td>32468</td>\n",
       "      <td>1925</td>\n",
       "      <td>30543</td>\n",
       "      <td>0.881422</td>\n",
       "      <td>0.000072</td>\n",
       "    </tr>\n",
       "    <tr>\n",
       "      <th>4</th>\n",
       "      <td>4</td>\n",
       "      <td>1630972510000</td>\n",
       "      <td>1.630973e+12</td>\n",
       "      <td>1.630973e+12</td>\n",
       "      <td>13899</td>\n",
       "      <td>13899</td>\n",
       "      <td>13899</td>\n",
       "      <td>13900</td>\n",
       "      <td>13899</td>\n",
       "      <td>34836</td>\n",
       "      <td>9703</td>\n",
       "      <td>25133</td>\n",
       "      <td>0.442933</td>\n",
       "      <td>0.000000</td>\n",
       "    </tr>\n",
       "    <tr>\n",
       "      <th>...</th>\n",
       "      <td>...</td>\n",
       "      <td>...</td>\n",
       "      <td>...</td>\n",
       "      <td>...</td>\n",
       "      <td>...</td>\n",
       "      <td>...</td>\n",
       "      <td>...</td>\n",
       "      <td>...</td>\n",
       "      <td>...</td>\n",
       "      <td>...</td>\n",
       "      <td>...</td>\n",
       "      <td>...</td>\n",
       "      <td>...</td>\n",
       "      <td>...</td>\n",
       "    </tr>\n",
       "    <tr>\n",
       "      <th>86281</th>\n",
       "      <td>86688</td>\n",
       "      <td>1631059194000</td>\n",
       "      <td>1.631059e+12</td>\n",
       "      <td>1.631059e+12</td>\n",
       "      <td>11257</td>\n",
       "      <td>11255</td>\n",
       "      <td>11261</td>\n",
       "      <td>11261</td>\n",
       "      <td>11254</td>\n",
       "      <td>658574</td>\n",
       "      <td>22039</td>\n",
       "      <td>636535</td>\n",
       "      <td>0.933071</td>\n",
       "      <td>0.000444</td>\n",
       "    </tr>\n",
       "    <tr>\n",
       "      <th>86282</th>\n",
       "      <td>86689</td>\n",
       "      <td>1631059195000</td>\n",
       "      <td>1.631059e+12</td>\n",
       "      <td>1.631059e+12</td>\n",
       "      <td>11262</td>\n",
       "      <td>11262</td>\n",
       "      <td>11264</td>\n",
       "      <td>11264</td>\n",
       "      <td>11262</td>\n",
       "      <td>24741</td>\n",
       "      <td>5456</td>\n",
       "      <td>19285</td>\n",
       "      <td>0.558951</td>\n",
       "      <td>0.000533</td>\n",
       "    </tr>\n",
       "    <tr>\n",
       "      <th>86283</th>\n",
       "      <td>86690</td>\n",
       "      <td>1631059196000</td>\n",
       "      <td>1.631059e+12</td>\n",
       "      <td>1.631059e+12</td>\n",
       "      <td>11268</td>\n",
       "      <td>11263</td>\n",
       "      <td>11273</td>\n",
       "      <td>11273</td>\n",
       "      <td>11263</td>\n",
       "      <td>670018</td>\n",
       "      <td>24020</td>\n",
       "      <td>645998</td>\n",
       "      <td>0.928300</td>\n",
       "      <td>0.000710</td>\n",
       "    </tr>\n",
       "    <tr>\n",
       "      <th>86284</th>\n",
       "      <td>86691</td>\n",
       "      <td>1631059197000</td>\n",
       "      <td>1.631059e+12</td>\n",
       "      <td>1.631059e+12</td>\n",
       "      <td>11276</td>\n",
       "      <td>11273</td>\n",
       "      <td>11278</td>\n",
       "      <td>11279</td>\n",
       "      <td>11273</td>\n",
       "      <td>706235</td>\n",
       "      <td>312905</td>\n",
       "      <td>393330</td>\n",
       "      <td>0.113879</td>\n",
       "      <td>0.000443</td>\n",
       "    </tr>\n",
       "    <tr>\n",
       "      <th>86285</th>\n",
       "      <td>86692</td>\n",
       "      <td>1631059198000</td>\n",
       "      <td>1.631059e+12</td>\n",
       "      <td>1.631059e+12</td>\n",
       "      <td>11281</td>\n",
       "      <td>11279</td>\n",
       "      <td>11283</td>\n",
       "      <td>11283</td>\n",
       "      <td>11278</td>\n",
       "      <td>680958</td>\n",
       "      <td>420930</td>\n",
       "      <td>260028</td>\n",
       "      <td>-0.236288</td>\n",
       "      <td>0.000709</td>\n",
       "    </tr>\n",
       "  </tbody>\n",
       "</table>\n",
       "<p>86286 rows × 14 columns</p>\n",
       "</div>"
      ],
      "text/plain": [
       "       Unnamed: 0  timestamp_millis  first_timestamp_millis  \\\n",
       "0               0     1630972506000            1.630973e+12   \n",
       "1               1     1630972507000            1.630973e+12   \n",
       "2               2     1630972508000            1.630973e+12   \n",
       "3               3     1630972509000            1.630973e+12   \n",
       "4               4     1630972510000            1.630973e+12   \n",
       "...           ...               ...                     ...   \n",
       "86281       86688     1631059194000            1.631059e+12   \n",
       "86282       86689     1631059195000            1.631059e+12   \n",
       "86283       86690     1631059196000            1.631059e+12   \n",
       "86284       86691     1631059197000            1.631059e+12   \n",
       "86285       86692     1631059198000            1.631059e+12   \n",
       "\n",
       "       last_timestamp_millis   vwap   open  close   high    low  volume  \\\n",
       "0               1.630973e+12  13896  13894  13896  13897  13894  103811   \n",
       "1               1.630973e+12  13896  13896  13896  13897  13896  101560   \n",
       "2               1.630973e+12  13897  13897  13898  13898  13897   65369   \n",
       "3               1.630973e+12  13898  13898  13899  13899  13898   32468   \n",
       "4               1.630973e+12  13899  13899  13899  13900  13899   34836   \n",
       "...                      ...    ...    ...    ...    ...    ...     ...   \n",
       "86281           1.631059e+12  11257  11255  11261  11261  11254  658574   \n",
       "86282           1.631059e+12  11262  11262  11264  11264  11262   24741   \n",
       "86283           1.631059e+12  11268  11263  11273  11273  11263  670018   \n",
       "86284           1.631059e+12  11276  11273  11278  11279  11273  706235   \n",
       "86285           1.631059e+12  11281  11279  11283  11283  11278  680958   \n",
       "\n",
       "       volume_given  volume_paid  volume_imbalance    return  \n",
       "0             10087        93724          0.805666  0.000000  \n",
       "1             25819        75741          0.491552  0.000072  \n",
       "2             30541        34828          0.065582  0.000072  \n",
       "3              1925        30543          0.881422  0.000072  \n",
       "4              9703        25133          0.442933  0.000000  \n",
       "...             ...          ...               ...       ...  \n",
       "86281         22039       636535          0.933071  0.000444  \n",
       "86282          5456        19285          0.558951  0.000533  \n",
       "86283         24020       645998          0.928300  0.000710  \n",
       "86284        312905       393330          0.113879  0.000443  \n",
       "86285        420930       260028         -0.236288  0.000709  \n",
       "\n",
       "[86286 rows x 14 columns]"
      ]
     },
     "execution_count": 21,
     "metadata": {},
     "output_type": "execute_result"
    }
   ],
   "source": [
    "import pandas as pd\n",
    "data = pd.read_csv('C:/Users/Tibor/Data/formatted/secondly/20210907_Binance_XRPUSDT_secondly_bars.csv')\n",
    "data['volume_paid'] = data['volume'] - data['volume_given']\n",
    "data['volume_imbalance'] = (data['volume_paid'] - data['volume_given'])/data['volume']\n",
    "data['return'] = data['vwap'].diff(1).shift(-1)/data['vwap']\n",
    "data = data.dropna()\n",
    "data"
   ]
  },
  {
   "cell_type": "code",
   "execution_count": 51,
   "id": "ef60b354",
   "metadata": {},
   "outputs": [
    {
     "data": {
      "text/plain": [
       "<matplotlib.lines.Line2D at 0x20fb3d56d60>"
      ]
     },
     "execution_count": 51,
     "metadata": {},
     "output_type": "execute_result"
    },
    {
     "data": {
      "image/png": "[encoded data removed]",
      "text/plain": [
       "<Figure size 720x720 with 1 Axes>"
      ]
     },
     "metadata": {
      "needs_background": "light"
     },
     "output_type": "display_data"
    }
   ],
   "source": [
    "from matplotlib.pyplot import scatter\n",
    "import matplotlib.pyplot as plt\n",
    "plt.figure(figsize=(10,10))\n",
    "scatter(data['volume_imbalance'], data['return'], s=1)\n",
    "plt.axhline(np.mean(data['return']) + np.std(data['return']),color='r')\n",
    "plt.axhline(np.mean(data['return']) - np.std(data['return']),color='r')"
   ]
  },
  {
   "cell_type": "code",
   "execution_count": 54,
   "id": "0b19adfa",
   "metadata": {},
   "outputs": [
    {
     "data": {
      "text/plain": [
       "5.4383871061372084e-05"
      ]
     },
     "execution_count": 54,
     "metadata": {},
     "output_type": "execute_result"
    }
   ],
   "source": [
    "import numpy as np\n",
    "np.mean(np.array(data['return'][data['volume_imbalance'] > 0.9]))"
   ]
  },
  {
   "cell_type": "code",
   "execution_count": 68,
   "id": "405f32fd",
   "metadata": {},
   "outputs": [
    {
     "data": {
      "text/plain": [
       "(array([4.47854145e-05]), array([[2.16318007e-12]]))"
      ]
     },
     "execution_count": 68,
     "metadata": {},
     "output_type": "execute_result"
    }
   ],
   "source": [
    "import numpy as np\n",
    "from scipy.optimize import curve_fit\n",
    "def curve(x, a):\n",
    "    return -np.exp(-a*x) + np.exp(a*x)\n",
    "curve_fit(curve, data['volume_imbalance'], data['return'])"
   ]
  },
  {
   "cell_type": "code",
   "execution_count": 75,
   "id": "21f7d913",
   "metadata": {},
   "outputs": [
    {
     "data": {
      "text/plain": [
       "0.00023830820898300246"
      ]
     },
     "execution_count": 75,
     "metadata": {},
     "output_type": "execute_result"
    }
   ],
   "source": [
    "sum((data['return'][data['volume_imbalance'] > 0.99] - curve(data['volume_imbalance'][data['volume_imbalance'] > 0.99], 4.47854145e-05))**2)"
   ]
  },
  {
   "cell_type": "code",
   "execution_count": 70,
   "id": "81597254",
   "metadata": {},
   "outputs": [
    {
     "data": {
      "text/plain": [
       "(array([8.95726087e-05]), array([[8.6530449e-12]]))"
      ]
     },
     "execution_count": 70,
     "metadata": {},
     "output_type": "execute_result"
    }
   ],
   "source": [
    "import numpy as np\n",
    "from scipy.optimize import curve_fit\n",
    "def curve2(x, a):\n",
    "    return a*x\n",
    "curve_fit(curve2, data['volume_imbalance'], data['return'])"
   ]
  },
  {
   "cell_type": "code",
   "execution_count": 76,
   "id": "18804f93",
   "metadata": {},
   "outputs": [
    {
     "data": {
      "text/plain": [
       "0.00023831029015921552"
      ]
     },
     "execution_count": 76,
     "metadata": {},
     "output_type": "execute_result"
    }
   ],
   "source": [
    "sum((data['return'][data['volume_imbalance'] > 0.99] - curve2(data['volume_imbalance'][data['volume_imbalance'] > 0.99], 8.95726087e-05))**2)"
   ]
  },
  {
   "cell_type": "code",
   "execution_count": null,
   "id": "e69d6fbd",
   "metadata": {},
   "outputs": [],
   "source": []
  }
 ],
 "metadata": {
  "kernelspec": {
   "display_name": "Python 3 (ipykernel)",
   "language": "python",
   "name": "python3"
  },
  "language_info": {
   "codemirror_mode": {
    "name": "ipython",
    "version": 3
   },
   "file_extension": ".py",
   "mimetype": "text/x-python",
   "name": "python",
   "nbconvert_exporter": "python",
   "pygments_lexer": "ipython3",
   "version": "3.9.7"
  }
 },
 "nbformat": 4,
 "nbformat_minor": 5
}
