{
 "cells": [
  {
   "cell_type": "code",
   "execution_count": 213,
   "id": "ab2406f3",
   "metadata": {},
   "outputs": [],
   "source": [
    "import numpy as np\n",
    "import pandas as pd\n",
    "import matplotlib.pyplot as plt\n",
    "from scipy.optimize import fsolve\n",
    "from scipy.stats import gaussian_kde\n",
    "from murre.analytics import ExponentialMovingVariance\n",
    "from murre.analytics import BollingerBands\n",
    "import plotly.express as px\n",
    "import plotly.graph_objects as go\n",
    "import math\n",
    "from scipy.optimize import curve_fit\n",
    "from sklearn.linear_model import LinearRegression"
   ]
  },
  {
   "cell_type": "code",
   "execution_count": 282,
   "id": "e00a4493",
   "metadata": {},
   "outputs": [
    {
     "name": "stderr",
     "output_type": "stream",
     "text": [
      "/Users/rahmanw/opt/anaconda3/envs/auk/lib/python3.8/site-packages/pandas/core/arraylike.py:364: RuntimeWarning:\n",
      "\n",
      "divide by zero encountered in log\n",
      "\n",
      "/Users/rahmanw/opt/anaconda3/envs/auk/lib/python3.8/site-packages/pandas/core/arraylike.py:364: RuntimeWarning:\n",
      "\n",
      "invalid value encountered in log\n",
      "\n"
     ]
    }
   ],
   "source": [
    "data = pd.read_parquet('./murre/output/20210907_62984_trade_second_signals.parquet')\n",
    "#data = pd.read_parquet('./murre/output/20210921_4627_trade_second_signals.parquet')\n",
    "data['delta_vwap'] = data['vwap'].diff(periods=1)\n",
    "data['volume'] = data['volume']\n",
    "data['volume_given'] = data['volume_given']\n",
    "data['volume_paid'] = data['volume'] - data['volume_given']\n",
    "data['direct.volume'] = data['volume_paid'] - data['volume_given']\n",
    "data['effective_volume'] = data['direct.volume'].abs()\n",
    "data['lnQ'] = np.where(data['direct.volume'] < 0, -np.log(-data['direct.volume']), np.log(data['direct.volume']) )"
   ]
  },
  {
   "cell_type": "code",
   "execution_count": 283,
   "id": "c4c19dc8",
   "metadata": {},
   "outputs": [
    {
     "data": {
      "text/html": [
       "<div>\n",
       "<style scoped>\n",
       "    .dataframe tbody tr th:only-of-type {\n",
       "        vertical-align: middle;\n",
       "    }\n",
       "\n",
       "    .dataframe tbody tr th {\n",
       "        vertical-align: top;\n",
       "    }\n",
       "\n",
       "    .dataframe thead th {\n",
       "        text-align: right;\n",
       "    }\n",
       "</style>\n",
       "<table border=\"1\" class=\"dataframe\">\n",
       "  <thead>\n",
       "    <tr style=\"text-align: right;\">\n",
       "      <th></th>\n",
       "      <th>timestamp_seconds</th>\n",
       "      <th>qty</th>\n",
       "      <th>vwap</th>\n",
       "      <th>delta_vwap_em_var</th>\n",
       "      <th>bollinger_upper</th>\n",
       "      <th>bollinger_lower</th>\n",
       "      <th>bollinger_7sma</th>\n",
       "      <th>volume</th>\n",
       "      <th>volume_given</th>\n",
       "      <th>volume_paid</th>\n",
       "      <th>delta_vwap</th>\n",
       "      <th>direct.volume</th>\n",
       "      <th>effective_volume</th>\n",
       "      <th>lnQ</th>\n",
       "    </tr>\n",
       "  </thead>\n",
       "  <tbody>\n",
       "    <tr>\n",
       "      <th>0</th>\n",
       "      <td>1.630973e+18</td>\n",
       "      <td>16668.3</td>\n",
       "      <td>1.389649</td>\n",
       "      <td>NaN</td>\n",
       "      <td>NaN</td>\n",
       "      <td>NaN</td>\n",
       "      <td>1.389649</td>\n",
       "      <td>16668.3</td>\n",
       "      <td>7295.7</td>\n",
       "      <td>9372.6</td>\n",
       "      <td>NaN</td>\n",
       "      <td>2076.9</td>\n",
       "      <td>2076.9</td>\n",
       "      <td>7.638632</td>\n",
       "    </tr>\n",
       "    <tr>\n",
       "      <th>1</th>\n",
       "      <td>1.630973e+18</td>\n",
       "      <td>10156.0</td>\n",
       "      <td>1.389775</td>\n",
       "      <td>NaN</td>\n",
       "      <td>1.389890</td>\n",
       "      <td>1.389534</td>\n",
       "      <td>1.389712</td>\n",
       "      <td>10156.0</td>\n",
       "      <td>2581.9</td>\n",
       "      <td>7574.1</td>\n",
       "      <td>0.000126</td>\n",
       "      <td>4992.2</td>\n",
       "      <td>4992.2</td>\n",
       "      <td>8.515632</td>\n",
       "    </tr>\n",
       "    <tr>\n",
       "      <th>2</th>\n",
       "      <td>1.630973e+18</td>\n",
       "      <td>6499.4</td>\n",
       "      <td>1.389800</td>\n",
       "      <td>NaN</td>\n",
       "      <td>1.389903</td>\n",
       "      <td>1.389579</td>\n",
       "      <td>1.389741</td>\n",
       "      <td>6499.4</td>\n",
       "      <td>3054.3</td>\n",
       "      <td>3445.1</td>\n",
       "      <td>0.000025</td>\n",
       "      <td>390.8</td>\n",
       "      <td>390.8</td>\n",
       "      <td>5.968196</td>\n",
       "    </tr>\n",
       "    <tr>\n",
       "      <th>3</th>\n",
       "      <td>1.630973e+18</td>\n",
       "      <td>3284.7</td>\n",
       "      <td>1.389993</td>\n",
       "      <td>NaN</td>\n",
       "      <td>1.390089</td>\n",
       "      <td>1.389520</td>\n",
       "      <td>1.389804</td>\n",
       "      <td>3284.7</td>\n",
       "      <td>192.6</td>\n",
       "      <td>3092.1</td>\n",
       "      <td>0.000193</td>\n",
       "      <td>2899.5</td>\n",
       "      <td>2899.5</td>\n",
       "      <td>7.972294</td>\n",
       "    </tr>\n",
       "    <tr>\n",
       "      <th>4</th>\n",
       "      <td>1.630973e+18</td>\n",
       "      <td>3188.3</td>\n",
       "      <td>1.390079</td>\n",
       "      <td>NaN</td>\n",
       "      <td>1.390207</td>\n",
       "      <td>1.389511</td>\n",
       "      <td>1.389859</td>\n",
       "      <td>3188.3</td>\n",
       "      <td>675.0</td>\n",
       "      <td>2513.3</td>\n",
       "      <td>0.000086</td>\n",
       "      <td>1838.3</td>\n",
       "      <td>1838.3</td>\n",
       "      <td>7.516597</td>\n",
       "    </tr>\n",
       "    <tr>\n",
       "      <th>...</th>\n",
       "      <td>...</td>\n",
       "      <td>...</td>\n",
       "      <td>...</td>\n",
       "      <td>...</td>\n",
       "      <td>...</td>\n",
       "      <td>...</td>\n",
       "      <td>...</td>\n",
       "      <td>...</td>\n",
       "      <td>...</td>\n",
       "      <td>...</td>\n",
       "      <td>...</td>\n",
       "      <td>...</td>\n",
       "      <td>...</td>\n",
       "      <td>...</td>\n",
       "    </tr>\n",
       "    <tr>\n",
       "      <th>86690</th>\n",
       "      <td>1.631059e+18</td>\n",
       "      <td>59036.3</td>\n",
       "      <td>1.126818</td>\n",
       "      <td>0.000001</td>\n",
       "      <td>1.126166</td>\n",
       "      <td>1.121575</td>\n",
       "      <td>1.123871</td>\n",
       "      <td>59036.3</td>\n",
       "      <td>2402.1</td>\n",
       "      <td>56634.2</td>\n",
       "      <td>0.000880</td>\n",
       "      <td>54232.1</td>\n",
       "      <td>54232.1</td>\n",
       "      <td>10.901028</td>\n",
       "    </tr>\n",
       "    <tr>\n",
       "      <th>86691</th>\n",
       "      <td>1.631059e+18</td>\n",
       "      <td>49795.7</td>\n",
       "      <td>1.127547</td>\n",
       "      <td>0.000002</td>\n",
       "      <td>1.126886</td>\n",
       "      <td>1.121274</td>\n",
       "      <td>1.124080</td>\n",
       "      <td>49795.7</td>\n",
       "      <td>2364.9</td>\n",
       "      <td>47430.8</td>\n",
       "      <td>0.000729</td>\n",
       "      <td>45065.9</td>\n",
       "      <td>45065.9</td>\n",
       "      <td>10.715881</td>\n",
       "    </tr>\n",
       "    <tr>\n",
       "      <th>86692</th>\n",
       "      <td>1.631059e+18</td>\n",
       "      <td>97022.2</td>\n",
       "      <td>1.128072</td>\n",
       "      <td>0.000002</td>\n",
       "      <td>1.127616</td>\n",
       "      <td>1.121013</td>\n",
       "      <td>1.124314</td>\n",
       "      <td>97022.2</td>\n",
       "      <td>71018.9</td>\n",
       "      <td>26003.3</td>\n",
       "      <td>0.000526</td>\n",
       "      <td>-45015.6</td>\n",
       "      <td>45015.6</td>\n",
       "      <td>-10.714764</td>\n",
       "    </tr>\n",
       "    <tr>\n",
       "      <th>86693</th>\n",
       "      <td>1.631059e+18</td>\n",
       "      <td>79439.8</td>\n",
       "      <td>1.128917</td>\n",
       "      <td>0.000003</td>\n",
       "      <td>1.128447</td>\n",
       "      <td>1.120720</td>\n",
       "      <td>1.124583</td>\n",
       "      <td>79439.8</td>\n",
       "      <td>2531.5</td>\n",
       "      <td>76908.3</td>\n",
       "      <td>0.000844</td>\n",
       "      <td>74376.8</td>\n",
       "      <td>74376.8</td>\n",
       "      <td>11.216899</td>\n",
       "    </tr>\n",
       "    <tr>\n",
       "      <th>86694</th>\n",
       "      <td>1.631059e+18</td>\n",
       "      <td>4632.7</td>\n",
       "      <td>1.129192</td>\n",
       "      <td>0.000004</td>\n",
       "      <td>1.129199</td>\n",
       "      <td>1.120562</td>\n",
       "      <td>1.124881</td>\n",
       "      <td>4632.7</td>\n",
       "      <td>4475.3</td>\n",
       "      <td>157.4</td>\n",
       "      <td>0.000275</td>\n",
       "      <td>-4317.9</td>\n",
       "      <td>4317.9</td>\n",
       "      <td>-8.370524</td>\n",
       "    </tr>\n",
       "  </tbody>\n",
       "</table>\n",
       "<p>86695 rows × 14 columns</p>\n",
       "</div>"
      ],
      "text/plain": [
       "       timestamp_seconds      qty      vwap  delta_vwap_em_var  \\\n",
       "0           1.630973e+18  16668.3  1.389649                NaN   \n",
       "1           1.630973e+18  10156.0  1.389775                NaN   \n",
       "2           1.630973e+18   6499.4  1.389800                NaN   \n",
       "3           1.630973e+18   3284.7  1.389993                NaN   \n",
       "4           1.630973e+18   3188.3  1.390079                NaN   \n",
       "...                  ...      ...       ...                ...   \n",
       "86690       1.631059e+18  59036.3  1.126818           0.000001   \n",
       "86691       1.631059e+18  49795.7  1.127547           0.000002   \n",
       "86692       1.631059e+18  97022.2  1.128072           0.000002   \n",
       "86693       1.631059e+18  79439.8  1.128917           0.000003   \n",
       "86694       1.631059e+18   4632.7  1.129192           0.000004   \n",
       "\n",
       "       bollinger_upper  bollinger_lower  bollinger_7sma   volume  \\\n",
       "0                  NaN              NaN        1.389649  16668.3   \n",
       "1             1.389890         1.389534        1.389712  10156.0   \n",
       "2             1.389903         1.389579        1.389741   6499.4   \n",
       "3             1.390089         1.389520        1.389804   3284.7   \n",
       "4             1.390207         1.389511        1.389859   3188.3   \n",
       "...                ...              ...             ...      ...   \n",
       "86690         1.126166         1.121575        1.123871  59036.3   \n",
       "86691         1.126886         1.121274        1.124080  49795.7   \n",
       "86692         1.127616         1.121013        1.124314  97022.2   \n",
       "86693         1.128447         1.120720        1.124583  79439.8   \n",
       "86694         1.129199         1.120562        1.124881   4632.7   \n",
       "\n",
       "       volume_given  volume_paid  delta_vwap  direct.volume  effective_volume  \\\n",
       "0            7295.7       9372.6         NaN         2076.9            2076.9   \n",
       "1            2581.9       7574.1    0.000126         4992.2            4992.2   \n",
       "2            3054.3       3445.1    0.000025          390.8             390.8   \n",
       "3             192.6       3092.1    0.000193         2899.5            2899.5   \n",
       "4             675.0       2513.3    0.000086         1838.3            1838.3   \n",
       "...             ...          ...         ...            ...               ...   \n",
       "86690        2402.1      56634.2    0.000880        54232.1           54232.1   \n",
       "86691        2364.9      47430.8    0.000729        45065.9           45065.9   \n",
       "86692       71018.9      26003.3    0.000526       -45015.6           45015.6   \n",
       "86693        2531.5      76908.3    0.000844        74376.8           74376.8   \n",
       "86694        4475.3        157.4    0.000275        -4317.9            4317.9   \n",
       "\n",
       "             lnQ  \n",
       "0       7.638632  \n",
       "1       8.515632  \n",
       "2       5.968196  \n",
       "3       7.972294  \n",
       "4       7.516597  \n",
       "...          ...  \n",
       "86690  10.901028  \n",
       "86691  10.715881  \n",
       "86692 -10.714764  \n",
       "86693  11.216899  \n",
       "86694  -8.370524  \n",
       "\n",
       "[86695 rows x 14 columns]"
      ]
     },
     "execution_count": 283,
     "metadata": {},
     "output_type": "execute_result"
    }
   ],
   "source": [
    "data"
   ]
  },
  {
   "cell_type": "code",
   "execution_count": 284,
   "id": "8e8b7ae3",
   "metadata": {},
   "outputs": [
    {
     "data": {
      "text/plain": [
       "2975372.3000000003"
      ]
     },
     "execution_count": 284,
     "metadata": {},
     "output_type": "execute_result"
    }
   ],
   "source": [
    "np.max(data['effective_volume'])"
   ]
  },
  {
   "cell_type": "code",
   "execution_count": 285,
   "id": "3459057b",
   "metadata": {},
   "outputs": [
    {
     "data": {
      "image/png": "[encoded data removed]",
      "text/plain": [
       "<Figure size 640x480 with 1 Axes>"
      ]
     },
     "metadata": {},
     "output_type": "display_data"
    }
   ],
   "source": [
    "plt.figure()\n",
    "plt.scatter(pd.to_datetime(data['timestamp_seconds']),data['delta_vwap_em_var'], s = 5)\n",
    "plt.show()"
   ]
  },
  {
   "cell_type": "code",
   "execution_count": 286,
   "id": "d5bc71d2",
   "metadata": {},
   "outputs": [
    {
     "data": {
      "text/plain": [
       "4.373025066225806e-06"
      ]
     },
     "execution_count": 286,
     "metadata": {},
     "output_type": "execute_result"
    }
   ],
   "source": [
    "np.mean(data['delta_vwap_em_var'])"
   ]
  },
  {
   "cell_type": "code",
   "execution_count": 287,
   "id": "880409b3",
   "metadata": {},
   "outputs": [],
   "source": [
    "def fit(x, a, b):\n",
    "    return a * x ** (-1 - b)"
   ]
  },
  {
   "cell_type": "code",
   "execution_count": 327,
   "id": "316271d7",
   "metadata": {},
   "outputs": [],
   "source": [
    "def fit2(x, a, b):\n",
    "    return -(1+a)*x + np.log(b)"
   ]
  },
  {
   "cell_type": "code",
   "execution_count": 328,
   "id": "1f5952ce",
   "metadata": {},
   "outputs": [
    {
     "name": "stderr",
     "output_type": "stream",
     "text": [
      "No handles with labels found to put in legend.\n"
     ]
    },
    {
     "data": {
      "image/png": "[encoded data removed]",
      "text/plain": [
       "<Figure size 640x480 with 1 Axes>"
      ]
     },
     "metadata": {},
     "output_type": "display_data"
    }
   ],
   "source": [
    "plt.figure()\n",
    "df = data[(data['effective_volume'] > 0.1) & (data['effective_volume'] <200000)]\n",
    "#df = data\n",
    "n, bins, weights = plt.hist(df['effective_volume'],bins=30,alpha=0.3)\n",
    "\n",
    "x = []\n",
    "for i in range(len(bins) - 2):\n",
    "    x.append((bins[i] + bins[i+1])/2)\n",
    "x = np.array(x)\n",
    "#plt.plot(x2,y2, color='g', label = f'{popt[0]}*x^(-1 - {popt[1]})')\n",
    "\n",
    "plt.scatter(x,n[:-1], color='r',s=5)\n",
    "plt.plot(x,n[:-1], color='r')\n",
    "plt.legend()\n",
    "plt.show()\n"
   ]
  },
  {
   "cell_type": "code",
   "execution_count": 329,
   "id": "3da5fdc9",
   "metadata": {},
   "outputs": [
    {
     "name": "stdout",
     "output_type": "stream",
     "text": [
      "[43026. 12625.  6840.  4382.  3181.  2296.  1792.  1395.  1169.   938.\n",
      "   751.   654.   555.   538.   486.   466.   378.   336.   302.   278.\n",
      "   233.   195.   203.   182.   165.   152.   151.   161.   129.   159.] [1.00000000e-01 6.66140333e+03 1.33227067e+04 1.99840100e+04\n",
      " 2.66453133e+04 3.33066167e+04 3.99679200e+04 4.66292233e+04\n",
      " 5.32905267e+04 5.99518300e+04 6.66131333e+04 7.32744367e+04\n",
      " 7.99357400e+04 8.65970433e+04 9.32583467e+04 9.99196500e+04\n",
      " 1.06580953e+05 1.13242257e+05 1.19903560e+05 1.26564863e+05\n",
      " 1.33226167e+05 1.39887470e+05 1.46548773e+05 1.53210077e+05\n",
      " 1.59871380e+05 1.66532683e+05 1.73193987e+05 1.79855290e+05\n",
      " 1.86516593e+05 1.93177897e+05 1.99839200e+05]\n"
     ]
    }
   ],
   "source": [
    "print(n,bins)"
   ]
  },
  {
   "cell_type": "code",
   "execution_count": 330,
   "id": "fc4ca179",
   "metadata": {},
   "outputs": [
    {
     "name": "stdout",
     "output_type": "stream",
     "text": [
      "params [5.16302477e-01 1.57879203e+10]\n"
     ]
    },
    {
     "name": "stderr",
     "output_type": "stream",
     "text": [
      "<ipython-input-287-d0774ff319f0>:2: RuntimeWarning:\n",
      "\n",
      "overflow encountered in double_scalars\n",
      "\n"
     ]
    }
   ],
   "source": [
    "n2 = np.log(n)\n",
    "x2 = np.log(x)\n",
    "#popt, pcov = curve_fit(fit, x, n[:-1], method='trf')\n",
    "popt, pcov = curve_fit(fit2, x2, n2[:-1], method='trf')\n",
    "print('params', popt)\n",
    "x2 = np.linspace(df['effective_volume'].min(), df['effective_volume'].max(),1000)\n",
    "y2 = [fit(i, popt[0], popt[1]) for i in x2]"
   ]
  },
  {
   "cell_type": "code",
   "execution_count": 335,
   "id": "59a325a4",
   "metadata": {},
   "outputs": [
    {
     "data": {
      "image/png": "[encoded data removed]",
      "text/plain": [
       "<Figure size 640x480 with 1 Axes>"
      ]
     },
     "metadata": {},
     "output_type": "display_data"
    }
   ],
   "source": [
    "sim_x = np.linspace(7,12,100)\n",
    "sim_y = [fit2(i,popt[0],popt[1]) for i in sim_x]\n",
    "\n",
    "plt.figure()\n",
    "plt.scatter(np.log(x), n2[:-1], label = 'data', color='r', s= 5)\n",
    "plt.plot(sim_x,sim_y, label=f'fit ln(f(x)) = -(1 + {popt[0]})ln(x) + ln({popt[1]})', color='g', linewidth = 1)\n",
    "plt.legend()\n",
    "plt.show()"
   ]
  },
  {
   "cell_type": "code",
   "execution_count": 326,
   "id": "44a854a9",
   "metadata": {},
   "outputs": [
    {
     "data": {
      "image/png": "[encoded data removed]",
      "text/plain": [
       "<Figure size 640x480 with 1 Axes>"
      ]
     },
     "metadata": {},
     "output_type": "display_data"
    }
   ],
   "source": [
    "plt.figure()\n",
    "\n",
    "x = abs(data['delta_vwap'])\n",
    "y = data['effective_volume']#np.log(abs(data['effective_volume']))\n",
    "df = pd.DataFrame({'dvwap':x,'lnQ':y})\n",
    "df = df[np.isfinite(df['dvwap'])]\n",
    "df = df[np.isfinite(df['lnQ'])]\n",
    "plt.scatter(x,y,s=1)\n",
    "#plt.xlim((0,8000))\n",
    "plt.show()"
   ]
  },
  {
   "cell_type": "code",
   "execution_count": 236,
   "id": "a0ad8f69",
   "metadata": {},
   "outputs": [
    {
     "data": {
      "text/plain": [
       "array([62366357.53231835])"
      ]
     },
     "execution_count": 236,
     "metadata": {},
     "output_type": "execute_result"
    }
   ],
   "source": [
    "def linfit(x,m):\n",
    "    return m*x\n",
    "\n",
    "curve_fit(linfit, df['dvwap'].values,df['lnQ'].values)[0]"
   ]
  }
 ],
 "metadata": {
  "kernelspec": {
   "display_name": "Python 3 (ipykernel)",
   "language": "python",
   "name": "python3"
  },
  "language_info": {
   "codemirror_mode": {
    "name": "ipython",
    "version": 3
   },
   "file_extension": ".py",
   "mimetype": "text/x-python",
   "name": "python",
   "nbconvert_exporter": "python",
   "pygments_lexer": "ipython3",
   "version": "3.7.11"
  }
 },
 "nbformat": 4,
 "nbformat_minor": 5
}
