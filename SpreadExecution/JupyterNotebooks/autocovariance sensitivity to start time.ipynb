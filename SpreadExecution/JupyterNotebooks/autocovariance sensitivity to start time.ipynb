{
 "cells": [
  {
   "cell_type": "code",
   "execution_count": 2,
   "id": "1023d0df",
   "metadata": {},
   "outputs": [
    {
     "data": {
      "text/html": [
       "<div>\n",
       "<style scoped>\n",
       "    .dataframe tbody tr th:only-of-type {\n",
       "        vertical-align: middle;\n",
       "    }\n",
       "\n",
       "    .dataframe tbody tr th {\n",
       "        vertical-align: top;\n",
       "    }\n",
       "\n",
       "    .dataframe thead th {\n",
       "        text-align: right;\n",
       "    }\n",
       "</style>\n",
       "<table border=\"1\" class=\"dataframe\">\n",
       "  <thead>\n",
       "    <tr style=\"text-align: right;\">\n",
       "      <th></th>\n",
       "      <th>vwap_original</th>\n",
       "      <th>vwap_shifted</th>\n",
       "    </tr>\n",
       "  </thead>\n",
       "  <tbody>\n",
       "    <tr>\n",
       "      <th>1635379202</th>\n",
       "      <td>6.069503</td>\n",
       "      <td>6.069503</td>\n",
       "    </tr>\n",
       "    <tr>\n",
       "      <th>1635379203</th>\n",
       "      <td>1.930497</td>\n",
       "      <td>1.930497</td>\n",
       "    </tr>\n",
       "    <tr>\n",
       "      <th>1635379204</th>\n",
       "      <td>0.010449</td>\n",
       "      <td>0.010449</td>\n",
       "    </tr>\n",
       "    <tr>\n",
       "      <th>1635379205</th>\n",
       "      <td>5.066474</td>\n",
       "      <td>5.066474</td>\n",
       "    </tr>\n",
       "    <tr>\n",
       "      <th>1635379206</th>\n",
       "      <td>-1.076923</td>\n",
       "      <td>-1.076923</td>\n",
       "    </tr>\n",
       "    <tr>\n",
       "      <th>...</th>\n",
       "      <td>...</td>\n",
       "      <td>...</td>\n",
       "    </tr>\n",
       "    <tr>\n",
       "      <th>1635465595</th>\n",
       "      <td>0.000000</td>\n",
       "      <td>0.000000</td>\n",
       "    </tr>\n",
       "    <tr>\n",
       "      <th>1635465596</th>\n",
       "      <td>0.000000</td>\n",
       "      <td>0.000000</td>\n",
       "    </tr>\n",
       "    <tr>\n",
       "      <th>1635465597</th>\n",
       "      <td>0.000000</td>\n",
       "      <td>0.000000</td>\n",
       "    </tr>\n",
       "    <tr>\n",
       "      <th>1635465598</th>\n",
       "      <td>0.000000</td>\n",
       "      <td>0.000000</td>\n",
       "    </tr>\n",
       "    <tr>\n",
       "      <th>1635465599</th>\n",
       "      <td>-6.967519</td>\n",
       "      <td>-6.967519</td>\n",
       "    </tr>\n",
       "  </tbody>\n",
       "</table>\n",
       "<p>86398 rows × 2 columns</p>\n",
       "</div>"
      ],
      "text/plain": [
       "            vwap_original  vwap_shifted\n",
       "1635379202       6.069503      6.069503\n",
       "1635379203       1.930497      1.930497\n",
       "1635379204       0.010449      0.010449\n",
       "1635379205       5.066474      5.066474\n",
       "1635379206      -1.076923     -1.076923\n",
       "...                   ...           ...\n",
       "1635465595       0.000000      0.000000\n",
       "1635465596       0.000000      0.000000\n",
       "1635465597       0.000000      0.000000\n",
       "1635465598       0.000000      0.000000\n",
       "1635465599      -6.967519     -6.967519\n",
       "\n",
       "[86398 rows x 2 columns]"
      ]
     },
     "execution_count": 2,
     "metadata": {},
     "output_type": "execute_result"
    }
   ],
   "source": [
    "import puffin.tardis_importer as ti\n",
    "import numpy as np\n",
    "import pandas as pd\n",
    "symbol = 'BTC'\n",
    "spot_trades = ti.generate_trade_data_from_gzip(f'{symbol}/USD', f'./datasets/ftx_trades_2021-10-28_{symbol}-USD.csv.gz')\n",
    "spot_trades['timestamp'] = spot_trades['exchange_timestamp_nanos'] // 1000000000\n",
    "spot_trades['timestamp_shifted'] = (spot_trades['exchange_timestamp_nanos'] + 50000000) // 1000000000\n",
    "def vwap(df):\n",
    "    return np.average(df['price'], weights=df['size'])\n",
    "data = pd.DataFrame(index=range(spot_trades['timestamp'].min(), spot_trades['timestamp'].max() + 1))\n",
    "original = spot_trades[['timestamp', 'price', 'size']]\n",
    "original = original.groupby('timestamp').apply(vwap).to_frame('vwap_original')\n",
    "shifted = spot_trades[['timestamp_shifted', 'price', 'size']]\n",
    "shifted = shifted.groupby('timestamp_shifted').apply(vwap).to_frame('vwap_shifted')\n",
    "data = pd.merge(left=data, right=original, how='left', left_index=True, right_index=True)\n",
    "data = pd.merge(left=data, right=shifted, how='left', left_index=True, right_index=True)\n",
    "data = data.fillna(method='ffill')\n",
    "data = data.diff()\n",
    "data = data.dropna(how='any')\n",
    "data"
   ]
  },
  {
   "cell_type": "code",
   "execution_count": 3,
   "id": "aea7bb0e",
   "metadata": {},
   "outputs": [
    {
     "data": {
      "text/plain": [
       "0.12161161137989306"
      ]
     },
     "execution_count": 3,
     "metadata": {},
     "output_type": "execute_result"
    }
   ],
   "source": [
    "len(data[data.vwap_original != data.vwap_shifted])/len(data)"
   ]
  },
  {
   "cell_type": "code",
   "execution_count": 4,
   "id": "70d9ec8b",
   "metadata": {},
   "outputs": [
    {
     "data": {
      "text/html": [
       "<div>\n",
       "<style scoped>\n",
       "    .dataframe tbody tr th:only-of-type {\n",
       "        vertical-align: middle;\n",
       "    }\n",
       "\n",
       "    .dataframe tbody tr th {\n",
       "        vertical-align: top;\n",
       "    }\n",
       "\n",
       "    .dataframe thead th {\n",
       "        text-align: right;\n",
       "    }\n",
       "</style>\n",
       "<table border=\"1\" class=\"dataframe\">\n",
       "  <thead>\n",
       "    <tr style=\"text-align: right;\">\n",
       "      <th></th>\n",
       "      <th>vwap_original</th>\n",
       "      <th>vwap_shifted</th>\n",
       "    </tr>\n",
       "  </thead>\n",
       "  <tbody>\n",
       "    <tr>\n",
       "      <th>1635379202</th>\n",
       "      <td>NaN</td>\n",
       "      <td>NaN</td>\n",
       "    </tr>\n",
       "    <tr>\n",
       "      <th>1635379203</th>\n",
       "      <td>NaN</td>\n",
       "      <td>NaN</td>\n",
       "    </tr>\n",
       "    <tr>\n",
       "      <th>1635379204</th>\n",
       "      <td>NaN</td>\n",
       "      <td>NaN</td>\n",
       "    </tr>\n",
       "    <tr>\n",
       "      <th>1635379205</th>\n",
       "      <td>NaN</td>\n",
       "      <td>NaN</td>\n",
       "    </tr>\n",
       "    <tr>\n",
       "      <th>1635379206</th>\n",
       "      <td>NaN</td>\n",
       "      <td>NaN</td>\n",
       "    </tr>\n",
       "    <tr>\n",
       "      <th>...</th>\n",
       "      <td>...</td>\n",
       "      <td>...</td>\n",
       "    </tr>\n",
       "    <tr>\n",
       "      <th>1635465595</th>\n",
       "      <td>0.092300</td>\n",
       "      <td>0.092300</td>\n",
       "    </tr>\n",
       "    <tr>\n",
       "      <th>1635465596</th>\n",
       "      <td>0.092300</td>\n",
       "      <td>0.092300</td>\n",
       "    </tr>\n",
       "    <tr>\n",
       "      <th>1635465597</th>\n",
       "      <td>0.092300</td>\n",
       "      <td>0.092300</td>\n",
       "    </tr>\n",
       "    <tr>\n",
       "      <th>1635465598</th>\n",
       "      <td>0.092300</td>\n",
       "      <td>0.092300</td>\n",
       "    </tr>\n",
       "    <tr>\n",
       "      <th>1635465599</th>\n",
       "      <td>0.088987</td>\n",
       "      <td>0.088987</td>\n",
       "    </tr>\n",
       "  </tbody>\n",
       "</table>\n",
       "<p>86398 rows × 2 columns</p>\n",
       "</div>"
      ],
      "text/plain": [
       "            vwap_original  vwap_shifted\n",
       "1635379202            NaN           NaN\n",
       "1635379203            NaN           NaN\n",
       "1635379204            NaN           NaN\n",
       "1635379205            NaN           NaN\n",
       "1635379206            NaN           NaN\n",
       "...                   ...           ...\n",
       "1635465595       0.092300      0.092300\n",
       "1635465596       0.092300      0.092300\n",
       "1635465597       0.092300      0.092300\n",
       "1635465598       0.092300      0.092300\n",
       "1635465599       0.088987      0.088987\n",
       "\n",
       "[86398 rows x 2 columns]"
      ]
     },
     "execution_count": 4,
     "metadata": {},
     "output_type": "execute_result"
    }
   ],
   "source": [
    "autocorr_original = data['vwap_original'].rolling(60).apply(lambda x: x.autocorr(), raw=False).to_frame()\n",
    "autocorr_shifted = data['vwap_shifted'].rolling(60).apply(lambda x: x.autocorr(), raw=False).to_frame()\n",
    "data = pd.merge(left=autocorr_original, right=autocorr_shifted, how='left', left_index=True, right_index=True)\n",
    "data"
   ]
  },
  {
   "cell_type": "code",
   "execution_count": 16,
   "id": "2efbc99d",
   "metadata": {},
   "outputs": [
    {
     "data": {
      "text/html": [
       "<div>\n",
       "<style scoped>\n",
       "    .dataframe tbody tr th:only-of-type {\n",
       "        vertical-align: middle;\n",
       "    }\n",
       "\n",
       "    .dataframe tbody tr th {\n",
       "        vertical-align: top;\n",
       "    }\n",
       "\n",
       "    .dataframe thead th {\n",
       "        text-align: right;\n",
       "    }\n",
       "</style>\n",
       "<table border=\"1\" class=\"dataframe\">\n",
       "  <thead>\n",
       "    <tr style=\"text-align: right;\">\n",
       "      <th></th>\n",
       "      <th>vwap_original</th>\n",
       "      <th>vwap_shifted</th>\n",
       "    </tr>\n",
       "  </thead>\n",
       "  <tbody>\n",
       "  </tbody>\n",
       "</table>\n",
       "</div>"
      ],
      "text/plain": [
       "Empty DataFrame\n",
       "Columns: [vwap_original, vwap_shifted]\n",
       "Index: []"
      ]
     },
     "execution_count": 16,
     "metadata": {},
     "output_type": "execute_result"
    }
   ],
   "source": [
    "data[np.logical_and(data.vwap_original > 0, data.vwap_shifted < -0.5)]"
   ]
  },
  {
   "cell_type": "code",
   "execution_count": 145,
   "id": "cedae7ad",
   "metadata": {},
   "outputs": [
    {
     "data": {
      "text/plain": [
       "<matplotlib.lines.Line2D at 0x25b38358940>"
      ]
     },
     "execution_count": 145,
     "metadata": {},
     "output_type": "execute_result"
    },
    {
     "data": {
      "image/png": "[encoded data removed]",
      "text/plain": [
       "<Figure size 1440x720 with 1 Axes>"
      ]
     },
     "metadata": {
      "needs_background": "light"
     },
     "output_type": "display_data"
    }
   ],
   "source": [
    "import matplotlib.pyplot as plt\n",
    "plt.figure(figsize=(20, 10))\n",
    "plt.plot(data['vwap_original'][np.logical_and(data.index >= 1635379360, data.index <= 1635379380)])\n",
    "plt.plot(data['vwap_shifted'][np.logical_and(data.index >= 1635379360, data.index <= 1635379380)])\n",
    "plt.axhline(0)"
   ]
  },
  {
   "cell_type": "code",
   "execution_count": null,
   "id": "2c76220f",
   "metadata": {},
   "outputs": [],
   "source": []
  }
 ],
 "metadata": {
  "kernelspec": {
   "display_name": "Python 3 (ipykernel)",
   "language": "python",
   "name": "python3"
  },
  "language_info": {
   "codemirror_mode": {
    "name": "ipython",
    "version": 3
   },
   "file_extension": ".py",
   "mimetype": "text/x-python",
   "name": "python",
   "nbconvert_exporter": "python",
   "pygments_lexer": "ipython3",
   "version": "3.9.7"
  }
 },
 "nbformat": 4,
 "nbformat_minor": 5
}
