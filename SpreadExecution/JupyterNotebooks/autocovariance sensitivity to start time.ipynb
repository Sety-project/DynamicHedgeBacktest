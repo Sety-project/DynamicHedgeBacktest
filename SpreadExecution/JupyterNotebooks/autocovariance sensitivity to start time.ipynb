{
 "cells": [
  {
   "cell_type": "code",
   "execution_count": 3,
   "id": "1023d0df",
   "metadata": {},
   "outputs": [
    {
     "name": "stdout",
     "output_type": "stream",
     "text": [
      "['UNI', 0.02342133244032784, 0.8927653686499308]\n",
      "['USDT', 0.3692804733417337, 0.8889107127558877]\n",
      "['XRP', 0.05225442250147764, 0.87039470769776]\n",
      "['YFI', 0.018532421707115516, 0.8971604629860938]\n"
     ]
    }
   ],
   "source": [
    "import puffin.tardis_importer as ti\n",
    "import numpy as np\n",
    "import pandas as pd\n",
    "coins = ['UNI', 'USDT', 'XRP', 'YFI']\n",
    "for symbol in coins:\n",
    "    spot_trades = ti.generate_trade_data_from_gzip(f'{symbol}/USD', f'./datasets/ftx_trades_2021-10-14_{symbol}-USD.csv.gz')\n",
    "    for day in range(15, 29):\n",
    "        t = ti.generate_trade_data_from_gzip(f'{symbol}/USD', f'./datasets/ftx_trades_2021-10-{day}_{symbol}-USD.csv.gz')\n",
    "        spot_trades = spot_trades.append(t)\n",
    "    spot_trades['timestamp'] = spot_trades['exchange_timestamp_nanos'] // 1000000000\n",
    "    spot_trades['timestamp_shifted'] = (spot_trades['exchange_timestamp_nanos'] + 300000000) // 1000000000\n",
    "    def vwap(df):\n",
    "        return np.average(df['price'], weights=df['size'])\n",
    "    data = pd.DataFrame(index=range(spot_trades['timestamp'].min(), spot_trades['timestamp'].max() + 1))\n",
    "    original = spot_trades[['timestamp', 'price', 'size']]\n",
    "    original = original.groupby('timestamp').apply(vwap).to_frame('vwap_original')\n",
    "    shifted = spot_trades[['timestamp_shifted', 'price', 'size']]\n",
    "    shifted = shifted.groupby('timestamp_shifted').apply(vwap).to_frame('vwap_shifted')\n",
    "    data = pd.merge(left=data, right=original, how='left', left_index=True, right_index=True)\n",
    "    data = pd.merge(left=data, right=shifted, how='left', left_index=True, right_index=True)\n",
    "    data = data.fillna(method='ffill')\n",
    "    data = data.diff()\n",
    "    data = data.dropna(how='any')\n",
    "    autocorr_original = data['vwap_original'].rolling(60).apply(lambda x: x.autocorr(), raw=False).to_frame()\n",
    "    autocorr_shifted = data['vwap_shifted'].rolling(60).apply(lambda x: x.autocorr(), raw=False).to_frame()\n",
    "    autocorr_data = pd.merge(left=autocorr_original, right=autocorr_shifted, how='left', left_index=True, right_index=True)\n",
    "    threshold = -0.15\n",
    "    print([symbol, len(autocorr_data[autocorr_data.vwap_shifted < threshold])/len(autocorr_data), len(autocorr_data[np.logical_and(autocorr_data.vwap_shifted < threshold, autocorr_data.vwap_original < 0)])/len(autocorr_data[autocorr_data.vwap_shifted < threshold])])"
   ]
  },
  {
   "cell_type": "code",
   "execution_count": 2,
   "id": "7aa0e266",
   "metadata": {},
   "outputs": [
    {
     "data": {
      "text/plain": [
       "'TRYB'"
      ]
     },
     "execution_count": 2,
     "metadata": {},
     "output_type": "execute_result"
    }
   ],
   "source": [
    "symbol"
   ]
  },
  {
   "cell_type": "code",
   "execution_count": null,
   "id": "9d97e664",
   "metadata": {},
   "outputs": [],
   "source": []
  }
 ],
 "metadata": {
  "kernelspec": {
   "display_name": "Python 3 (ipykernel)",
   "language": "python",
   "name": "python3"
  },
  "language_info": {
   "codemirror_mode": {
    "name": "ipython",
    "version": 3
   },
   "file_extension": ".py",
   "mimetype": "text/x-python",
   "name": "python",
   "nbconvert_exporter": "python",
   "pygments_lexer": "ipython3",
   "version": "3.9.7"
  }
 },
 "nbformat": 4,
 "nbformat_minor": 5
}
