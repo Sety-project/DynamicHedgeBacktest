{
 "cells": [
  {
   "cell_type": "code",
   "execution_count": 37,
   "id": "f7f99c24",
   "metadata": {},
   "outputs": [
    {
     "data": {
      "text/plain": [
       "timestamp\n",
       "1635379201    58449.000000\n",
       "1635379202    58455.069503\n",
       "1635379203    58457.000000\n",
       "1635379204    58457.010449\n",
       "1635379205    58462.076923\n",
       "                  ...     \n",
       "1635379533    58671.000000\n",
       "1635379537    58671.000000\n",
       "1635379538    58665.003964\n",
       "1635379539    58670.115427\n",
       "1635379540    58675.026772\n",
       "Length: 243, dtype: float64"
      ]
     },
     "execution_count": 37,
     "metadata": {},
     "output_type": "execute_result"
    }
   ],
   "source": [
    "import puffin.tardis_importer as ti\n",
    "import numpy as np\n",
    "symbol = 'BTC'\n",
    "spot_trades = ti.generate_trade_data_from_gzip(f'{symbol}/USD', f'./datasets/ftx_trades_2021-10-28_{symbol}-USD.csv.gz')\n",
    "spot_trades['timestamp'] = spot_trades['exchange_timestamp_nanos'] // 1000000000\n",
    "spot_trades = spot_trades.head(1000)\n",
    "def vwap(df):\n",
    "    return np.average(df['price'], weights=df['size'])\n",
    "spot_trades.groupby(by='timestamp').apply(vwap)"
   ]
  },
  {
   "cell_type": "code",
   "execution_count": 43,
   "id": "e489f66b",
   "metadata": {},
   "outputs": [],
   "source": [
    "p = spot_trades[spot_trades.timestamp == 1635379202]['price']\n",
    "s = spot_trades[spot_trades.timestamp == 1635379202]['size']\n"
   ]
  },
  {
   "cell_type": "code",
   "execution_count": null,
   "id": "33213a2a",
   "metadata": {},
   "outputs": [],
   "source": []
  }
 ],
 "metadata": {
  "kernelspec": {
   "display_name": "Python 3 (ipykernel)",
   "language": "python",
   "name": "python3"
  },
  "language_info": {
   "codemirror_mode": {
    "name": "ipython",
    "version": 3
   },
   "file_extension": ".py",
   "mimetype": "text/x-python",
   "name": "python",
   "nbconvert_exporter": "python",
   "pygments_lexer": "ipython3",
   "version": "3.9.7"
  }
 },
 "nbformat": 4,
 "nbformat_minor": 5
}
