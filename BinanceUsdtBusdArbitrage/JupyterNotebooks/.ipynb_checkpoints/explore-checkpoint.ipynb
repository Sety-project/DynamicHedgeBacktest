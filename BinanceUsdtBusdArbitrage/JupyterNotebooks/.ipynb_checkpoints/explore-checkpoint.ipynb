{
 "cells": [
  {
   "cell_type": "code",
   "execution_count": null,
   "id": "dddeb039",
   "metadata": {},
   "outputs": [],
   "source": [
    "import puffin.tardis_importer as ti\n",
    "symbol = 'XRPUSDT'\n",
    "date = '2021-10/14'\n",
    "quotes_xrpusdt = ti.generate_tob_data_from_gzip('XRPUSDT', './datasets/binance-futures_quotes_2021-10-14_XRPUSDT.csv.gz')\n",
    "quotes_xrpbusd = ti.generate_tob_data_from_gzip('XRPBUSD', './datasets/binance-futures_quotes_2021-10-14_XRPBUSD.csv.gz')\n",
    "quotes_busdusdt = ti.generate_tob_data_from_gzip('BUSDUSDT', './datasets/binance_quotes_2021-10-14_BUSDUSDT.csv.gz')\n",
    "quotes_busdusdt"
   ]
  },
  {
   "cell_type": "code",
   "execution_count": null,
   "id": "02cded0b",
   "metadata": {},
   "outputs": [],
   "source": [
    "quotes_xrpusdt"
   ]
  },
  {
   "cell_type": "code",
   "execution_count": null,
   "id": "c6bfcc4f",
   "metadata": {},
   "outputs": [],
   "source": [
    "quotes_xrpbusd"
   ]
  },
  {
   "cell_type": "code",
   "execution_count": null,
   "id": "e656ceb0",
   "metadata": {},
   "outputs": [],
   "source": [
    "import pandas as pd\n",
    "left = quotes_xrpusdt[['exchange_timestamp_nanos', 'bid_price', 'bid_qty', 'ask_price', 'ask_qty']]\n",
    "left = left.rename(columns={'exchange_timestamp_nanos': 'timestamp', \n",
    "                            'bid_price': 'xrpusdt_bid_price', 'bid_qty': 'xrpusdt_bid_size',\n",
    "                            'ask_price': 'xrpusdt_ask_price', 'ask_qty': 'xrpusdt_ask_size'})\n",
    "left = left.set_index('timestamp')\n",
    "right = quotes_xrpbusd[['exchange_timestamp_nanos', 'bid_price', 'bid_qty', 'ask_price', 'ask_qty']]\n",
    "right = right.rename(columns={'exchange_timestamp_nanos': 'timestamp', \n",
    "                            'bid_price': 'xrpbusd_bid_price', 'bid_qty': 'xrpbusd_bid_size',\n",
    "                            'ask_price': 'xrpbusd_ask_price', 'ask_qty': 'xrpbusd_ask_size'})\n",
    "right = right.set_index('timestamp')\n",
    "left = pd.merge(left, right, how='outer', left_index=True, right_index=True)\n",
    "right = quotes_busdusdt[['exchange_timestamp_nanos', 'bid_price', 'bid_qty', 'ask_price', 'ask_qty']]\n",
    "right = right.rename(columns={'exchange_timestamp_nanos': 'timestamp', \n",
    "                            'bid_price': 'busdusdt_bid_price', 'bid_qty': 'busdusdt_bid_size',\n",
    "                            'ask_price': 'busdusdt_ask_price', 'ask_qty': 'busdusdt_ask_size'})\n",
    "right = right.set_index('timestamp')\n",
    "data = pd.merge(left, right, how='outer', left_index=True, right_index=True)\n",
    "data = data.fillna(method='ffill')\n",
    "data = data.dropna(how='any')\n",
    "data['busdusdt_bid_size_in_xrp'] = data['busdusdt_bid_size'] / data['xrpbusd_bid_price']\n",
    "data['busdusdt_ask_size_in_xrp'] = data['busdusdt_ask_size'] / data['xrpbusd_ask_price']\n",
    "data['synthetic_xrpusdt_bid_price'] = data['xrpbusd_bid_price'] * data['busdusdt_bid_price']\n",
    "data['synthetic_xrpusdt_ask_price'] = data['xrpbusd_ask_price'] * data['busdusdt_ask_price']\n",
    "data['synthetic_xrpusdt_bid_size'] = data[['xrpbusd_bid_size', 'busdusdt_bid_size_in_xrp']].min(axis=1)\n",
    "data['synthetic_xrpusdt_ask_size'] = data[['xrpbusd_ask_size', 'busdusdt_ask_size_in_xrp']].min(axis=1)\n",
    "data['synthetic_xrpbusd_bid_price'] = data['xrpusdt_bid_price'] / data['busdusdt_ask_price']\n",
    "data['synthetic_xrpbusd_ask_price'] = data['xrpusdt_ask_price'] / data['busdusdt_bid_price']\n",
    "data['synthetic_xrpbusd_bid_size'] = data[['xrpusdt_bid_size', 'busdusdt_ask_size_in_xrp']].min(axis=1)\n",
    "data['synthetic_xrpbusd_ask_size'] = data[['xrpusdt_ask_size', 'busdusdt_bid_size_in_xrp']].min(axis=1)\n",
    "\n",
    "data['synthetic_busdusdt_bid_price'] = data['xrpusdt_bid_price'] / data['xrpbusd_ask_price']\n",
    "data['synthetic_busdusdt_ask_price'] = data['xrpusdt_ask_price'] / data['xrpbusd_bid_price']\n",
    "data['xrpusdt_bid_size_in_busd'] = data['xrpusdt_bid_size'] * data['xrpbusd_bid_price']\n",
    "data['xrpusdt_ask_size_in_busd'] = data['xrpusdt_ask_size'] * data['xrpbusd_ask_price']\n",
    "data['xrpbusd_bid_size_in_busd'] = data['xrpbusd_bid_size'] * data['xrpbusd_bid_price']\n",
    "data['xrpbusd_ask_size_in_busd'] = data['xrpbusd_ask_size'] * data['xrpbusd_ask_price']\n",
    "data['synthetic_busdusdt_bid_size'] = data[['xrpusdt_bid_size_in_busd', 'xrpbusd_bid_size_in_busd']].min(axis=1)\n",
    "data['synthetic_busdusdt_ask_size'] = data[['xrpusdt_ask_size_in_busd', 'xrpbusd_ask_size_in_busd']].min(axis=1)\n",
    "data"
   ]
  },
  {
   "cell_type": "code",
   "execution_count": null,
   "id": "755efcb0",
   "metadata": {},
   "outputs": [],
   "source": [
    "# aggressive arbs\n",
    "import matplotlib.pyplot as plt\n",
    "sample = 200000000\n",
    "location = 1634244197622000000\n",
    "plt.figure(figsize=(20, 10))\n",
    "section = data.loc[location - sample:location + sample]\n",
    "x = plt.plot(section['xrpusdt_bid_price'], label='xrpusdt_bid_price_gross', color='red')\n",
    "x = plt.plot(section['xrpusdt_bid_price']/1.0004, label='xrpusdt_bid_price_net', linestyle='dashed', color='red')\n",
    "x = plt.plot(section['xrpusdt_ask_price'], label='xrpusdt_ask_price_gross', color='red')\n",
    "x = plt.plot(section['xrpusdt_ask_price']*1.0004, label='xrpusdt_ask_price_net', linestyle='dashed', color='red')\n",
    "x = plt.plot(section['synthetic_xrpusdt_bid_price'], label='synthetic_xrpusdt_bid_price_gross', color='blue')\n",
    "x = plt.plot(section['synthetic_xrpusdt_bid_price']/1.0004, label='synthetic_xrpusdt_bid_price_net', linestyle='dashed', color='blue')\n",
    "x = plt.plot(section['synthetic_xrpusdt_ask_price'], label='synthetic_xrpusdt_ask_price_gross', color='blue')\n",
    "x = plt.plot(section['synthetic_xrpusdt_ask_price']*1.0004, label='synthetic_xrpusdt_ask_price_net', linestyle='dashed', color='blue')\n",
    "plt.legend()\n",
    "plt.show()"
   ]
  },
  {
   "cell_type": "code",
   "execution_count": null,
   "id": "1403cfe0",
   "metadata": {},
   "outputs": [],
   "source": [
    "aggr_arb_1 = data[data['xrpusdt_bid_price']/1.0004 - data['synthetic_xrpusdt_ask_price']*1.0004 >= 0.0001][['xrpusdt_bid_price', 'synthetic_xrpusdt_ask_price']]\n",
    "aggr_arb_1['net_profit'] = (aggr_arb_1['xrpusdt_bid_price']/1.0004) - (aggr_arb_1['synthetic_xrpusdt_ask_price']*1.0004)\n",
    "aggr_arb_1.sort_values(by='net_profit', ascending=False)"
   ]
  },
  {
   "cell_type": "code",
   "execution_count": null,
   "id": "25fb77de",
   "metadata": {},
   "outputs": [],
   "source": [
    "aggr_arb_2 = data[data['synthetic_xrpusdt_bid_price']/1.0004 - data['xrpusdt_ask_price']*1.0004 >= 0.0001][['xrpusdt_ask_price', 'synthetic_xrpusdt_bid_price']]\n",
    "aggr_arb_2['net_profit'] = (aggr_arb_2['synthetic_xrpusdt_bid_price']/1.0004) - (aggr_arb_2['xrpusdt_ask_price']*1.0004)\n",
    "aggr_arb_2.sort_values(by='net_profit', ascending=False)"
   ]
  },
  {
   "cell_type": "code",
   "execution_count": null,
   "id": "5ccf0829",
   "metadata": {},
   "outputs": [],
   "source": [
    "plt.plot(data['synthetic_xrpusdt_bid_price']/1.0004 - data['xrpusdt_ask_price']*1.0004)\n",
    "plt.axhline(y=0, color='r')"
   ]
  },
  {
   "cell_type": "code",
   "execution_count": null,
   "id": "2a17fae0",
   "metadata": {},
   "outputs": [],
   "source": [
    "plt.plot(data['xrpusdt_bid_price']/1.0004 - data['synthetic_xrpusdt_ask_price']*1.0004)\n",
    "plt.axhline(y=0, color='r')"
   ]
  },
  {
   "cell_type": "code",
   "execution_count": null,
   "id": "aa5d0f56",
   "metadata": {},
   "outputs": [],
   "source": [
    "passive_arb_1 = data[data['synthetic_xrpusdt_ask_price']/1.0002 - data['xrpusdt_bid_price']*1.0002 >= 0.0001][['xrpusdt_bid_price', 'synthetic_xrpusdt_ask_price']]\n",
    "passive_arb_1['net_profit'] = (passive_arb_1['xrpusdt_bid_price']*1.0002) - (passive_arb_1['synthetic_xrpusdt_ask_price']/1.0002)\n",
    "passive_arb_1 = passive_arb_1[~passive_arb_1.index.isin(aggr_arb_1.index)]\n",
    "passive_arb_1.sort_values(by='net_profit', ascending=False)"
   ]
  },
  {
   "cell_type": "code",
   "execution_count": null,
   "id": "b5c68047",
   "metadata": {},
   "outputs": [],
   "source": [
    "passive_arb_2 = data[data['synthetic_xrpusdt_bid_price']*1.0002 - data['xrpusdt_ask_price']/1.0002 >= 0.0001][['xrpusdt_ask_price', 'synthetic_xrpusdt_bid_price']]\n",
    "passive_arb_2['net_profit'] = (passive_arb_2['synthetic_xrpusdt_bid_price']*1.0002) - (passive_arb_2['xrpusdt_ask_price']/1.0002)\n",
    "passive_arb_2 = passive_arb_2[~passive_arb_2.index.isin(aggr_arb_2.index)]\n",
    "passive_arb_2.sort_values(by='net_profit', ascending=False)"
   ]
  },
  {
   "cell_type": "code",
   "execution_count": null,
   "id": "ea319771",
   "metadata": {},
   "outputs": [],
   "source": [
    "# passive arbs\n",
    "import matplotlib.pyplot as plt\n",
    "sample = 200000000\n",
    "location = 1634208860049000000\n",
    "plt.figure(figsize=(20, 10))\n",
    "section = data.loc[location - sample:location + sample]\n",
    "x = plt.plot(section['xrpusdt_bid_price'], label='xrpusdt_bid_price_gross', color='red')\n",
    "x = plt.plot(section['xrpusdt_bid_price']/1.0002, label='xrpusdt_bid_price_net', linestyle='dashed', color='red')\n",
    "x = plt.plot(section['xrpusdt_ask_price'], label='xrpusdt_ask_price_gross', color='red')\n",
    "x = plt.plot(section['xrpusdt_ask_price']*1.0002, label='xrpusdt_ask_price_net', linestyle='dashed', color='red')\n",
    "x = plt.plot(section['synthetic_xrpusdt_bid_price'], label='synthetic_xrpusdt_bid_price_gross', color='blue')\n",
    "x = plt.plot(section['synthetic_xrpusdt_bid_price']/1.0002, label='synthetic_xrpusdt_bid_price_net', linestyle='dashed', color='blue')\n",
    "x = plt.plot(section['synthetic_xrpusdt_ask_price'], label='synthetic_xrpusdt_ask_price_gross', color='blue')\n",
    "x = plt.plot(section['synthetic_xrpusdt_ask_price']*1.0002, label='synthetic_xrpusdt_ask_price_net', linestyle='dashed', color='blue')\n",
    "\n",
    "plt.legend()\n",
    "plt.show()"
   ]
  },
  {
   "cell_type": "code",
   "execution_count": null,
   "id": "844d2194",
   "metadata": {},
   "outputs": [],
   "source": [
    "type(abs(data['xrpusdt_bid_price'] - data['xrpbusd_bid_price']).value_counts())"
   ]
  },
  {
   "cell_type": "code",
   "execution_count": null,
   "id": "fcd86851",
   "metadata": {},
   "outputs": [],
   "source": []
  }
 ],
 "metadata": {
  "kernelspec": {
   "display_name": "Python 3 (ipykernel)",
   "language": "python",
   "name": "python3"
  },
  "language_info": {
   "codemirror_mode": {
    "name": "ipython",
    "version": 3
   },
   "file_extension": ".py",
   "mimetype": "text/x-python",
   "name": "python",
   "nbconvert_exporter": "python",
   "pygments_lexer": "ipython3",
   "version": "3.9.7"
  }
 },
 "nbformat": 4,
 "nbformat_minor": 5
}
