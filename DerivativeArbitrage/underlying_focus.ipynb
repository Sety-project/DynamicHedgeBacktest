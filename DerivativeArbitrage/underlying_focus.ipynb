{
 "cells": [
  {
   "cell_type": "code",
   "execution_count": 1,
   "id": "40a4c2b6",
   "metadata": {},
   "outputs": [],
   "source": [
    "from ftx_utilities import *\n",
    "from ftx_snap_basis import *\n",
    "import seaborn as sns\n",
    "import plotly.express as px\n",
    "import os\n",
    "directory='C:/Users/david/Dropbox/mobilier/crypto/archived data/ftx/archived/'"
   ]
  },
  {
   "cell_type": "code",
   "execution_count": 2,
   "id": "1e61c844",
   "metadata": {},
   "outputs": [],
   "source": [
    "futures_list=[from_parquet(directory+filename).sort_index(ascending=True) for filename in [filename for filename in os.listdir(directory) if \"_futures\" in filename]]"
   ]
  },
  {
   "cell_type": "markdown",
   "id": "2bcde157",
   "metadata": {},
   "source": [
    "#### --------- show monthly max or premiums"
   ]
  },
  {
   "cell_type": "code",
   "execution_count": 16,
   "id": "304adc96",
   "metadata": {},
   "outputs": [],
   "source": [
    "def compute_premium(df: pd.DataFrame) -> pd.Series:\n",
    "    return (df.filter(like='/mark/c').iloc[:,0]/df.filter(like='/indexes/close').iloc[:,0]-1)*10000\n",
    "premium_list=[pd.DataFrame(data=compute_premium(df),columns=[str(df.columns[0]).split('/')[0]]) for df in futures_list]\n",
    "symbol_list=[str(df.columns[0]).split('/')[0] for df in futures_list]"
   ]
  },
  {
   "cell_type": "code",
   "execution_count": 33,
   "id": "88a29ef2",
   "metadata": {},
   "outputs": [
    {
     "data": {
      "text/plain": [
       "pandas.core.frame.DataFrame"
      ]
     },
     "execution_count": 33,
     "metadata": {},
     "output_type": "execute_result"
    }
   ],
   "source": [
    "type(premium_list[2])"
   ]
  },
  {
   "cell_type": "code",
   "execution_count": null,
   "id": "d5f535f1",
   "metadata": {},
   "outputs": [],
   "source": [
    "premium=premium_list[0]\n",
    "for df in premium_list[1:]:\n",
    "    premium=premium.join(df,how='outer')\n",
    "premium=premium[~premium.index.duplicated()]"
   ]
  },
  {
   "cell_type": "code",
   "execution_count": null,
   "id": "b8ca7a68",
   "metadata": {},
   "outputs": [],
   "source": [
    "ewM=premium.resample('1w').max()\n",
    "ewM=ewM[~ewM.index.duplicated()]\n",
    "fig = px.line(ewM)#, x='date', y=\"GOOG\")\n",
    "fig.show()"
   ]
  },
  {
   "cell_type": "markdown",
   "id": "0a040a8f",
   "metadata": {},
   "source": [
    "#### --------- premium hourly seasonality"
   ]
  },
  {
   "cell_type": "code",
   "execution_count": null,
   "id": "8bed036d",
   "metadata": {},
   "outputs": [],
   "source": [
    "fundings=from_parquet(directory+'allfundings.parquet').filter(like=symbol).iloc[:,0].sort_index(ascending=True)"
   ]
  },
  {
   "cell_type": "code",
   "execution_count": null,
   "id": "d640dd3c",
   "metadata": {},
   "outputs": [],
   "source": [
    "twap= premium.rolling('1h').mean()/24\n",
    "#fundings - twap[fundings.index]"
   ]
  },
  {
   "cell_type": "code",
   "execution_count": null,
   "id": "bfed00a9",
   "metadata": {},
   "outputs": [],
   "source": [
    "premium_vs_hour=premium-premium[premium.index.map(lambda t: t.replace(minute=0,second=0,microsecond=0))]\n",
    "#sns.lineplot(x=premium_vs_hour.index.minute,y=premium_vs_hour.values)"
   ]
  },
  {
   "cell_type": "code",
   "execution_count": null,
   "id": "b39b711c",
   "metadata": {},
   "outputs": [],
   "source": [
    "ewE=premium.ewm(times=premium.index,halflife=timedelta(days=2)).mean()\n",
    "ewS=premium.ewm(times=premium.index,halflife=timedelta(days=2)).std()\n",
    "ewZ=(premium-ewE)/ewS\n",
    "#ewZ=ewZ.drop(index=ewZ.index[0])"
   ]
  },
  {
   "cell_type": "code",
   "execution_count": null,
   "id": "eb38f13c",
   "metadata": {},
   "outputs": [],
   "source": [
    "plotthat=premium\n",
    "plotthat=plotthat[~plotthat.index.duplicated()]\n",
    "last=plotthat[(plotthat.index>datetime.today()-timedelta(days=6))&(plotthat.index<datetime.today()-timedelta(days=5))]\n",
    "#sns.lineplot(x=last.index,y=last)"
   ]
  },
  {
   "cell_type": "code",
   "execution_count": null,
   "id": "08531c64",
   "metadata": {},
   "outputs": [],
   "source": []
  }
 ],
 "metadata": {
  "kernelspec": {
   "display_name": "Python 3 (ipykernel)",
   "language": "python",
   "name": "python3"
  },
  "language_info": {
   "codemirror_mode": {
    "name": "ipython",
    "version": 3
   },
   "file_extension": ".py",
   "mimetype": "text/x-python",
   "name": "python",
   "nbconvert_exporter": "python",
   "pygments_lexer": "ipython3",
   "version": "3.9.5"
  }
 },
 "nbformat": 4,
 "nbformat_minor": 5
}
