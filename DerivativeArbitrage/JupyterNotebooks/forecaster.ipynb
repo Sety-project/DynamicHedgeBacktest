{
 "cells": [
  {
   "cell_type": "code",
   "execution_count": 8,
   "id": "a811063b",
   "metadata": {},
   "outputs": [
    {
     "data": {
      "text/html": [
       "        <script type=\"text/javascript\">\n",
       "        window.PlotlyConfig = {MathJaxConfig: 'local'};\n",
       "        if (window.MathJax) {MathJax.Hub.Config({SVG: {font: \"STIX-Web\"}});}\n",
       "        if (typeof require !== 'undefined') {\n",
       "        require.undef(\"plotly\");\n",
       "        requirejs.config({\n",
       "            paths: {\n",
       "                'plotly': ['https://cdn.plot.ly/plotly-2.8.3.min']\n",
       "            }\n",
       "        });\n",
       "        require(['plotly'], function(Plotly) {\n",
       "            window._Plotly = Plotly;\n",
       "        });\n",
       "        }\n",
       "        </script>\n",
       "        "
      ]
     },
     "metadata": {},
     "output_type": "display_data"
    }
   ],
   "source": [
    "import matplotlib\n",
    "%matplotlib inline\n",
    "import cufflinks as cf\n",
    "cf.go_offline()\n",
    "cf.set_config_file(offline=False, world_readable=True)\n",
    "import plotly.express as px\n",
    "import nest_asyncio\n",
    "nest_asyncio.apply()\n",
    "import os,sys\n",
    "from sklearn.decomposition import PCA\n",
    "sys.path.append('../')\n",
    "from ftx_history import *"
   ]
  },
  {
   "cell_type": "code",
   "execution_count": 2,
   "id": "5640bc26",
   "metadata": {},
   "outputs": [],
   "source": [
    "coins = 'wide'\n",
    "futures_df = ftx_history_main('get',coins,'ftx',1000)"
   ]
  },
  {
   "cell_type": "code",
   "execution_count": 3,
   "id": "0cf0398a",
   "metadata": {},
   "outputs": [],
   "source": [
    "holding_period = 24\n",
    "coin = 'ETH'\n",
    "horizon_window = 168"
   ]
  },
  {
   "cell_type": "code",
   "execution_count": 4,
   "id": "2fa29c2e",
   "metadata": {},
   "outputs": [],
   "source": [
    "label = futures_df[[f'{coin}-PERP/rate/funding']]\n",
    "features = futures_df[[f'{coin}-PERP/rate/funding',\n",
    "                      f'{coin}-PERP/mark/volume',\n",
    "                      f'{coin}/price/c',\n",
    "                      f'{coin}/rate/borrow',\n",
    "                      f'{coin}/rate/size']]"
   ]
  },
  {
   "cell_type": "code",
   "execution_count": 22,
   "id": "7c1882fa",
   "metadata": {},
   "outputs": [],
   "source": [
    "df = pd.concat([\n",
    "    features[c].transform({(c,i):\n",
    "        lambda x: x.ewm(span=i).mean() for i in range(horizon_window)\n",
    "                            }) for c in features.columns],axis=1)\n"
   ]
  },
  {
   "cell_type": "code",
   "execution_count": 23,
   "id": "d0b92f53",
   "metadata": {},
   "outputs": [
    {
     "name": "stdout",
     "output_type": "stream",
     "text": [
      "(21595, 840)\n",
      "(499, 840)\n"
     ]
    }
   ],
   "source": [
    "print(df.shape)\n",
    "df = df.dropna()\n",
    "print(df.shape)"
   ]
  },
  {
   "cell_type": "code",
   "execution_count": 17,
   "id": "a83a2d89",
   "metadata": {},
   "outputs": [
    {
     "data": {
      "text/plain": [
       "array([2.21362455e+11])"
      ]
     },
     "execution_count": 17,
     "metadata": {},
     "output_type": "execute_result"
    }
   ],
   "source": [
    "PCA(n_components=0.1).fit(df).singular_values_"
   ]
  },
  {
   "cell_type": "code",
   "execution_count": null,
   "id": "cd75ecfd",
   "metadata": {},
   "outputs": [],
   "source": []
  }
 ],
 "metadata": {
  "kernelspec": {
   "display_name": "Python 3 (ipykernel)",
   "language": "python",
   "name": "python3"
  },
  "language_info": {
   "codemirror_mode": {
    "name": "ipython",
    "version": 3
   },
   "file_extension": ".py",
   "mimetype": "text/x-python",
   "name": "python",
   "nbconvert_exporter": "python",
   "pygments_lexer": "ipython3",
   "version": "3.9.5"
  }
 },
 "nbformat": 4,
 "nbformat_minor": 5
}
