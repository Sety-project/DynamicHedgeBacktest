{
 "cells": [
  {
   "cell_type": "markdown",
   "id": "74d3b150",
   "metadata": {},
   "source": [
    "# FTX reader"
   ]
  },
  {
   "cell_type": "code",
   "execution_count": 15,
   "id": "40a4c2b6",
   "metadata": {},
   "outputs": [
    {
     "data": {
      "text/html": [
       "        <script type=\"text/javascript\">\n",
       "        window.PlotlyConfig = {MathJaxConfig: 'local'};\n",
       "        if (window.MathJax) {MathJax.Hub.Config({SVG: {font: \"STIX-Web\"}});}\n",
       "        if (typeof require !== 'undefined') {\n",
       "        require.undef(\"plotly\");\n",
       "        requirejs.config({\n",
       "            paths: {\n",
       "                'plotly': ['https://cdn.plot.ly/plotly-2.4.2.min']\n",
       "            }\n",
       "        });\n",
       "        require(['plotly'], function(Plotly) {\n",
       "            window._Plotly = Plotly;\n",
       "        });\n",
       "        }\n",
       "        </script>\n",
       "        "
      ]
     },
     "metadata": {},
     "output_type": "display_data"
    }
   ],
   "source": [
    "import matplotlib\n",
    "%matplotlib inline\n",
    "import cufflinks as cf\n",
    "cf.go_offline()\n",
    "cf.set_config_file(offline=False, world_readable=True)\n",
    "import plotly.express as px\n",
    "\n",
    "import sys\n",
    "sys.path.append('../')\n",
    "from history_script import *\n",
    "\n",
    "import os\n",
    "directory='C:/Users/david/puffin/DerivativeArbitrage/Runtime/live_parquets/'\n",
    "end_time=datetime.today().replace(minute=0,second=0,microsecond=0)\n",
    "start_time=end_time-timedelta(days=7)\n",
    "modes=[('h','high'),('c','close'),('l','low')]\n",
    "coins=['OKB','1INCH']"
   ]
  },
  {
   "cell_type": "code",
   "execution_count": 16,
   "id": "3f227ce8",
   "metadata": {},
   "outputs": [
    {
     "name": "stdout",
     "output_type": "stream",
     "text": [
      "{'apiKey': True, 'secret': True, 'uid': False, 'login': False, 'password': False, 'twofa': False, 'privateKey': False, 'walletAddress': False, 'token': False}\n"
     ]
    }
   ],
   "source": [
    "futures_df=ftx_read_history(dirname=directory,coin_list=coins)"
   ]
  },
  {
   "cell_type": "code",
   "execution_count": 18,
   "id": "1c6b55ce",
   "metadata": {},
   "outputs": [
    {
     "data": {
      "text/html": [
       "<div>\n",
       "<style scoped>\n",
       "    .dataframe tbody tr th:only-of-type {\n",
       "        vertical-align: middle;\n",
       "    }\n",
       "\n",
       "    .dataframe tbody tr th {\n",
       "        vertical-align: top;\n",
       "    }\n",
       "\n",
       "    .dataframe thead th {\n",
       "        text-align: right;\n",
       "    }\n",
       "</style>\n",
       "<table border=\"1\" class=\"dataframe\">\n",
       "  <thead>\n",
       "    <tr style=\"text-align: right;\">\n",
       "      <th></th>\n",
       "      <th>1INCH-PERP/rate/funding</th>\n",
       "      <th>1INCH-PERP/rate/funding</th>\n",
       "      <th>OKB-PERP/rate/funding</th>\n",
       "      <th>OKB-PERP/rate/funding</th>\n",
       "      <th>1INCH-PERP/mark/o</th>\n",
       "      <th>1INCH-PERP/mark/h</th>\n",
       "      <th>1INCH-PERP/mark/l</th>\n",
       "      <th>1INCH-PERP/mark/c</th>\n",
       "      <th>1INCH-PERP/mark/volume</th>\n",
       "      <th>1INCH-PERP/indexes/open</th>\n",
       "      <th>...</th>\n",
       "      <th>USD/rate/size</th>\n",
       "      <th>USD/rate/borrow</th>\n",
       "      <th>1INCH/rate/borrow</th>\n",
       "      <th>1INCH/rate/size</th>\n",
       "      <th>1INCH/rate/borrow</th>\n",
       "      <th>1INCH/rate/size</th>\n",
       "      <th>OKB/rate/borrow</th>\n",
       "      <th>OKB/rate/size</th>\n",
       "      <th>OKB/rate/borrow</th>\n",
       "      <th>OKB/rate/size</th>\n",
       "    </tr>\n",
       "  </thead>\n",
       "  <tbody>\n",
       "  </tbody>\n",
       "</table>\n",
       "<p>0 rows × 74 columns</p>\n",
       "</div>"
      ],
      "text/plain": [
       "Empty DataFrame\n",
       "Columns: [1INCH-PERP/rate/funding, 1INCH-PERP/rate/funding, OKB-PERP/rate/funding, OKB-PERP/rate/funding, 1INCH-PERP/mark/o, 1INCH-PERP/mark/h, 1INCH-PERP/mark/l, 1INCH-PERP/mark/c, 1INCH-PERP/mark/volume, 1INCH-PERP/indexes/open, 1INCH-PERP/indexes/high, 1INCH-PERP/indexes/low, 1INCH-PERP/indexes/close, 1INCH-PERP/rate/c, 1INCH-PERP/rate/h, 1INCH-PERP/rate/l, 1INCH-1231/mark/o, 1INCH-1231/mark/h, 1INCH-1231/mark/l, 1INCH-1231/mark/c, 1INCH-1231/mark/volume, 1INCH-1231/indexes/open, 1INCH-1231/indexes/high, 1INCH-1231/indexes/low, 1INCH-1231/indexes/close, 1INCH-1231/rate/T, 1INCH-1231/rate/c, 1INCH-1231/rate/h, 1INCH-1231/rate/l, OKB-PERP/mark/o, OKB-PERP/mark/h, OKB-PERP/mark/l, OKB-PERP/mark/c, OKB-PERP/mark/volume, OKB-PERP/indexes/open, OKB-PERP/indexes/high, OKB-PERP/indexes/low, OKB-PERP/indexes/close, OKB-PERP/rate/c, OKB-PERP/rate/h, OKB-PERP/rate/l, OKB-1231/mark/o, OKB-1231/mark/h, OKB-1231/mark/l, OKB-1231/mark/c, OKB-1231/mark/volume, OKB-1231/indexes/open, OKB-1231/indexes/high, OKB-1231/indexes/low, OKB-1231/indexes/close, OKB-1231/rate/T, OKB-1231/rate/c, OKB-1231/rate/h, OKB-1231/rate/l, 1INCH/price/o, 1INCH/price/h, 1INCH/price/l, 1INCH/price/c, 1INCH/price/volume, OKB/price/o, OKB/price/h, OKB/price/l, OKB/price/c, OKB/price/volume, USD/rate/size, USD/rate/borrow, 1INCH/rate/borrow, 1INCH/rate/size, 1INCH/rate/borrow, 1INCH/rate/size, OKB/rate/borrow, OKB/rate/size, OKB/rate/borrow, OKB/rate/size]\n",
       "Index: []\n",
       "\n",
       "[0 rows x 74 columns]"
      ]
     },
     "execution_count": 18,
     "metadata": {},
     "output_type": "execute_result"
    }
   ],
   "source": []
  },
  {
   "cell_type": "code",
   "execution_count": 17,
   "id": "2c51115a",
   "metadata": {},
   "outputs": [
    {
     "data": {
      "application/vnd.plotly.v1+json": {
       "config": {
        "linkText": "Export to plot.ly",
        "plotlyServerURL": "https://plot.ly",
        "showLink": true
       },
       "data": [
        {
         "line": {
          "color": "rgba(255, 153, 51, 1.0)",
          "dash": "solid",
          "shape": "linear",
          "width": 1.3
         },
         "mode": "lines",
         "name": "1INCH-PERP/mark/c",
         "text": "",
         "type": "scatter",
         "x": [],
         "y": []
        },
        {
         "line": {
          "color": "rgba(55, 128, 191, 1.0)",
          "dash": "solid",
          "shape": "linear",
          "width": 1.3
         },
         "mode": "lines",
         "name": "1INCH-1231/mark/c",
         "text": "",
         "type": "scatter",
         "x": [],
         "y": []
        },
        {
         "line": {
          "color": "rgba(50, 171, 96, 1.0)",
          "dash": "solid",
          "shape": "linear",
          "width": 1.3
         },
         "mode": "lines",
         "name": "OKB-PERP/mark/c",
         "text": "",
         "type": "scatter",
         "x": [],
         "y": []
        },
        {
         "line": {
          "color": "rgba(128, 0, 128, 1.0)",
          "dash": "solid",
          "shape": "linear",
          "width": 1.3
         },
         "mode": "lines",
         "name": "OKB-1231/mark/c",
         "text": "",
         "type": "scatter",
         "x": [],
         "y": []
        },
        {
         "line": {
          "color": "rgba(219, 64, 82, 1.0)",
          "dash": "solid",
          "shape": "linear",
          "width": 1.3
         },
         "mode": "lines",
         "name": "1INCH/price/c",
         "text": "",
         "type": "scatter",
         "x": [],
         "y": []
        },
        {
         "line": {
          "color": "rgba(0, 128, 128, 1.0)",
          "dash": "solid",
          "shape": "linear",
          "width": 1.3
         },
         "mode": "lines",
         "name": "OKB/price/c",
         "text": "",
         "type": "scatter",
         "x": [],
         "y": []
        },
        {
         "line": {
          "color": "rgba(255, 255, 51, 1.0)",
          "dash": "solid",
          "shape": "linear",
          "width": 1.3
         },
         "mode": "lines",
         "name": "1INCH-PERP/rate/c",
         "text": "",
         "type": "scatter",
         "x": [],
         "xaxis": "x",
         "y": [],
         "yaxis": "y2"
        },
        {
         "line": {
          "color": "rgba(128, 128, 0, 1.0)",
          "dash": "solid",
          "shape": "linear",
          "width": 1.3
         },
         "mode": "lines",
         "name": "1INCH-1231/rate/c",
         "text": "",
         "type": "scatter",
         "x": [],
         "xaxis": "x",
         "y": [],
         "yaxis": "y2"
        },
        {
         "line": {
          "color": "rgba(251, 128, 114, 1.0)",
          "dash": "solid",
          "shape": "linear",
          "width": 1.3
         },
         "mode": "lines",
         "name": "OKB-PERP/rate/c",
         "text": "",
         "type": "scatter",
         "x": [],
         "xaxis": "x",
         "y": [],
         "yaxis": "y2"
        },
        {
         "line": {
          "color": "rgba(128, 177, 211, 1.0)",
          "dash": "solid",
          "shape": "linear",
          "width": 1.3
         },
         "mode": "lines",
         "name": "OKB-1231/rate/c",
         "text": "",
         "type": "scatter",
         "x": [],
         "xaxis": "x",
         "y": [],
         "yaxis": "y2"
        },
        {
         "line": {
          "color": "rgba(128, 177, 211, 0.8999999999999999)",
          "dash": "solid",
          "shape": "linear",
          "width": 1.3
         },
         "mode": "lines",
         "name": "USD/rate/borrow",
         "text": "",
         "type": "scatter",
         "x": [],
         "xaxis": "x",
         "y": [],
         "yaxis": "y2"
        },
        {
         "line": {
          "color": "rgba(128, 0, 128, 0.8999999999999999)",
          "dash": "solid",
          "shape": "linear",
          "width": 1.3
         },
         "mode": "lines",
         "name": "1INCH/rate/borrow",
         "text": "",
         "type": "scatter",
         "x": [],
         "xaxis": "x",
         "y": [],
         "yaxis": "y2"
        },
        {
         "line": {
          "color": "rgba(128, 0, 128, 0.8999999999999999)",
          "dash": "solid",
          "shape": "linear",
          "width": 1.3
         },
         "mode": "lines",
         "name": "1INCH/rate/borrow",
         "text": "",
         "type": "scatter",
         "x": [],
         "y": []
        },
        {
         "line": {
          "color": "rgba(128, 0, 128, 0.8999999999999999)",
          "dash": "solid",
          "shape": "linear",
          "width": 1.3
         },
         "mode": "lines",
         "name": "1INCH/rate/borrow",
         "text": "",
         "type": "scatter",
         "x": [],
         "y": []
        },
        {
         "line": {
          "color": "rgba(128, 0, 128, 0.8999999999999999)",
          "dash": "solid",
          "shape": "linear",
          "width": 1.3
         },
         "mode": "lines",
         "name": "1INCH/rate/borrow",
         "text": "",
         "type": "scatter",
         "x": [],
         "y": []
        },
        {
         "line": {
          "color": "rgba(128, 128, 0, 0.8999999999999999)",
          "dash": "solid",
          "shape": "linear",
          "width": 1.3
         },
         "mode": "lines",
         "name": "OKB/rate/borrow",
         "text": "",
         "type": "scatter",
         "x": [],
         "xaxis": "x",
         "y": [],
         "yaxis": "y2"
        },
        {
         "line": {
          "color": "rgba(128, 128, 0, 0.8999999999999999)",
          "dash": "solid",
          "shape": "linear",
          "width": 1.3
         },
         "mode": "lines",
         "name": "OKB/rate/borrow",
         "text": "",
         "type": "scatter",
         "x": [],
         "y": []
        },
        {
         "line": {
          "color": "rgba(128, 128, 0, 0.8999999999999999)",
          "dash": "solid",
          "shape": "linear",
          "width": 1.3
         },
         "mode": "lines",
         "name": "OKB/rate/borrow",
         "text": "",
         "type": "scatter",
         "x": [],
         "y": []
        },
        {
         "line": {
          "color": "rgba(128, 128, 0, 0.8999999999999999)",
          "dash": "solid",
          "shape": "linear",
          "width": 1.3
         },
         "mode": "lines",
         "name": "OKB/rate/borrow",
         "text": "",
         "type": "scatter",
         "x": [],
         "y": []
        }
       ],
       "layout": {
        "legend": {
         "bgcolor": "#F5F6F9",
         "font": {
          "color": "#4D5663"
         }
        },
        "paper_bgcolor": "#F5F6F9",
        "plot_bgcolor": "#F5F6F9",
        "template": {
         "data": {
          "bar": [
           {
            "error_x": {
             "color": "#2a3f5f"
            },
            "error_y": {
             "color": "#2a3f5f"
            },
            "marker": {
             "line": {
              "color": "#E5ECF6",
              "width": 0.5
             },
             "pattern": {
              "fillmode": "overlay",
              "size": 10,
              "solidity": 0.2
             }
            },
            "type": "bar"
           }
          ],
          "barpolar": [
           {
            "marker": {
             "line": {
              "color": "#E5ECF6",
              "width": 0.5
             },
             "pattern": {
              "fillmode": "overlay",
              "size": 10,
              "solidity": 0.2
             }
            },
            "type": "barpolar"
           }
          ],
          "carpet": [
           {
            "aaxis": {
             "endlinecolor": "#2a3f5f",
             "gridcolor": "white",
             "linecolor": "white",
             "minorgridcolor": "white",
             "startlinecolor": "#2a3f5f"
            },
            "baxis": {
             "endlinecolor": "#2a3f5f",
             "gridcolor": "white",
             "linecolor": "white",
             "minorgridcolor": "white",
             "startlinecolor": "#2a3f5f"
            },
            "type": "carpet"
           }
          ],
          "choropleth": [
           {
            "colorbar": {
             "outlinewidth": 0,
             "ticks": ""
            },
            "type": "choropleth"
           }
          ],
          "contour": [
           {
            "colorbar": {
             "outlinewidth": 0,
             "ticks": ""
            },
            "colorscale": [
             [
              0,
              "#0d0887"
             ],
             [
              0.1111111111111111,
              "#46039f"
             ],
             [
              0.2222222222222222,
              "#7201a8"
             ],
             [
              0.3333333333333333,
              "#9c179e"
             ],
             [
              0.4444444444444444,
              "#bd3786"
             ],
             [
              0.5555555555555556,
              "#d8576b"
             ],
             [
              0.6666666666666666,
              "#ed7953"
             ],
             [
              0.7777777777777778,
              "#fb9f3a"
             ],
             [
              0.8888888888888888,
              "#fdca26"
             ],
             [
              1,
              "#f0f921"
             ]
            ],
            "type": "contour"
           }
          ],
          "contourcarpet": [
           {
            "colorbar": {
             "outlinewidth": 0,
             "ticks": ""
            },
            "type": "contourcarpet"
           }
          ],
          "heatmap": [
           {
            "colorbar": {
             "outlinewidth": 0,
             "ticks": ""
            },
            "colorscale": [
             [
              0,
              "#0d0887"
             ],
             [
              0.1111111111111111,
              "#46039f"
             ],
             [
              0.2222222222222222,
              "#7201a8"
             ],
             [
              0.3333333333333333,
              "#9c179e"
             ],
             [
              0.4444444444444444,
              "#bd3786"
             ],
             [
              0.5555555555555556,
              "#d8576b"
             ],
             [
              0.6666666666666666,
              "#ed7953"
             ],
             [
              0.7777777777777778,
              "#fb9f3a"
             ],
             [
              0.8888888888888888,
              "#fdca26"
             ],
             [
              1,
              "#f0f921"
             ]
            ],
            "type": "heatmap"
           }
          ],
          "heatmapgl": [
           {
            "colorbar": {
             "outlinewidth": 0,
             "ticks": ""
            },
            "colorscale": [
             [
              0,
              "#0d0887"
             ],
             [
              0.1111111111111111,
              "#46039f"
             ],
             [
              0.2222222222222222,
              "#7201a8"
             ],
             [
              0.3333333333333333,
              "#9c179e"
             ],
             [
              0.4444444444444444,
              "#bd3786"
             ],
             [
              0.5555555555555556,
              "#d8576b"
             ],
             [
              0.6666666666666666,
              "#ed7953"
             ],
             [
              0.7777777777777778,
              "#fb9f3a"
             ],
             [
              0.8888888888888888,
              "#fdca26"
             ],
             [
              1,
              "#f0f921"
             ]
            ],
            "type": "heatmapgl"
           }
          ],
          "histogram": [
           {
            "marker": {
             "pattern": {
              "fillmode": "overlay",
              "size": 10,
              "solidity": 0.2
             }
            },
            "type": "histogram"
           }
          ],
          "histogram2d": [
           {
            "colorbar": {
             "outlinewidth": 0,
             "ticks": ""
            },
            "colorscale": [
             [
              0,
              "#0d0887"
             ],
             [
              0.1111111111111111,
              "#46039f"
             ],
             [
              0.2222222222222222,
              "#7201a8"
             ],
             [
              0.3333333333333333,
              "#9c179e"
             ],
             [
              0.4444444444444444,
              "#bd3786"
             ],
             [
              0.5555555555555556,
              "#d8576b"
             ],
             [
              0.6666666666666666,
              "#ed7953"
             ],
             [
              0.7777777777777778,
              "#fb9f3a"
             ],
             [
              0.8888888888888888,
              "#fdca26"
             ],
             [
              1,
              "#f0f921"
             ]
            ],
            "type": "histogram2d"
           }
          ],
          "histogram2dcontour": [
           {
            "colorbar": {
             "outlinewidth": 0,
             "ticks": ""
            },
            "colorscale": [
             [
              0,
              "#0d0887"
             ],
             [
              0.1111111111111111,
              "#46039f"
             ],
             [
              0.2222222222222222,
              "#7201a8"
             ],
             [
              0.3333333333333333,
              "#9c179e"
             ],
             [
              0.4444444444444444,
              "#bd3786"
             ],
             [
              0.5555555555555556,
              "#d8576b"
             ],
             [
              0.6666666666666666,
              "#ed7953"
             ],
             [
              0.7777777777777778,
              "#fb9f3a"
             ],
             [
              0.8888888888888888,
              "#fdca26"
             ],
             [
              1,
              "#f0f921"
             ]
            ],
            "type": "histogram2dcontour"
           }
          ],
          "mesh3d": [
           {
            "colorbar": {
             "outlinewidth": 0,
             "ticks": ""
            },
            "type": "mesh3d"
           }
          ],
          "parcoords": [
           {
            "line": {
             "colorbar": {
              "outlinewidth": 0,
              "ticks": ""
             }
            },
            "type": "parcoords"
           }
          ],
          "pie": [
           {
            "automargin": true,
            "type": "pie"
           }
          ],
          "scatter": [
           {
            "marker": {
             "colorbar": {
              "outlinewidth": 0,
              "ticks": ""
             }
            },
            "type": "scatter"
           }
          ],
          "scatter3d": [
           {
            "line": {
             "colorbar": {
              "outlinewidth": 0,
              "ticks": ""
             }
            },
            "marker": {
             "colorbar": {
              "outlinewidth": 0,
              "ticks": ""
             }
            },
            "type": "scatter3d"
           }
          ],
          "scattercarpet": [
           {
            "marker": {
             "colorbar": {
              "outlinewidth": 0,
              "ticks": ""
             }
            },
            "type": "scattercarpet"
           }
          ],
          "scattergeo": [
           {
            "marker": {
             "colorbar": {
              "outlinewidth": 0,
              "ticks": ""
             }
            },
            "type": "scattergeo"
           }
          ],
          "scattergl": [
           {
            "marker": {
             "colorbar": {
              "outlinewidth": 0,
              "ticks": ""
             }
            },
            "type": "scattergl"
           }
          ],
          "scattermapbox": [
           {
            "marker": {
             "colorbar": {
              "outlinewidth": 0,
              "ticks": ""
             }
            },
            "type": "scattermapbox"
           }
          ],
          "scatterpolar": [
           {
            "marker": {
             "colorbar": {
              "outlinewidth": 0,
              "ticks": ""
             }
            },
            "type": "scatterpolar"
           }
          ],
          "scatterpolargl": [
           {
            "marker": {
             "colorbar": {
              "outlinewidth": 0,
              "ticks": ""
             }
            },
            "type": "scatterpolargl"
           }
          ],
          "scatterternary": [
           {
            "marker": {
             "colorbar": {
              "outlinewidth": 0,
              "ticks": ""
             }
            },
            "type": "scatterternary"
           }
          ],
          "surface": [
           {
            "colorbar": {
             "outlinewidth": 0,
             "ticks": ""
            },
            "colorscale": [
             [
              0,
              "#0d0887"
             ],
             [
              0.1111111111111111,
              "#46039f"
             ],
             [
              0.2222222222222222,
              "#7201a8"
             ],
             [
              0.3333333333333333,
              "#9c179e"
             ],
             [
              0.4444444444444444,
              "#bd3786"
             ],
             [
              0.5555555555555556,
              "#d8576b"
             ],
             [
              0.6666666666666666,
              "#ed7953"
             ],
             [
              0.7777777777777778,
              "#fb9f3a"
             ],
             [
              0.8888888888888888,
              "#fdca26"
             ],
             [
              1,
              "#f0f921"
             ]
            ],
            "type": "surface"
           }
          ],
          "table": [
           {
            "cells": {
             "fill": {
              "color": "#EBF0F8"
             },
             "line": {
              "color": "white"
             }
            },
            "header": {
             "fill": {
              "color": "#C8D4E3"
             },
             "line": {
              "color": "white"
             }
            },
            "type": "table"
           }
          ]
         },
         "layout": {
          "annotationdefaults": {
           "arrowcolor": "#2a3f5f",
           "arrowhead": 0,
           "arrowwidth": 1
          },
          "autotypenumbers": "strict",
          "coloraxis": {
           "colorbar": {
            "outlinewidth": 0,
            "ticks": ""
           }
          },
          "colorscale": {
           "diverging": [
            [
             0,
             "#8e0152"
            ],
            [
             0.1,
             "#c51b7d"
            ],
            [
             0.2,
             "#de77ae"
            ],
            [
             0.3,
             "#f1b6da"
            ],
            [
             0.4,
             "#fde0ef"
            ],
            [
             0.5,
             "#f7f7f7"
            ],
            [
             0.6,
             "#e6f5d0"
            ],
            [
             0.7,
             "#b8e186"
            ],
            [
             0.8,
             "#7fbc41"
            ],
            [
             0.9,
             "#4d9221"
            ],
            [
             1,
             "#276419"
            ]
           ],
           "sequential": [
            [
             0,
             "#0d0887"
            ],
            [
             0.1111111111111111,
             "#46039f"
            ],
            [
             0.2222222222222222,
             "#7201a8"
            ],
            [
             0.3333333333333333,
             "#9c179e"
            ],
            [
             0.4444444444444444,
             "#bd3786"
            ],
            [
             0.5555555555555556,
             "#d8576b"
            ],
            [
             0.6666666666666666,
             "#ed7953"
            ],
            [
             0.7777777777777778,
             "#fb9f3a"
            ],
            [
             0.8888888888888888,
             "#fdca26"
            ],
            [
             1,
             "#f0f921"
            ]
           ],
           "sequentialminus": [
            [
             0,
             "#0d0887"
            ],
            [
             0.1111111111111111,
             "#46039f"
            ],
            [
             0.2222222222222222,
             "#7201a8"
            ],
            [
             0.3333333333333333,
             "#9c179e"
            ],
            [
             0.4444444444444444,
             "#bd3786"
            ],
            [
             0.5555555555555556,
             "#d8576b"
            ],
            [
             0.6666666666666666,
             "#ed7953"
            ],
            [
             0.7777777777777778,
             "#fb9f3a"
            ],
            [
             0.8888888888888888,
             "#fdca26"
            ],
            [
             1,
             "#f0f921"
            ]
           ]
          },
          "colorway": [
           "#636efa",
           "#EF553B",
           "#00cc96",
           "#ab63fa",
           "#FFA15A",
           "#19d3f3",
           "#FF6692",
           "#B6E880",
           "#FF97FF",
           "#FECB52"
          ],
          "font": {
           "color": "#2a3f5f"
          },
          "geo": {
           "bgcolor": "white",
           "lakecolor": "white",
           "landcolor": "#E5ECF6",
           "showlakes": true,
           "showland": true,
           "subunitcolor": "white"
          },
          "hoverlabel": {
           "align": "left"
          },
          "hovermode": "closest",
          "mapbox": {
           "style": "light"
          },
          "paper_bgcolor": "white",
          "plot_bgcolor": "#E5ECF6",
          "polar": {
           "angularaxis": {
            "gridcolor": "white",
            "linecolor": "white",
            "ticks": ""
           },
           "bgcolor": "#E5ECF6",
           "radialaxis": {
            "gridcolor": "white",
            "linecolor": "white",
            "ticks": ""
           }
          },
          "scene": {
           "xaxis": {
            "backgroundcolor": "#E5ECF6",
            "gridcolor": "white",
            "gridwidth": 2,
            "linecolor": "white",
            "showbackground": true,
            "ticks": "",
            "zerolinecolor": "white"
           },
           "yaxis": {
            "backgroundcolor": "#E5ECF6",
            "gridcolor": "white",
            "gridwidth": 2,
            "linecolor": "white",
            "showbackground": true,
            "ticks": "",
            "zerolinecolor": "white"
           },
           "zaxis": {
            "backgroundcolor": "#E5ECF6",
            "gridcolor": "white",
            "gridwidth": 2,
            "linecolor": "white",
            "showbackground": true,
            "ticks": "",
            "zerolinecolor": "white"
           }
          },
          "shapedefaults": {
           "line": {
            "color": "#2a3f5f"
           }
          },
          "ternary": {
           "aaxis": {
            "gridcolor": "white",
            "linecolor": "white",
            "ticks": ""
           },
           "baxis": {
            "gridcolor": "white",
            "linecolor": "white",
            "ticks": ""
           },
           "bgcolor": "#E5ECF6",
           "caxis": {
            "gridcolor": "white",
            "linecolor": "white",
            "ticks": ""
           }
          },
          "title": {
           "x": 0.05
          },
          "xaxis": {
           "automargin": true,
           "gridcolor": "white",
           "linecolor": "white",
           "ticks": "",
           "title": {
            "standoff": 15
           },
           "zerolinecolor": "white",
           "zerolinewidth": 2
          },
          "yaxis": {
           "automargin": true,
           "gridcolor": "white",
           "linecolor": "white",
           "ticks": "",
           "title": {
            "standoff": 15
           },
           "zerolinecolor": "white",
           "zerolinewidth": 2
          }
         }
        },
        "title": {
         "font": {
          "color": "#4D5663"
         }
        },
        "xaxis": {
         "gridcolor": "#E1E5ED",
         "showgrid": true,
         "tickfont": {
          "color": "#4D5663"
         },
         "title": {
          "font": {
           "color": "#4D5663"
          },
          "text": ""
         },
         "zerolinecolor": "#E1E5ED"
        },
        "yaxis": {
         "gridcolor": "#E1E5ED",
         "showgrid": true,
         "tickfont": {
          "color": "#4D5663"
         },
         "title": {
          "font": {
           "color": "#4D5663"
          },
          "text": ""
         },
         "zerolinecolor": "#E1E5ED"
        },
        "yaxis2": {
         "anchor": "x",
         "gridcolor": "#E1E5ED",
         "overlaying": "y",
         "showgrid": true,
         "side": "right",
         "tickfont": {
          "color": "#4D5663"
         },
         "title": {
          "text": ""
         },
         "zerolinecolor": "#E1E5ED"
        }
       }
      },
      "text/html": [
       "<div>                            <div id=\"4b8c3e05-3131-4ad7-8302-b2ef566d0985\" class=\"plotly-graph-div\" style=\"height:525px; width:100%;\"></div>            <script type=\"text/javascript\">                require([\"plotly\"], function(Plotly) {                    window.PLOTLYENV=window.PLOTLYENV || {};\n",
       "                    window.PLOTLYENV.BASE_URL='https://plot.ly';                                    if (document.getElementById(\"4b8c3e05-3131-4ad7-8302-b2ef566d0985\")) {                    Plotly.newPlot(                        \"4b8c3e05-3131-4ad7-8302-b2ef566d0985\",                        [{\"line\":{\"color\":\"rgba(255, 153, 51, 1.0)\",\"dash\":\"solid\",\"shape\":\"linear\",\"width\":1.3},\"mode\":\"lines\",\"name\":\"1INCH-PERP/mark/c\",\"text\":\"\",\"type\":\"scatter\",\"x\":[],\"y\":[]},{\"line\":{\"color\":\"rgba(55, 128, 191, 1.0)\",\"dash\":\"solid\",\"shape\":\"linear\",\"width\":1.3},\"mode\":\"lines\",\"name\":\"1INCH-1231/mark/c\",\"text\":\"\",\"type\":\"scatter\",\"x\":[],\"y\":[]},{\"line\":{\"color\":\"rgba(50, 171, 96, 1.0)\",\"dash\":\"solid\",\"shape\":\"linear\",\"width\":1.3},\"mode\":\"lines\",\"name\":\"OKB-PERP/mark/c\",\"text\":\"\",\"type\":\"scatter\",\"x\":[],\"y\":[]},{\"line\":{\"color\":\"rgba(128, 0, 128, 1.0)\",\"dash\":\"solid\",\"shape\":\"linear\",\"width\":1.3},\"mode\":\"lines\",\"name\":\"OKB-1231/mark/c\",\"text\":\"\",\"type\":\"scatter\",\"x\":[],\"y\":[]},{\"line\":{\"color\":\"rgba(219, 64, 82, 1.0)\",\"dash\":\"solid\",\"shape\":\"linear\",\"width\":1.3},\"mode\":\"lines\",\"name\":\"1INCH/price/c\",\"text\":\"\",\"type\":\"scatter\",\"x\":[],\"y\":[]},{\"line\":{\"color\":\"rgba(0, 128, 128, 1.0)\",\"dash\":\"solid\",\"shape\":\"linear\",\"width\":1.3},\"mode\":\"lines\",\"name\":\"OKB/price/c\",\"text\":\"\",\"type\":\"scatter\",\"x\":[],\"y\":[]},{\"line\":{\"color\":\"rgba(255, 255, 51, 1.0)\",\"dash\":\"solid\",\"shape\":\"linear\",\"width\":1.3},\"mode\":\"lines\",\"name\":\"1INCH-PERP/rate/c\",\"text\":\"\",\"type\":\"scatter\",\"x\":[],\"xaxis\":\"x\",\"y\":[],\"yaxis\":\"y2\"},{\"line\":{\"color\":\"rgba(128, 128, 0, 1.0)\",\"dash\":\"solid\",\"shape\":\"linear\",\"width\":1.3},\"mode\":\"lines\",\"name\":\"1INCH-1231/rate/c\",\"text\":\"\",\"type\":\"scatter\",\"x\":[],\"xaxis\":\"x\",\"y\":[],\"yaxis\":\"y2\"},{\"line\":{\"color\":\"rgba(251, 128, 114, 1.0)\",\"dash\":\"solid\",\"shape\":\"linear\",\"width\":1.3},\"mode\":\"lines\",\"name\":\"OKB-PERP/rate/c\",\"text\":\"\",\"type\":\"scatter\",\"x\":[],\"xaxis\":\"x\",\"y\":[],\"yaxis\":\"y2\"},{\"line\":{\"color\":\"rgba(128, 177, 211, 1.0)\",\"dash\":\"solid\",\"shape\":\"linear\",\"width\":1.3},\"mode\":\"lines\",\"name\":\"OKB-1231/rate/c\",\"text\":\"\",\"type\":\"scatter\",\"x\":[],\"xaxis\":\"x\",\"y\":[],\"yaxis\":\"y2\"},{\"line\":{\"color\":\"rgba(128, 177, 211, 0.8999999999999999)\",\"dash\":\"solid\",\"shape\":\"linear\",\"width\":1.3},\"mode\":\"lines\",\"name\":\"USD/rate/borrow\",\"text\":\"\",\"type\":\"scatter\",\"x\":[],\"xaxis\":\"x\",\"y\":[],\"yaxis\":\"y2\"},{\"line\":{\"color\":\"rgba(128, 0, 128, 0.8999999999999999)\",\"dash\":\"solid\",\"shape\":\"linear\",\"width\":1.3},\"mode\":\"lines\",\"name\":\"1INCH/rate/borrow\",\"text\":\"\",\"type\":\"scatter\",\"x\":[],\"xaxis\":\"x\",\"y\":[],\"yaxis\":\"y2\"},{\"line\":{\"color\":\"rgba(128, 0, 128, 0.8999999999999999)\",\"dash\":\"solid\",\"shape\":\"linear\",\"width\":1.3},\"mode\":\"lines\",\"name\":\"1INCH/rate/borrow\",\"text\":\"\",\"type\":\"scatter\",\"x\":[],\"y\":[]},{\"line\":{\"color\":\"rgba(128, 0, 128, 0.8999999999999999)\",\"dash\":\"solid\",\"shape\":\"linear\",\"width\":1.3},\"mode\":\"lines\",\"name\":\"1INCH/rate/borrow\",\"text\":\"\",\"type\":\"scatter\",\"x\":[],\"y\":[]},{\"line\":{\"color\":\"rgba(128, 0, 128, 0.8999999999999999)\",\"dash\":\"solid\",\"shape\":\"linear\",\"width\":1.3},\"mode\":\"lines\",\"name\":\"1INCH/rate/borrow\",\"text\":\"\",\"type\":\"scatter\",\"x\":[],\"y\":[]},{\"line\":{\"color\":\"rgba(128, 128, 0, 0.8999999999999999)\",\"dash\":\"solid\",\"shape\":\"linear\",\"width\":1.3},\"mode\":\"lines\",\"name\":\"OKB/rate/borrow\",\"text\":\"\",\"type\":\"scatter\",\"x\":[],\"xaxis\":\"x\",\"y\":[],\"yaxis\":\"y2\"},{\"line\":{\"color\":\"rgba(128, 128, 0, 0.8999999999999999)\",\"dash\":\"solid\",\"shape\":\"linear\",\"width\":1.3},\"mode\":\"lines\",\"name\":\"OKB/rate/borrow\",\"text\":\"\",\"type\":\"scatter\",\"x\":[],\"y\":[]},{\"line\":{\"color\":\"rgba(128, 128, 0, 0.8999999999999999)\",\"dash\":\"solid\",\"shape\":\"linear\",\"width\":1.3},\"mode\":\"lines\",\"name\":\"OKB/rate/borrow\",\"text\":\"\",\"type\":\"scatter\",\"x\":[],\"y\":[]},{\"line\":{\"color\":\"rgba(128, 128, 0, 0.8999999999999999)\",\"dash\":\"solid\",\"shape\":\"linear\",\"width\":1.3},\"mode\":\"lines\",\"name\":\"OKB/rate/borrow\",\"text\":\"\",\"type\":\"scatter\",\"x\":[],\"y\":[]}],                        {\"legend\":{\"bgcolor\":\"#F5F6F9\",\"font\":{\"color\":\"#4D5663\"}},\"paper_bgcolor\":\"#F5F6F9\",\"plot_bgcolor\":\"#F5F6F9\",\"template\":{\"data\":{\"bar\":[{\"error_x\":{\"color\":\"#2a3f5f\"},\"error_y\":{\"color\":\"#2a3f5f\"},\"marker\":{\"line\":{\"color\":\"#E5ECF6\",\"width\":0.5},\"pattern\":{\"fillmode\":\"overlay\",\"size\":10,\"solidity\":0.2}},\"type\":\"bar\"}],\"barpolar\":[{\"marker\":{\"line\":{\"color\":\"#E5ECF6\",\"width\":0.5},\"pattern\":{\"fillmode\":\"overlay\",\"size\":10,\"solidity\":0.2}},\"type\":\"barpolar\"}],\"carpet\":[{\"aaxis\":{\"endlinecolor\":\"#2a3f5f\",\"gridcolor\":\"white\",\"linecolor\":\"white\",\"minorgridcolor\":\"white\",\"startlinecolor\":\"#2a3f5f\"},\"baxis\":{\"endlinecolor\":\"#2a3f5f\",\"gridcolor\":\"white\",\"linecolor\":\"white\",\"minorgridcolor\":\"white\",\"startlinecolor\":\"#2a3f5f\"},\"type\":\"carpet\"}],\"choropleth\":[{\"colorbar\":{\"outlinewidth\":0,\"ticks\":\"\"},\"type\":\"choropleth\"}],\"contour\":[{\"colorbar\":{\"outlinewidth\":0,\"ticks\":\"\"},\"colorscale\":[[0.0,\"#0d0887\"],[0.1111111111111111,\"#46039f\"],[0.2222222222222222,\"#7201a8\"],[0.3333333333333333,\"#9c179e\"],[0.4444444444444444,\"#bd3786\"],[0.5555555555555556,\"#d8576b\"],[0.6666666666666666,\"#ed7953\"],[0.7777777777777778,\"#fb9f3a\"],[0.8888888888888888,\"#fdca26\"],[1.0,\"#f0f921\"]],\"type\":\"contour\"}],\"contourcarpet\":[{\"colorbar\":{\"outlinewidth\":0,\"ticks\":\"\"},\"type\":\"contourcarpet\"}],\"heatmap\":[{\"colorbar\":{\"outlinewidth\":0,\"ticks\":\"\"},\"colorscale\":[[0.0,\"#0d0887\"],[0.1111111111111111,\"#46039f\"],[0.2222222222222222,\"#7201a8\"],[0.3333333333333333,\"#9c179e\"],[0.4444444444444444,\"#bd3786\"],[0.5555555555555556,\"#d8576b\"],[0.6666666666666666,\"#ed7953\"],[0.7777777777777778,\"#fb9f3a\"],[0.8888888888888888,\"#fdca26\"],[1.0,\"#f0f921\"]],\"type\":\"heatmap\"}],\"heatmapgl\":[{\"colorbar\":{\"outlinewidth\":0,\"ticks\":\"\"},\"colorscale\":[[0.0,\"#0d0887\"],[0.1111111111111111,\"#46039f\"],[0.2222222222222222,\"#7201a8\"],[0.3333333333333333,\"#9c179e\"],[0.4444444444444444,\"#bd3786\"],[0.5555555555555556,\"#d8576b\"],[0.6666666666666666,\"#ed7953\"],[0.7777777777777778,\"#fb9f3a\"],[0.8888888888888888,\"#fdca26\"],[1.0,\"#f0f921\"]],\"type\":\"heatmapgl\"}],\"histogram\":[{\"marker\":{\"pattern\":{\"fillmode\":\"overlay\",\"size\":10,\"solidity\":0.2}},\"type\":\"histogram\"}],\"histogram2d\":[{\"colorbar\":{\"outlinewidth\":0,\"ticks\":\"\"},\"colorscale\":[[0.0,\"#0d0887\"],[0.1111111111111111,\"#46039f\"],[0.2222222222222222,\"#7201a8\"],[0.3333333333333333,\"#9c179e\"],[0.4444444444444444,\"#bd3786\"],[0.5555555555555556,\"#d8576b\"],[0.6666666666666666,\"#ed7953\"],[0.7777777777777778,\"#fb9f3a\"],[0.8888888888888888,\"#fdca26\"],[1.0,\"#f0f921\"]],\"type\":\"histogram2d\"}],\"histogram2dcontour\":[{\"colorbar\":{\"outlinewidth\":0,\"ticks\":\"\"},\"colorscale\":[[0.0,\"#0d0887\"],[0.1111111111111111,\"#46039f\"],[0.2222222222222222,\"#7201a8\"],[0.3333333333333333,\"#9c179e\"],[0.4444444444444444,\"#bd3786\"],[0.5555555555555556,\"#d8576b\"],[0.6666666666666666,\"#ed7953\"],[0.7777777777777778,\"#fb9f3a\"],[0.8888888888888888,\"#fdca26\"],[1.0,\"#f0f921\"]],\"type\":\"histogram2dcontour\"}],\"mesh3d\":[{\"colorbar\":{\"outlinewidth\":0,\"ticks\":\"\"},\"type\":\"mesh3d\"}],\"parcoords\":[{\"line\":{\"colorbar\":{\"outlinewidth\":0,\"ticks\":\"\"}},\"type\":\"parcoords\"}],\"pie\":[{\"automargin\":true,\"type\":\"pie\"}],\"scatter\":[{\"marker\":{\"colorbar\":{\"outlinewidth\":0,\"ticks\":\"\"}},\"type\":\"scatter\"}],\"scatter3d\":[{\"line\":{\"colorbar\":{\"outlinewidth\":0,\"ticks\":\"\"}},\"marker\":{\"colorbar\":{\"outlinewidth\":0,\"ticks\":\"\"}},\"type\":\"scatter3d\"}],\"scattercarpet\":[{\"marker\":{\"colorbar\":{\"outlinewidth\":0,\"ticks\":\"\"}},\"type\":\"scattercarpet\"}],\"scattergeo\":[{\"marker\":{\"colorbar\":{\"outlinewidth\":0,\"ticks\":\"\"}},\"type\":\"scattergeo\"}],\"scattergl\":[{\"marker\":{\"colorbar\":{\"outlinewidth\":0,\"ticks\":\"\"}},\"type\":\"scattergl\"}],\"scattermapbox\":[{\"marker\":{\"colorbar\":{\"outlinewidth\":0,\"ticks\":\"\"}},\"type\":\"scattermapbox\"}],\"scatterpolar\":[{\"marker\":{\"colorbar\":{\"outlinewidth\":0,\"ticks\":\"\"}},\"type\":\"scatterpolar\"}],\"scatterpolargl\":[{\"marker\":{\"colorbar\":{\"outlinewidth\":0,\"ticks\":\"\"}},\"type\":\"scatterpolargl\"}],\"scatterternary\":[{\"marker\":{\"colorbar\":{\"outlinewidth\":0,\"ticks\":\"\"}},\"type\":\"scatterternary\"}],\"surface\":[{\"colorbar\":{\"outlinewidth\":0,\"ticks\":\"\"},\"colorscale\":[[0.0,\"#0d0887\"],[0.1111111111111111,\"#46039f\"],[0.2222222222222222,\"#7201a8\"],[0.3333333333333333,\"#9c179e\"],[0.4444444444444444,\"#bd3786\"],[0.5555555555555556,\"#d8576b\"],[0.6666666666666666,\"#ed7953\"],[0.7777777777777778,\"#fb9f3a\"],[0.8888888888888888,\"#fdca26\"],[1.0,\"#f0f921\"]],\"type\":\"surface\"}],\"table\":[{\"cells\":{\"fill\":{\"color\":\"#EBF0F8\"},\"line\":{\"color\":\"white\"}},\"header\":{\"fill\":{\"color\":\"#C8D4E3\"},\"line\":{\"color\":\"white\"}},\"type\":\"table\"}]},\"layout\":{\"annotationdefaults\":{\"arrowcolor\":\"#2a3f5f\",\"arrowhead\":0,\"arrowwidth\":1},\"autotypenumbers\":\"strict\",\"coloraxis\":{\"colorbar\":{\"outlinewidth\":0,\"ticks\":\"\"}},\"colorscale\":{\"diverging\":[[0,\"#8e0152\"],[0.1,\"#c51b7d\"],[0.2,\"#de77ae\"],[0.3,\"#f1b6da\"],[0.4,\"#fde0ef\"],[0.5,\"#f7f7f7\"],[0.6,\"#e6f5d0\"],[0.7,\"#b8e186\"],[0.8,\"#7fbc41\"],[0.9,\"#4d9221\"],[1,\"#276419\"]],\"sequential\":[[0.0,\"#0d0887\"],[0.1111111111111111,\"#46039f\"],[0.2222222222222222,\"#7201a8\"],[0.3333333333333333,\"#9c179e\"],[0.4444444444444444,\"#bd3786\"],[0.5555555555555556,\"#d8576b\"],[0.6666666666666666,\"#ed7953\"],[0.7777777777777778,\"#fb9f3a\"],[0.8888888888888888,\"#fdca26\"],[1.0,\"#f0f921\"]],\"sequentialminus\":[[0.0,\"#0d0887\"],[0.1111111111111111,\"#46039f\"],[0.2222222222222222,\"#7201a8\"],[0.3333333333333333,\"#9c179e\"],[0.4444444444444444,\"#bd3786\"],[0.5555555555555556,\"#d8576b\"],[0.6666666666666666,\"#ed7953\"],[0.7777777777777778,\"#fb9f3a\"],[0.8888888888888888,\"#fdca26\"],[1.0,\"#f0f921\"]]},\"colorway\":[\"#636efa\",\"#EF553B\",\"#00cc96\",\"#ab63fa\",\"#FFA15A\",\"#19d3f3\",\"#FF6692\",\"#B6E880\",\"#FF97FF\",\"#FECB52\"],\"font\":{\"color\":\"#2a3f5f\"},\"geo\":{\"bgcolor\":\"white\",\"lakecolor\":\"white\",\"landcolor\":\"#E5ECF6\",\"showlakes\":true,\"showland\":true,\"subunitcolor\":\"white\"},\"hoverlabel\":{\"align\":\"left\"},\"hovermode\":\"closest\",\"mapbox\":{\"style\":\"light\"},\"paper_bgcolor\":\"white\",\"plot_bgcolor\":\"#E5ECF6\",\"polar\":{\"angularaxis\":{\"gridcolor\":\"white\",\"linecolor\":\"white\",\"ticks\":\"\"},\"bgcolor\":\"#E5ECF6\",\"radialaxis\":{\"gridcolor\":\"white\",\"linecolor\":\"white\",\"ticks\":\"\"}},\"scene\":{\"xaxis\":{\"backgroundcolor\":\"#E5ECF6\",\"gridcolor\":\"white\",\"gridwidth\":2,\"linecolor\":\"white\",\"showbackground\":true,\"ticks\":\"\",\"zerolinecolor\":\"white\"},\"yaxis\":{\"backgroundcolor\":\"#E5ECF6\",\"gridcolor\":\"white\",\"gridwidth\":2,\"linecolor\":\"white\",\"showbackground\":true,\"ticks\":\"\",\"zerolinecolor\":\"white\"},\"zaxis\":{\"backgroundcolor\":\"#E5ECF6\",\"gridcolor\":\"white\",\"gridwidth\":2,\"linecolor\":\"white\",\"showbackground\":true,\"ticks\":\"\",\"zerolinecolor\":\"white\"}},\"shapedefaults\":{\"line\":{\"color\":\"#2a3f5f\"}},\"ternary\":{\"aaxis\":{\"gridcolor\":\"white\",\"linecolor\":\"white\",\"ticks\":\"\"},\"baxis\":{\"gridcolor\":\"white\",\"linecolor\":\"white\",\"ticks\":\"\"},\"bgcolor\":\"#E5ECF6\",\"caxis\":{\"gridcolor\":\"white\",\"linecolor\":\"white\",\"ticks\":\"\"}},\"title\":{\"x\":0.05},\"xaxis\":{\"automargin\":true,\"gridcolor\":\"white\",\"linecolor\":\"white\",\"ticks\":\"\",\"title\":{\"standoff\":15},\"zerolinecolor\":\"white\",\"zerolinewidth\":2},\"yaxis\":{\"automargin\":true,\"gridcolor\":\"white\",\"linecolor\":\"white\",\"ticks\":\"\",\"title\":{\"standoff\":15},\"zerolinecolor\":\"white\",\"zerolinewidth\":2}}},\"title\":{\"font\":{\"color\":\"#4D5663\"}},\"xaxis\":{\"gridcolor\":\"#E1E5ED\",\"showgrid\":true,\"tickfont\":{\"color\":\"#4D5663\"},\"title\":{\"font\":{\"color\":\"#4D5663\"},\"text\":\"\"},\"zerolinecolor\":\"#E1E5ED\"},\"yaxis\":{\"gridcolor\":\"#E1E5ED\",\"showgrid\":true,\"tickfont\":{\"color\":\"#4D5663\"},\"title\":{\"font\":{\"color\":\"#4D5663\"},\"text\":\"\"},\"zerolinecolor\":\"#E1E5ED\"},\"yaxis2\":{\"anchor\":\"x\",\"gridcolor\":\"#E1E5ED\",\"overlaying\":\"y\",\"showgrid\":true,\"side\":\"right\",\"tickfont\":{\"color\":\"#4D5663\"},\"title\":{\"text\":\"\"},\"zerolinecolor\":\"#E1E5ED\"}},                        {\"showLink\": true, \"linkText\": \"Export to plot.ly\", \"plotlyServerURL\": \"https://plot.ly\", \"responsive\": true}                    ).then(function(){\n",
       "                            \n",
       "var gd = document.getElementById('4b8c3e05-3131-4ad7-8302-b2ef566d0985');\n",
       "var x = new MutationObserver(function (mutations, observer) {{\n",
       "        var display = window.getComputedStyle(gd).display;\n",
       "        if (!display || display === 'none') {{\n",
       "            console.log([gd, 'removed!']);\n",
       "            Plotly.purge(gd);\n",
       "            observer.disconnect();\n",
       "        }}\n",
       "}});\n",
       "\n",
       "// Listen for the removal of the full notebook cells\n",
       "var notebookContainer = gd.closest('#notebook-container');\n",
       "if (notebookContainer) {{\n",
       "    x.observe(notebookContainer, {childList: true});\n",
       "}}\n",
       "\n",
       "// Listen for the clearing of the current output cell\n",
       "var outputEl = gd.closest('.output');\n",
       "if (outputEl) {{\n",
       "    x.observe(outputEl, {childList: true});\n",
       "}}\n",
       "\n",
       "                        })                };                });            </script>        </div>"
      ]
     },
     "metadata": {},
     "output_type": "display_data"
    }
   ],
   "source": [
    "prices=futures_df[[c for c in futures_df.columns if any(string in c for string in ['mark/c','price/c'])]]\n",
    "rates=futures_df[[c for c in futures_df.columns if any(string in c for string in ['rate/c','rate/borrow'])]]\n",
    "prices.join(rates).iplot(secondary_y=list(rates.columns))"
   ]
  },
  {
   "cell_type": "markdown",
   "id": "b8dbc4c7",
   "metadata": {},
   "source": [
    "## stopout: show min/max of premiums"
   ]
  },
  {
   "cell_type": "code",
   "execution_count": 4,
   "id": "a1c4d6bf",
   "metadata": {},
   "outputs": [],
   "source": [
    "def compute_premium(df: pd.DataFrame,mode=1) -> pd.Series:\n",
    "    return (df.filter(like='/mark/'+ modes[mode][0]).iloc[:,0]/df.filter(like='/indexes/'+modes[mode][1]).iloc[:,0]-1)*10000\n",
    "def compile_list(premium_list: list) -> pd.DataFrame:\n",
    "    premium=premium_list[0]\n",
    "    for df in premium_list[1:]:\n",
    "        premium=premium.join(df,how='outer')\n",
    "    return premium[~premium.index.duplicated()]"
   ]
  },
  {
   "cell_type": "code",
   "execution_count": 5,
   "id": "b1a56bf5",
   "metadata": {},
   "outputs": [],
   "source": [
    "futures_df['premium']=compute_premium(futures_df)"
   ]
  },
  {
   "cell_type": "code",
   "execution_count": 6,
   "id": "0ba776bb",
   "metadata": {},
   "outputs": [
    {
     "data": {
      "application/vnd.plotly.v1+json": {
       "config": {
        "plotlyServerURL": "https://plot.ly"
       },
       "data": [
        {
         "hovertemplate": "variable=0<br>index=%{x}<br>value=%{y}<extra></extra>",
         "legendgroup": "0",
         "line": {
          "color": "#636efa",
          "dash": "solid"
         },
         "marker": {
          "symbol": "circle"
         },
         "mode": "lines",
         "name": "0",
         "orientation": "v",
         "showlegend": true,
         "type": "scatter",
         "x": [
          "2021-11-18T05:00:00",
          "2021-11-18T06:00:00",
          "2021-11-18T07:00:00",
          "2021-11-18T08:00:00",
          "2021-11-18T09:00:00",
          "2021-11-18T10:00:00",
          "2021-11-18T11:00:00",
          "2021-11-18T12:00:00",
          "2021-11-18T13:00:00",
          "2021-11-18T14:00:00",
          "2021-11-18T15:00:00",
          "2021-11-18T16:00:00",
          "2021-11-18T17:00:00",
          "2021-11-18T18:00:00",
          "2021-11-18T19:00:00",
          "2021-11-18T20:00:00",
          "2021-11-18T21:00:00",
          "2021-11-18T22:00:00",
          "2021-11-18T23:00:00",
          "2021-11-19T00:00:00",
          "2021-11-19T01:00:00",
          "2021-11-19T02:00:00",
          "2021-11-19T03:00:00",
          "2021-11-19T04:00:00",
          "2021-11-19T05:00:00",
          "2021-11-19T06:00:00",
          "2021-11-19T07:00:00",
          "2021-11-19T08:00:00",
          "2021-11-19T09:00:00",
          "2021-11-19T10:00:00",
          "2021-11-19T11:00:00",
          "2021-11-19T12:00:00",
          "2021-11-19T13:00:00",
          "2021-11-19T14:00:00",
          "2021-11-19T15:00:00",
          "2021-11-19T16:00:00",
          "2021-11-19T17:00:00",
          "2021-11-19T18:00:00",
          "2021-11-19T19:00:00",
          "2021-11-19T20:00:00",
          "2021-11-19T21:00:00",
          "2021-11-19T22:00:00",
          "2021-11-19T23:00:00",
          "2021-11-20T00:00:00",
          "2021-11-20T01:00:00",
          "2021-11-20T02:00:00",
          "2021-11-20T03:00:00",
          "2021-11-20T04:00:00",
          "2021-11-20T05:00:00",
          "2021-11-20T06:00:00",
          "2021-11-20T07:00:00",
          "2021-11-20T08:00:00",
          "2021-11-20T09:00:00",
          "2021-11-20T10:00:00",
          "2021-11-20T11:00:00",
          "2021-11-20T12:00:00",
          "2021-11-20T13:00:00",
          "2021-11-20T14:00:00",
          "2021-11-20T15:00:00",
          "2021-11-20T16:00:00",
          "2021-11-20T17:00:00",
          "2021-11-20T18:00:00",
          "2021-11-20T19:00:00",
          "2021-11-20T20:00:00",
          "2021-11-20T21:00:00",
          "2021-11-20T22:00:00",
          "2021-11-20T23:00:00",
          "2021-11-21T00:00:00",
          "2021-11-21T01:00:00",
          "2021-11-21T02:00:00",
          "2021-11-21T03:00:00",
          "2021-11-21T04:00:00",
          "2021-11-21T05:00:00",
          "2021-11-21T06:00:00",
          "2021-11-21T07:00:00",
          "2021-11-21T08:00:00",
          "2021-11-21T09:00:00",
          "2021-11-21T10:00:00",
          "2021-11-21T11:00:00",
          "2021-11-21T12:00:00",
          "2021-11-21T13:00:00",
          "2021-11-21T14:00:00",
          "2021-11-21T15:00:00",
          "2021-11-21T16:00:00",
          "2021-11-21T17:00:00",
          "2021-11-21T18:00:00",
          "2021-11-21T19:00:00",
          "2021-11-21T20:00:00",
          "2021-11-21T21:00:00",
          "2021-11-21T22:00:00",
          "2021-11-21T23:00:00",
          "2021-11-22T00:00:00",
          "2021-11-22T01:00:00",
          "2021-11-22T02:00:00",
          "2021-11-22T03:00:00",
          "2021-11-22T04:00:00",
          "2021-11-22T05:00:00",
          "2021-11-22T06:00:00",
          "2021-11-22T07:00:00",
          "2021-11-22T08:00:00",
          "2021-11-22T09:00:00",
          "2021-11-22T10:00:00",
          "2021-11-22T11:00:00",
          "2021-11-22T12:00:00",
          "2021-11-22T13:00:00",
          "2021-11-22T14:00:00",
          "2021-11-22T15:00:00",
          "2021-11-22T16:00:00",
          "2021-11-22T17:00:00",
          "2021-11-22T18:00:00",
          "2021-11-22T19:00:00",
          "2021-11-22T20:00:00",
          "2021-11-22T21:00:00",
          "2021-11-22T22:00:00",
          "2021-11-22T23:00:00",
          "2021-11-23T00:00:00",
          "2021-11-23T01:00:00",
          "2021-11-23T02:00:00",
          "2021-11-23T03:00:00",
          "2021-11-23T04:00:00",
          "2021-11-23T05:00:00",
          "2021-11-23T06:00:00",
          "2021-11-23T07:00:00",
          "2021-11-23T08:00:00",
          "2021-11-23T09:00:00",
          "2021-11-23T10:00:00",
          "2021-11-23T11:00:00",
          "2021-11-23T12:00:00",
          "2021-11-23T13:00:00",
          "2021-11-23T14:00:00",
          "2021-11-23T15:00:00",
          "2021-11-23T16:00:00",
          "2021-11-23T17:00:00"
         ],
         "xaxis": "x",
         "y": [
          -29.083677469030622,
          -33.8527393400534,
          -22.907434319396902,
          -13.417701616299516,
          -8.175496361088053,
          -22.558771792764443,
          -18.95682960368905,
          -13.821172742386478,
          -18.963146950602415,
          -23.6335229229101,
          6.447937505462686,
          -7.37111679137481,
          -30.47788372798621,
          -24.00357950757881,
          -27.819404238245138,
          -28.143456061016092,
          -24.814821958263344,
          -5.683845685025002,
          -8.846091446647053,
          18.70278712044593,
          -15.623600411802663,
          -14.999765917748098,
          -17.62549966321636,
          -13.04708859719339,
          -25.713160914641044,
          -20.61862492662936,
          -14.334527748330883,
          -21.488282583265182,
          -14.920279555595828,
          -18.01041218813859,
          -6.86655889501564,
          -11.395665107348796,
          -9.788020744655457,
          -31.042366259842467,
          -28.609975690001566,
          -21.485012184866427,
          -16.24309650133382,
          -21.21013703754504,
          -9.78891211534827,
          -21.94530429782904,
          -33.454084627282384,
          -34.289673122818165,
          -28.694364657874118,
          -33.1655890618876,
          -19.517071979886502,
          -17.633828505331238,
          -15.119656957380823,
          -17.24078850545263,
          -13.473531377757864,
          -23.205017929136538,
          -27.62986573254689,
          -10.85004700948744,
          -4.40833284087061,
          -23.466608274447243,
          -38.43653660488111,
          -39.40788961609765,
          -36.781020800218386,
          -40.176782156661204,
          -37.83911251061478,
          -21.68218918758513,
          -23.453325098192757,
          -30.29142540104668,
          9.373972477235704,
          -15.202212979228413,
          -11.22897203389539,
          -24.00328102108107,
          -29.414130027838326,
          -15.136592059818987,
          -20.19156018947865,
          -18.902173554857793,
          -18.421985134922103,
          -18.431611956194473,
          -19.41202792195118,
          -19.753736459654505,
          -16.272053738408676,
          -24.833073696081122,
          -42.45620698473229,
          -41.94160800930047,
          -37.493281341884895,
          -20.58122736017576,
          -18.954547910485786,
          -24.299907139685438,
          -15.518313237743442,
          -1.5465921409452132,
          14.26415499103273,
          -3.9945186507261976,
          -17.995803080560478,
          12.775925178927228,
          -13.908011922993957,
          -16.872650909124374,
          76.394327856244,
          -15.439846575637795,
          -22.091579378122894,
          -24.55775319147868,
          -24.81862635910881,
          -20.730996642304156,
          -16.143783709750004,
          -30.021910897640723,
          -18.164739865685895,
          -9.417654196349767,
          -11.92022394469694,
          -8.801698360408894,
          -10.927472760083878,
          -11.750490039161843,
          0.5568986025039635,
          -23.77972034671716,
          -20.30071090333596,
          -17.672545941952443,
          -23.430490152880346,
          -19.086210447138985,
          83.24921200001168,
          -22.47040366174513,
          -14.54758400164402,
          -21.399993318865775,
          -23.678820672996537,
          -17.00192954194657,
          -15.025813307824043,
          -25.24370200929993,
          -24.632332987748473,
          -25.224472034964805,
          -23.656690447573236,
          -5.303127860341039,
          -22.789216064109663,
          -11.903328831257554,
          -28.498832738856894,
          -17.93740642439312,
          -22.784672722697685,
          -12.62051680400722,
          -10.654699668795065,
          -11.241856776693648,
          23.225719042574422,
          -3.772040563275736,
          -12.62179712018252
         ],
         "yaxis": "y"
        }
       ],
       "layout": {
        "legend": {
         "title": {
          "text": "variable"
         },
         "tracegroupgap": 0
        },
        "template": {
         "data": {
          "bar": [
           {
            "error_x": {
             "color": "#2a3f5f"
            },
            "error_y": {
             "color": "#2a3f5f"
            },
            "marker": {
             "line": {
              "color": "#E5ECF6",
              "width": 0.5
             },
             "pattern": {
              "fillmode": "overlay",
              "size": 10,
              "solidity": 0.2
             }
            },
            "type": "bar"
           }
          ],
          "barpolar": [
           {
            "marker": {
             "line": {
              "color": "#E5ECF6",
              "width": 0.5
             },
             "pattern": {
              "fillmode": "overlay",
              "size": 10,
              "solidity": 0.2
             }
            },
            "type": "barpolar"
           }
          ],
          "carpet": [
           {
            "aaxis": {
             "endlinecolor": "#2a3f5f",
             "gridcolor": "white",
             "linecolor": "white",
             "minorgridcolor": "white",
             "startlinecolor": "#2a3f5f"
            },
            "baxis": {
             "endlinecolor": "#2a3f5f",
             "gridcolor": "white",
             "linecolor": "white",
             "minorgridcolor": "white",
             "startlinecolor": "#2a3f5f"
            },
            "type": "carpet"
           }
          ],
          "choropleth": [
           {
            "colorbar": {
             "outlinewidth": 0,
             "ticks": ""
            },
            "type": "choropleth"
           }
          ],
          "contour": [
           {
            "colorbar": {
             "outlinewidth": 0,
             "ticks": ""
            },
            "colorscale": [
             [
              0,
              "#0d0887"
             ],
             [
              0.1111111111111111,
              "#46039f"
             ],
             [
              0.2222222222222222,
              "#7201a8"
             ],
             [
              0.3333333333333333,
              "#9c179e"
             ],
             [
              0.4444444444444444,
              "#bd3786"
             ],
             [
              0.5555555555555556,
              "#d8576b"
             ],
             [
              0.6666666666666666,
              "#ed7953"
             ],
             [
              0.7777777777777778,
              "#fb9f3a"
             ],
             [
              0.8888888888888888,
              "#fdca26"
             ],
             [
              1,
              "#f0f921"
             ]
            ],
            "type": "contour"
           }
          ],
          "contourcarpet": [
           {
            "colorbar": {
             "outlinewidth": 0,
             "ticks": ""
            },
            "type": "contourcarpet"
           }
          ],
          "heatmap": [
           {
            "colorbar": {
             "outlinewidth": 0,
             "ticks": ""
            },
            "colorscale": [
             [
              0,
              "#0d0887"
             ],
             [
              0.1111111111111111,
              "#46039f"
             ],
             [
              0.2222222222222222,
              "#7201a8"
             ],
             [
              0.3333333333333333,
              "#9c179e"
             ],
             [
              0.4444444444444444,
              "#bd3786"
             ],
             [
              0.5555555555555556,
              "#d8576b"
             ],
             [
              0.6666666666666666,
              "#ed7953"
             ],
             [
              0.7777777777777778,
              "#fb9f3a"
             ],
             [
              0.8888888888888888,
              "#fdca26"
             ],
             [
              1,
              "#f0f921"
             ]
            ],
            "type": "heatmap"
           }
          ],
          "heatmapgl": [
           {
            "colorbar": {
             "outlinewidth": 0,
             "ticks": ""
            },
            "colorscale": [
             [
              0,
              "#0d0887"
             ],
             [
              0.1111111111111111,
              "#46039f"
             ],
             [
              0.2222222222222222,
              "#7201a8"
             ],
             [
              0.3333333333333333,
              "#9c179e"
             ],
             [
              0.4444444444444444,
              "#bd3786"
             ],
             [
              0.5555555555555556,
              "#d8576b"
             ],
             [
              0.6666666666666666,
              "#ed7953"
             ],
             [
              0.7777777777777778,
              "#fb9f3a"
             ],
             [
              0.8888888888888888,
              "#fdca26"
             ],
             [
              1,
              "#f0f921"
             ]
            ],
            "type": "heatmapgl"
           }
          ],
          "histogram": [
           {
            "marker": {
             "pattern": {
              "fillmode": "overlay",
              "size": 10,
              "solidity": 0.2
             }
            },
            "type": "histogram"
           }
          ],
          "histogram2d": [
           {
            "colorbar": {
             "outlinewidth": 0,
             "ticks": ""
            },
            "colorscale": [
             [
              0,
              "#0d0887"
             ],
             [
              0.1111111111111111,
              "#46039f"
             ],
             [
              0.2222222222222222,
              "#7201a8"
             ],
             [
              0.3333333333333333,
              "#9c179e"
             ],
             [
              0.4444444444444444,
              "#bd3786"
             ],
             [
              0.5555555555555556,
              "#d8576b"
             ],
             [
              0.6666666666666666,
              "#ed7953"
             ],
             [
              0.7777777777777778,
              "#fb9f3a"
             ],
             [
              0.8888888888888888,
              "#fdca26"
             ],
             [
              1,
              "#f0f921"
             ]
            ],
            "type": "histogram2d"
           }
          ],
          "histogram2dcontour": [
           {
            "colorbar": {
             "outlinewidth": 0,
             "ticks": ""
            },
            "colorscale": [
             [
              0,
              "#0d0887"
             ],
             [
              0.1111111111111111,
              "#46039f"
             ],
             [
              0.2222222222222222,
              "#7201a8"
             ],
             [
              0.3333333333333333,
              "#9c179e"
             ],
             [
              0.4444444444444444,
              "#bd3786"
             ],
             [
              0.5555555555555556,
              "#d8576b"
             ],
             [
              0.6666666666666666,
              "#ed7953"
             ],
             [
              0.7777777777777778,
              "#fb9f3a"
             ],
             [
              0.8888888888888888,
              "#fdca26"
             ],
             [
              1,
              "#f0f921"
             ]
            ],
            "type": "histogram2dcontour"
           }
          ],
          "mesh3d": [
           {
            "colorbar": {
             "outlinewidth": 0,
             "ticks": ""
            },
            "type": "mesh3d"
           }
          ],
          "parcoords": [
           {
            "line": {
             "colorbar": {
              "outlinewidth": 0,
              "ticks": ""
             }
            },
            "type": "parcoords"
           }
          ],
          "pie": [
           {
            "automargin": true,
            "type": "pie"
           }
          ],
          "scatter": [
           {
            "marker": {
             "colorbar": {
              "outlinewidth": 0,
              "ticks": ""
             }
            },
            "type": "scatter"
           }
          ],
          "scatter3d": [
           {
            "line": {
             "colorbar": {
              "outlinewidth": 0,
              "ticks": ""
             }
            },
            "marker": {
             "colorbar": {
              "outlinewidth": 0,
              "ticks": ""
             }
            },
            "type": "scatter3d"
           }
          ],
          "scattercarpet": [
           {
            "marker": {
             "colorbar": {
              "outlinewidth": 0,
              "ticks": ""
             }
            },
            "type": "scattercarpet"
           }
          ],
          "scattergeo": [
           {
            "marker": {
             "colorbar": {
              "outlinewidth": 0,
              "ticks": ""
             }
            },
            "type": "scattergeo"
           }
          ],
          "scattergl": [
           {
            "marker": {
             "colorbar": {
              "outlinewidth": 0,
              "ticks": ""
             }
            },
            "type": "scattergl"
           }
          ],
          "scattermapbox": [
           {
            "marker": {
             "colorbar": {
              "outlinewidth": 0,
              "ticks": ""
             }
            },
            "type": "scattermapbox"
           }
          ],
          "scatterpolar": [
           {
            "marker": {
             "colorbar": {
              "outlinewidth": 0,
              "ticks": ""
             }
            },
            "type": "scatterpolar"
           }
          ],
          "scatterpolargl": [
           {
            "marker": {
             "colorbar": {
              "outlinewidth": 0,
              "ticks": ""
             }
            },
            "type": "scatterpolargl"
           }
          ],
          "scatterternary": [
           {
            "marker": {
             "colorbar": {
              "outlinewidth": 0,
              "ticks": ""
             }
            },
            "type": "scatterternary"
           }
          ],
          "surface": [
           {
            "colorbar": {
             "outlinewidth": 0,
             "ticks": ""
            },
            "colorscale": [
             [
              0,
              "#0d0887"
             ],
             [
              0.1111111111111111,
              "#46039f"
             ],
             [
              0.2222222222222222,
              "#7201a8"
             ],
             [
              0.3333333333333333,
              "#9c179e"
             ],
             [
              0.4444444444444444,
              "#bd3786"
             ],
             [
              0.5555555555555556,
              "#d8576b"
             ],
             [
              0.6666666666666666,
              "#ed7953"
             ],
             [
              0.7777777777777778,
              "#fb9f3a"
             ],
             [
              0.8888888888888888,
              "#fdca26"
             ],
             [
              1,
              "#f0f921"
             ]
            ],
            "type": "surface"
           }
          ],
          "table": [
           {
            "cells": {
             "fill": {
              "color": "#EBF0F8"
             },
             "line": {
              "color": "white"
             }
            },
            "header": {
             "fill": {
              "color": "#C8D4E3"
             },
             "line": {
              "color": "white"
             }
            },
            "type": "table"
           }
          ]
         },
         "layout": {
          "annotationdefaults": {
           "arrowcolor": "#2a3f5f",
           "arrowhead": 0,
           "arrowwidth": 1
          },
          "autotypenumbers": "strict",
          "coloraxis": {
           "colorbar": {
            "outlinewidth": 0,
            "ticks": ""
           }
          },
          "colorscale": {
           "diverging": [
            [
             0,
             "#8e0152"
            ],
            [
             0.1,
             "#c51b7d"
            ],
            [
             0.2,
             "#de77ae"
            ],
            [
             0.3,
             "#f1b6da"
            ],
            [
             0.4,
             "#fde0ef"
            ],
            [
             0.5,
             "#f7f7f7"
            ],
            [
             0.6,
             "#e6f5d0"
            ],
            [
             0.7,
             "#b8e186"
            ],
            [
             0.8,
             "#7fbc41"
            ],
            [
             0.9,
             "#4d9221"
            ],
            [
             1,
             "#276419"
            ]
           ],
           "sequential": [
            [
             0,
             "#0d0887"
            ],
            [
             0.1111111111111111,
             "#46039f"
            ],
            [
             0.2222222222222222,
             "#7201a8"
            ],
            [
             0.3333333333333333,
             "#9c179e"
            ],
            [
             0.4444444444444444,
             "#bd3786"
            ],
            [
             0.5555555555555556,
             "#d8576b"
            ],
            [
             0.6666666666666666,
             "#ed7953"
            ],
            [
             0.7777777777777778,
             "#fb9f3a"
            ],
            [
             0.8888888888888888,
             "#fdca26"
            ],
            [
             1,
             "#f0f921"
            ]
           ],
           "sequentialminus": [
            [
             0,
             "#0d0887"
            ],
            [
             0.1111111111111111,
             "#46039f"
            ],
            [
             0.2222222222222222,
             "#7201a8"
            ],
            [
             0.3333333333333333,
             "#9c179e"
            ],
            [
             0.4444444444444444,
             "#bd3786"
            ],
            [
             0.5555555555555556,
             "#d8576b"
            ],
            [
             0.6666666666666666,
             "#ed7953"
            ],
            [
             0.7777777777777778,
             "#fb9f3a"
            ],
            [
             0.8888888888888888,
             "#fdca26"
            ],
            [
             1,
             "#f0f921"
            ]
           ]
          },
          "colorway": [
           "#636efa",
           "#EF553B",
           "#00cc96",
           "#ab63fa",
           "#FFA15A",
           "#19d3f3",
           "#FF6692",
           "#B6E880",
           "#FF97FF",
           "#FECB52"
          ],
          "font": {
           "color": "#2a3f5f"
          },
          "geo": {
           "bgcolor": "white",
           "lakecolor": "white",
           "landcolor": "#E5ECF6",
           "showlakes": true,
           "showland": true,
           "subunitcolor": "white"
          },
          "hoverlabel": {
           "align": "left"
          },
          "hovermode": "closest",
          "mapbox": {
           "style": "light"
          },
          "paper_bgcolor": "white",
          "plot_bgcolor": "#E5ECF6",
          "polar": {
           "angularaxis": {
            "gridcolor": "white",
            "linecolor": "white",
            "ticks": ""
           },
           "bgcolor": "#E5ECF6",
           "radialaxis": {
            "gridcolor": "white",
            "linecolor": "white",
            "ticks": ""
           }
          },
          "scene": {
           "xaxis": {
            "backgroundcolor": "#E5ECF6",
            "gridcolor": "white",
            "gridwidth": 2,
            "linecolor": "white",
            "showbackground": true,
            "ticks": "",
            "zerolinecolor": "white"
           },
           "yaxis": {
            "backgroundcolor": "#E5ECF6",
            "gridcolor": "white",
            "gridwidth": 2,
            "linecolor": "white",
            "showbackground": true,
            "ticks": "",
            "zerolinecolor": "white"
           },
           "zaxis": {
            "backgroundcolor": "#E5ECF6",
            "gridcolor": "white",
            "gridwidth": 2,
            "linecolor": "white",
            "showbackground": true,
            "ticks": "",
            "zerolinecolor": "white"
           }
          },
          "shapedefaults": {
           "line": {
            "color": "#2a3f5f"
           }
          },
          "ternary": {
           "aaxis": {
            "gridcolor": "white",
            "linecolor": "white",
            "ticks": ""
           },
           "baxis": {
            "gridcolor": "white",
            "linecolor": "white",
            "ticks": ""
           },
           "bgcolor": "#E5ECF6",
           "caxis": {
            "gridcolor": "white",
            "linecolor": "white",
            "ticks": ""
           }
          },
          "title": {
           "x": 0.05
          },
          "xaxis": {
           "automargin": true,
           "gridcolor": "white",
           "linecolor": "white",
           "ticks": "",
           "title": {
            "standoff": 15
           },
           "zerolinecolor": "white",
           "zerolinewidth": 2
          },
          "yaxis": {
           "automargin": true,
           "gridcolor": "white",
           "linecolor": "white",
           "ticks": "",
           "title": {
            "standoff": 15
           },
           "zerolinecolor": "white",
           "zerolinewidth": 2
          }
         }
        },
        "title": {
         "text": "fut high - spot high"
        },
        "xaxis": {
         "anchor": "y",
         "domain": [
          0,
          1
         ],
         "title": {
          "text": "index"
         }
        },
        "yaxis": {
         "anchor": "x",
         "domain": [
          0,
          1
         ],
         "title": {
          "text": "value"
         }
        }
       }
      },
      "text/html": [
       "<div>                            <div id=\"ebeef574-5c34-4872-8241-9ee132b04e5c\" class=\"plotly-graph-div\" style=\"height:525px; width:100%;\"></div>            <script type=\"text/javascript\">                require([\"plotly\"], function(Plotly) {                    window.PLOTLYENV=window.PLOTLYENV || {};                                    if (document.getElementById(\"ebeef574-5c34-4872-8241-9ee132b04e5c\")) {                    Plotly.newPlot(                        \"ebeef574-5c34-4872-8241-9ee132b04e5c\",                        [{\"hovertemplate\":\"variable=0<br>index=%{x}<br>value=%{y}<extra></extra>\",\"legendgroup\":\"0\",\"line\":{\"color\":\"#636efa\",\"dash\":\"solid\"},\"marker\":{\"symbol\":\"circle\"},\"mode\":\"lines\",\"name\":\"0\",\"orientation\":\"v\",\"showlegend\":true,\"type\":\"scatter\",\"x\":[\"2021-11-18T05:00:00\",\"2021-11-18T06:00:00\",\"2021-11-18T07:00:00\",\"2021-11-18T08:00:00\",\"2021-11-18T09:00:00\",\"2021-11-18T10:00:00\",\"2021-11-18T11:00:00\",\"2021-11-18T12:00:00\",\"2021-11-18T13:00:00\",\"2021-11-18T14:00:00\",\"2021-11-18T15:00:00\",\"2021-11-18T16:00:00\",\"2021-11-18T17:00:00\",\"2021-11-18T18:00:00\",\"2021-11-18T19:00:00\",\"2021-11-18T20:00:00\",\"2021-11-18T21:00:00\",\"2021-11-18T22:00:00\",\"2021-11-18T23:00:00\",\"2021-11-19T00:00:00\",\"2021-11-19T01:00:00\",\"2021-11-19T02:00:00\",\"2021-11-19T03:00:00\",\"2021-11-19T04:00:00\",\"2021-11-19T05:00:00\",\"2021-11-19T06:00:00\",\"2021-11-19T07:00:00\",\"2021-11-19T08:00:00\",\"2021-11-19T09:00:00\",\"2021-11-19T10:00:00\",\"2021-11-19T11:00:00\",\"2021-11-19T12:00:00\",\"2021-11-19T13:00:00\",\"2021-11-19T14:00:00\",\"2021-11-19T15:00:00\",\"2021-11-19T16:00:00\",\"2021-11-19T17:00:00\",\"2021-11-19T18:00:00\",\"2021-11-19T19:00:00\",\"2021-11-19T20:00:00\",\"2021-11-19T21:00:00\",\"2021-11-19T22:00:00\",\"2021-11-19T23:00:00\",\"2021-11-20T00:00:00\",\"2021-11-20T01:00:00\",\"2021-11-20T02:00:00\",\"2021-11-20T03:00:00\",\"2021-11-20T04:00:00\",\"2021-11-20T05:00:00\",\"2021-11-20T06:00:00\",\"2021-11-20T07:00:00\",\"2021-11-20T08:00:00\",\"2021-11-20T09:00:00\",\"2021-11-20T10:00:00\",\"2021-11-20T11:00:00\",\"2021-11-20T12:00:00\",\"2021-11-20T13:00:00\",\"2021-11-20T14:00:00\",\"2021-11-20T15:00:00\",\"2021-11-20T16:00:00\",\"2021-11-20T17:00:00\",\"2021-11-20T18:00:00\",\"2021-11-20T19:00:00\",\"2021-11-20T20:00:00\",\"2021-11-20T21:00:00\",\"2021-11-20T22:00:00\",\"2021-11-20T23:00:00\",\"2021-11-21T00:00:00\",\"2021-11-21T01:00:00\",\"2021-11-21T02:00:00\",\"2021-11-21T03:00:00\",\"2021-11-21T04:00:00\",\"2021-11-21T05:00:00\",\"2021-11-21T06:00:00\",\"2021-11-21T07:00:00\",\"2021-11-21T08:00:00\",\"2021-11-21T09:00:00\",\"2021-11-21T10:00:00\",\"2021-11-21T11:00:00\",\"2021-11-21T12:00:00\",\"2021-11-21T13:00:00\",\"2021-11-21T14:00:00\",\"2021-11-21T15:00:00\",\"2021-11-21T16:00:00\",\"2021-11-21T17:00:00\",\"2021-11-21T18:00:00\",\"2021-11-21T19:00:00\",\"2021-11-21T20:00:00\",\"2021-11-21T21:00:00\",\"2021-11-21T22:00:00\",\"2021-11-21T23:00:00\",\"2021-11-22T00:00:00\",\"2021-11-22T01:00:00\",\"2021-11-22T02:00:00\",\"2021-11-22T03:00:00\",\"2021-11-22T04:00:00\",\"2021-11-22T05:00:00\",\"2021-11-22T06:00:00\",\"2021-11-22T07:00:00\",\"2021-11-22T08:00:00\",\"2021-11-22T09:00:00\",\"2021-11-22T10:00:00\",\"2021-11-22T11:00:00\",\"2021-11-22T12:00:00\",\"2021-11-22T13:00:00\",\"2021-11-22T14:00:00\",\"2021-11-22T15:00:00\",\"2021-11-22T16:00:00\",\"2021-11-22T17:00:00\",\"2021-11-22T18:00:00\",\"2021-11-22T19:00:00\",\"2021-11-22T20:00:00\",\"2021-11-22T21:00:00\",\"2021-11-22T22:00:00\",\"2021-11-22T23:00:00\",\"2021-11-23T00:00:00\",\"2021-11-23T01:00:00\",\"2021-11-23T02:00:00\",\"2021-11-23T03:00:00\",\"2021-11-23T04:00:00\",\"2021-11-23T05:00:00\",\"2021-11-23T06:00:00\",\"2021-11-23T07:00:00\",\"2021-11-23T08:00:00\",\"2021-11-23T09:00:00\",\"2021-11-23T10:00:00\",\"2021-11-23T11:00:00\",\"2021-11-23T12:00:00\",\"2021-11-23T13:00:00\",\"2021-11-23T14:00:00\",\"2021-11-23T15:00:00\",\"2021-11-23T16:00:00\",\"2021-11-23T17:00:00\"],\"xaxis\":\"x\",\"y\":[-29.083677469030622,-33.8527393400534,-22.907434319396902,-13.417701616299516,-8.175496361088053,-22.558771792764443,-18.95682960368905,-13.821172742386478,-18.963146950602415,-23.6335229229101,6.447937505462686,-7.37111679137481,-30.47788372798621,-24.00357950757881,-27.819404238245138,-28.143456061016092,-24.814821958263344,-5.683845685025002,-8.846091446647053,18.70278712044593,-15.623600411802663,-14.999765917748098,-17.62549966321636,-13.04708859719339,-25.713160914641044,-20.61862492662936,-14.334527748330883,-21.488282583265182,-14.920279555595828,-18.01041218813859,-6.86655889501564,-11.395665107348796,-9.788020744655457,-31.042366259842467,-28.609975690001566,-21.485012184866427,-16.24309650133382,-21.21013703754504,-9.78891211534827,-21.94530429782904,-33.454084627282384,-34.289673122818165,-28.694364657874118,-33.1655890618876,-19.517071979886502,-17.633828505331238,-15.119656957380823,-17.24078850545263,-13.473531377757864,-23.205017929136538,-27.62986573254689,-10.85004700948744,-4.40833284087061,-23.466608274447243,-38.43653660488111,-39.40788961609765,-36.781020800218386,-40.176782156661204,-37.83911251061478,-21.68218918758513,-23.453325098192757,-30.29142540104668,9.373972477235704,-15.202212979228413,-11.22897203389539,-24.00328102108107,-29.414130027838326,-15.136592059818987,-20.19156018947865,-18.902173554857793,-18.421985134922103,-18.431611956194473,-19.41202792195118,-19.753736459654505,-16.272053738408676,-24.833073696081122,-42.45620698473229,-41.94160800930047,-37.493281341884895,-20.58122736017576,-18.954547910485786,-24.299907139685438,-15.518313237743442,-1.5465921409452132,14.26415499103273,-3.9945186507261976,-17.995803080560478,12.775925178927228,-13.908011922993957,-16.872650909124374,76.394327856244,-15.439846575637795,-22.091579378122894,-24.55775319147868,-24.81862635910881,-20.730996642304156,-16.143783709750004,-30.021910897640723,-18.164739865685895,-9.417654196349767,-11.92022394469694,-8.801698360408894,-10.927472760083878,-11.750490039161843,0.5568986025039635,-23.77972034671716,-20.30071090333596,-17.672545941952443,-23.430490152880346,-19.086210447138985,83.24921200001168,-22.47040366174513,-14.54758400164402,-21.399993318865775,-23.678820672996537,-17.00192954194657,-15.025813307824043,-25.24370200929993,-24.632332987748473,-25.224472034964805,-23.656690447573236,-5.303127860341039,-22.789216064109663,-11.903328831257554,-28.498832738856894,-17.93740642439312,-22.784672722697685,-12.62051680400722,-10.654699668795065,-11.241856776693648,23.225719042574422,-3.772040563275736,-12.62179712018252],\"yaxis\":\"y\"}],                        {\"legend\":{\"title\":{\"text\":\"variable\"},\"tracegroupgap\":0},\"template\":{\"data\":{\"bar\":[{\"error_x\":{\"color\":\"#2a3f5f\"},\"error_y\":{\"color\":\"#2a3f5f\"},\"marker\":{\"line\":{\"color\":\"#E5ECF6\",\"width\":0.5},\"pattern\":{\"fillmode\":\"overlay\",\"size\":10,\"solidity\":0.2}},\"type\":\"bar\"}],\"barpolar\":[{\"marker\":{\"line\":{\"color\":\"#E5ECF6\",\"width\":0.5},\"pattern\":{\"fillmode\":\"overlay\",\"size\":10,\"solidity\":0.2}},\"type\":\"barpolar\"}],\"carpet\":[{\"aaxis\":{\"endlinecolor\":\"#2a3f5f\",\"gridcolor\":\"white\",\"linecolor\":\"white\",\"minorgridcolor\":\"white\",\"startlinecolor\":\"#2a3f5f\"},\"baxis\":{\"endlinecolor\":\"#2a3f5f\",\"gridcolor\":\"white\",\"linecolor\":\"white\",\"minorgridcolor\":\"white\",\"startlinecolor\":\"#2a3f5f\"},\"type\":\"carpet\"}],\"choropleth\":[{\"colorbar\":{\"outlinewidth\":0,\"ticks\":\"\"},\"type\":\"choropleth\"}],\"contour\":[{\"colorbar\":{\"outlinewidth\":0,\"ticks\":\"\"},\"colorscale\":[[0.0,\"#0d0887\"],[0.1111111111111111,\"#46039f\"],[0.2222222222222222,\"#7201a8\"],[0.3333333333333333,\"#9c179e\"],[0.4444444444444444,\"#bd3786\"],[0.5555555555555556,\"#d8576b\"],[0.6666666666666666,\"#ed7953\"],[0.7777777777777778,\"#fb9f3a\"],[0.8888888888888888,\"#fdca26\"],[1.0,\"#f0f921\"]],\"type\":\"contour\"}],\"contourcarpet\":[{\"colorbar\":{\"outlinewidth\":0,\"ticks\":\"\"},\"type\":\"contourcarpet\"}],\"heatmap\":[{\"colorbar\":{\"outlinewidth\":0,\"ticks\":\"\"},\"colorscale\":[[0.0,\"#0d0887\"],[0.1111111111111111,\"#46039f\"],[0.2222222222222222,\"#7201a8\"],[0.3333333333333333,\"#9c179e\"],[0.4444444444444444,\"#bd3786\"],[0.5555555555555556,\"#d8576b\"],[0.6666666666666666,\"#ed7953\"],[0.7777777777777778,\"#fb9f3a\"],[0.8888888888888888,\"#fdca26\"],[1.0,\"#f0f921\"]],\"type\":\"heatmap\"}],\"heatmapgl\":[{\"colorbar\":{\"outlinewidth\":0,\"ticks\":\"\"},\"colorscale\":[[0.0,\"#0d0887\"],[0.1111111111111111,\"#46039f\"],[0.2222222222222222,\"#7201a8\"],[0.3333333333333333,\"#9c179e\"],[0.4444444444444444,\"#bd3786\"],[0.5555555555555556,\"#d8576b\"],[0.6666666666666666,\"#ed7953\"],[0.7777777777777778,\"#fb9f3a\"],[0.8888888888888888,\"#fdca26\"],[1.0,\"#f0f921\"]],\"type\":\"heatmapgl\"}],\"histogram\":[{\"marker\":{\"pattern\":{\"fillmode\":\"overlay\",\"size\":10,\"solidity\":0.2}},\"type\":\"histogram\"}],\"histogram2d\":[{\"colorbar\":{\"outlinewidth\":0,\"ticks\":\"\"},\"colorscale\":[[0.0,\"#0d0887\"],[0.1111111111111111,\"#46039f\"],[0.2222222222222222,\"#7201a8\"],[0.3333333333333333,\"#9c179e\"],[0.4444444444444444,\"#bd3786\"],[0.5555555555555556,\"#d8576b\"],[0.6666666666666666,\"#ed7953\"],[0.7777777777777778,\"#fb9f3a\"],[0.8888888888888888,\"#fdca26\"],[1.0,\"#f0f921\"]],\"type\":\"histogram2d\"}],\"histogram2dcontour\":[{\"colorbar\":{\"outlinewidth\":0,\"ticks\":\"\"},\"colorscale\":[[0.0,\"#0d0887\"],[0.1111111111111111,\"#46039f\"],[0.2222222222222222,\"#7201a8\"],[0.3333333333333333,\"#9c179e\"],[0.4444444444444444,\"#bd3786\"],[0.5555555555555556,\"#d8576b\"],[0.6666666666666666,\"#ed7953\"],[0.7777777777777778,\"#fb9f3a\"],[0.8888888888888888,\"#fdca26\"],[1.0,\"#f0f921\"]],\"type\":\"histogram2dcontour\"}],\"mesh3d\":[{\"colorbar\":{\"outlinewidth\":0,\"ticks\":\"\"},\"type\":\"mesh3d\"}],\"parcoords\":[{\"line\":{\"colorbar\":{\"outlinewidth\":0,\"ticks\":\"\"}},\"type\":\"parcoords\"}],\"pie\":[{\"automargin\":true,\"type\":\"pie\"}],\"scatter\":[{\"marker\":{\"colorbar\":{\"outlinewidth\":0,\"ticks\":\"\"}},\"type\":\"scatter\"}],\"scatter3d\":[{\"line\":{\"colorbar\":{\"outlinewidth\":0,\"ticks\":\"\"}},\"marker\":{\"colorbar\":{\"outlinewidth\":0,\"ticks\":\"\"}},\"type\":\"scatter3d\"}],\"scattercarpet\":[{\"marker\":{\"colorbar\":{\"outlinewidth\":0,\"ticks\":\"\"}},\"type\":\"scattercarpet\"}],\"scattergeo\":[{\"marker\":{\"colorbar\":{\"outlinewidth\":0,\"ticks\":\"\"}},\"type\":\"scattergeo\"}],\"scattergl\":[{\"marker\":{\"colorbar\":{\"outlinewidth\":0,\"ticks\":\"\"}},\"type\":\"scattergl\"}],\"scattermapbox\":[{\"marker\":{\"colorbar\":{\"outlinewidth\":0,\"ticks\":\"\"}},\"type\":\"scattermapbox\"}],\"scatterpolar\":[{\"marker\":{\"colorbar\":{\"outlinewidth\":0,\"ticks\":\"\"}},\"type\":\"scatterpolar\"}],\"scatterpolargl\":[{\"marker\":{\"colorbar\":{\"outlinewidth\":0,\"ticks\":\"\"}},\"type\":\"scatterpolargl\"}],\"scatterternary\":[{\"marker\":{\"colorbar\":{\"outlinewidth\":0,\"ticks\":\"\"}},\"type\":\"scatterternary\"}],\"surface\":[{\"colorbar\":{\"outlinewidth\":0,\"ticks\":\"\"},\"colorscale\":[[0.0,\"#0d0887\"],[0.1111111111111111,\"#46039f\"],[0.2222222222222222,\"#7201a8\"],[0.3333333333333333,\"#9c179e\"],[0.4444444444444444,\"#bd3786\"],[0.5555555555555556,\"#d8576b\"],[0.6666666666666666,\"#ed7953\"],[0.7777777777777778,\"#fb9f3a\"],[0.8888888888888888,\"#fdca26\"],[1.0,\"#f0f921\"]],\"type\":\"surface\"}],\"table\":[{\"cells\":{\"fill\":{\"color\":\"#EBF0F8\"},\"line\":{\"color\":\"white\"}},\"header\":{\"fill\":{\"color\":\"#C8D4E3\"},\"line\":{\"color\":\"white\"}},\"type\":\"table\"}]},\"layout\":{\"annotationdefaults\":{\"arrowcolor\":\"#2a3f5f\",\"arrowhead\":0,\"arrowwidth\":1},\"autotypenumbers\":\"strict\",\"coloraxis\":{\"colorbar\":{\"outlinewidth\":0,\"ticks\":\"\"}},\"colorscale\":{\"diverging\":[[0,\"#8e0152\"],[0.1,\"#c51b7d\"],[0.2,\"#de77ae\"],[0.3,\"#f1b6da\"],[0.4,\"#fde0ef\"],[0.5,\"#f7f7f7\"],[0.6,\"#e6f5d0\"],[0.7,\"#b8e186\"],[0.8,\"#7fbc41\"],[0.9,\"#4d9221\"],[1,\"#276419\"]],\"sequential\":[[0.0,\"#0d0887\"],[0.1111111111111111,\"#46039f\"],[0.2222222222222222,\"#7201a8\"],[0.3333333333333333,\"#9c179e\"],[0.4444444444444444,\"#bd3786\"],[0.5555555555555556,\"#d8576b\"],[0.6666666666666666,\"#ed7953\"],[0.7777777777777778,\"#fb9f3a\"],[0.8888888888888888,\"#fdca26\"],[1.0,\"#f0f921\"]],\"sequentialminus\":[[0.0,\"#0d0887\"],[0.1111111111111111,\"#46039f\"],[0.2222222222222222,\"#7201a8\"],[0.3333333333333333,\"#9c179e\"],[0.4444444444444444,\"#bd3786\"],[0.5555555555555556,\"#d8576b\"],[0.6666666666666666,\"#ed7953\"],[0.7777777777777778,\"#fb9f3a\"],[0.8888888888888888,\"#fdca26\"],[1.0,\"#f0f921\"]]},\"colorway\":[\"#636efa\",\"#EF553B\",\"#00cc96\",\"#ab63fa\",\"#FFA15A\",\"#19d3f3\",\"#FF6692\",\"#B6E880\",\"#FF97FF\",\"#FECB52\"],\"font\":{\"color\":\"#2a3f5f\"},\"geo\":{\"bgcolor\":\"white\",\"lakecolor\":\"white\",\"landcolor\":\"#E5ECF6\",\"showlakes\":true,\"showland\":true,\"subunitcolor\":\"white\"},\"hoverlabel\":{\"align\":\"left\"},\"hovermode\":\"closest\",\"mapbox\":{\"style\":\"light\"},\"paper_bgcolor\":\"white\",\"plot_bgcolor\":\"#E5ECF6\",\"polar\":{\"angularaxis\":{\"gridcolor\":\"white\",\"linecolor\":\"white\",\"ticks\":\"\"},\"bgcolor\":\"#E5ECF6\",\"radialaxis\":{\"gridcolor\":\"white\",\"linecolor\":\"white\",\"ticks\":\"\"}},\"scene\":{\"xaxis\":{\"backgroundcolor\":\"#E5ECF6\",\"gridcolor\":\"white\",\"gridwidth\":2,\"linecolor\":\"white\",\"showbackground\":true,\"ticks\":\"\",\"zerolinecolor\":\"white\"},\"yaxis\":{\"backgroundcolor\":\"#E5ECF6\",\"gridcolor\":\"white\",\"gridwidth\":2,\"linecolor\":\"white\",\"showbackground\":true,\"ticks\":\"\",\"zerolinecolor\":\"white\"},\"zaxis\":{\"backgroundcolor\":\"#E5ECF6\",\"gridcolor\":\"white\",\"gridwidth\":2,\"linecolor\":\"white\",\"showbackground\":true,\"ticks\":\"\",\"zerolinecolor\":\"white\"}},\"shapedefaults\":{\"line\":{\"color\":\"#2a3f5f\"}},\"ternary\":{\"aaxis\":{\"gridcolor\":\"white\",\"linecolor\":\"white\",\"ticks\":\"\"},\"baxis\":{\"gridcolor\":\"white\",\"linecolor\":\"white\",\"ticks\":\"\"},\"bgcolor\":\"#E5ECF6\",\"caxis\":{\"gridcolor\":\"white\",\"linecolor\":\"white\",\"ticks\":\"\"}},\"title\":{\"x\":0.05},\"xaxis\":{\"automargin\":true,\"gridcolor\":\"white\",\"linecolor\":\"white\",\"ticks\":\"\",\"title\":{\"standoff\":15},\"zerolinecolor\":\"white\",\"zerolinewidth\":2},\"yaxis\":{\"automargin\":true,\"gridcolor\":\"white\",\"linecolor\":\"white\",\"ticks\":\"\",\"title\":{\"standoff\":15},\"zerolinecolor\":\"white\",\"zerolinewidth\":2}}},\"title\":{\"text\":\"fut high - spot high\"},\"xaxis\":{\"anchor\":\"y\",\"domain\":[0.0,1.0],\"title\":{\"text\":\"index\"}},\"yaxis\":{\"anchor\":\"x\",\"domain\":[0.0,1.0],\"title\":{\"text\":\"value\"}}},                        {\"responsive\": true}                    ).then(function(){\n",
       "                            \n",
       "var gd = document.getElementById('ebeef574-5c34-4872-8241-9ee132b04e5c');\n",
       "var x = new MutationObserver(function (mutations, observer) {{\n",
       "        var display = window.getComputedStyle(gd).display;\n",
       "        if (!display || display === 'none') {{\n",
       "            console.log([gd, 'removed!']);\n",
       "            Plotly.purge(gd);\n",
       "            observer.disconnect();\n",
       "        }}\n",
       "}});\n",
       "\n",
       "// Listen for the removal of the full notebook cells\n",
       "var notebookContainer = gd.closest('#notebook-container');\n",
       "if (notebookContainer) {{\n",
       "    x.observe(notebookContainer, {childList: true});\n",
       "}}\n",
       "\n",
       "// Listen for the clearing of the current output cell\n",
       "var outputEl = gd.closest('.output');\n",
       "if (outputEl) {{\n",
       "    x.observe(outputEl, {childList: true});\n",
       "}}\n",
       "\n",
       "                        })                };                });            </script>        </div>"
      ]
     },
     "metadata": {},
     "output_type": "display_data"
    }
   ],
   "source": [
    "premium=compute_premium(futures_df,mode=0)\n",
    "ewMax=premium.resample('1h').max()\n",
    "ewMax=ewMax[~ewMax.index.duplicated()]\n",
    "fig = px.line(ewMax,title=\"fut high - spot high\")#, x='date', y=\"GOOG\")\n",
    "fig.show()"
   ]
  },
  {
   "cell_type": "code",
   "execution_count": 7,
   "id": "bd76edd9",
   "metadata": {},
   "outputs": [
    {
     "data": {
      "application/vnd.plotly.v1+json": {
       "config": {
        "plotlyServerURL": "https://plot.ly"
       },
       "data": [
        {
         "hovertemplate": "variable=0<br>index=%{x}<br>value=%{y}<extra></extra>",
         "legendgroup": "0",
         "line": {
          "color": "#636efa",
          "dash": "solid"
         },
         "marker": {
          "symbol": "circle"
         },
         "mode": "lines",
         "name": "0",
         "orientation": "v",
         "showlegend": true,
         "type": "scatter",
         "x": [
          "2021-11-18T05:00:00",
          "2021-11-18T06:00:00",
          "2021-11-18T07:00:00",
          "2021-11-18T08:00:00",
          "2021-11-18T09:00:00",
          "2021-11-18T10:00:00",
          "2021-11-18T11:00:00",
          "2021-11-18T12:00:00",
          "2021-11-18T13:00:00",
          "2021-11-18T14:00:00",
          "2021-11-18T15:00:00",
          "2021-11-18T16:00:00",
          "2021-11-18T17:00:00",
          "2021-11-18T18:00:00",
          "2021-11-18T19:00:00",
          "2021-11-18T20:00:00",
          "2021-11-18T21:00:00",
          "2021-11-18T22:00:00",
          "2021-11-18T23:00:00",
          "2021-11-19T00:00:00",
          "2021-11-19T01:00:00",
          "2021-11-19T02:00:00",
          "2021-11-19T03:00:00",
          "2021-11-19T04:00:00",
          "2021-11-19T05:00:00",
          "2021-11-19T06:00:00",
          "2021-11-19T07:00:00",
          "2021-11-19T08:00:00",
          "2021-11-19T09:00:00",
          "2021-11-19T10:00:00",
          "2021-11-19T11:00:00",
          "2021-11-19T12:00:00",
          "2021-11-19T13:00:00",
          "2021-11-19T14:00:00",
          "2021-11-19T15:00:00",
          "2021-11-19T16:00:00",
          "2021-11-19T17:00:00",
          "2021-11-19T18:00:00",
          "2021-11-19T19:00:00",
          "2021-11-19T20:00:00",
          "2021-11-19T21:00:00",
          "2021-11-19T22:00:00",
          "2021-11-19T23:00:00",
          "2021-11-20T00:00:00",
          "2021-11-20T01:00:00",
          "2021-11-20T02:00:00",
          "2021-11-20T03:00:00",
          "2021-11-20T04:00:00",
          "2021-11-20T05:00:00",
          "2021-11-20T06:00:00",
          "2021-11-20T07:00:00",
          "2021-11-20T08:00:00",
          "2021-11-20T09:00:00",
          "2021-11-20T10:00:00",
          "2021-11-20T11:00:00",
          "2021-11-20T12:00:00",
          "2021-11-20T13:00:00",
          "2021-11-20T14:00:00",
          "2021-11-20T15:00:00",
          "2021-11-20T16:00:00",
          "2021-11-20T17:00:00",
          "2021-11-20T18:00:00",
          "2021-11-20T19:00:00",
          "2021-11-20T20:00:00",
          "2021-11-20T21:00:00",
          "2021-11-20T22:00:00",
          "2021-11-20T23:00:00",
          "2021-11-21T00:00:00",
          "2021-11-21T01:00:00",
          "2021-11-21T02:00:00",
          "2021-11-21T03:00:00",
          "2021-11-21T04:00:00",
          "2021-11-21T05:00:00",
          "2021-11-21T06:00:00",
          "2021-11-21T07:00:00",
          "2021-11-21T08:00:00",
          "2021-11-21T09:00:00",
          "2021-11-21T10:00:00",
          "2021-11-21T11:00:00",
          "2021-11-21T12:00:00",
          "2021-11-21T13:00:00",
          "2021-11-21T14:00:00",
          "2021-11-21T15:00:00",
          "2021-11-21T16:00:00",
          "2021-11-21T17:00:00",
          "2021-11-21T18:00:00",
          "2021-11-21T19:00:00",
          "2021-11-21T20:00:00",
          "2021-11-21T21:00:00",
          "2021-11-21T22:00:00",
          "2021-11-21T23:00:00",
          "2021-11-22T00:00:00",
          "2021-11-22T01:00:00",
          "2021-11-22T02:00:00",
          "2021-11-22T03:00:00",
          "2021-11-22T04:00:00",
          "2021-11-22T05:00:00",
          "2021-11-22T06:00:00",
          "2021-11-22T07:00:00",
          "2021-11-22T08:00:00",
          "2021-11-22T09:00:00",
          "2021-11-22T10:00:00",
          "2021-11-22T11:00:00",
          "2021-11-22T12:00:00",
          "2021-11-22T13:00:00",
          "2021-11-22T14:00:00",
          "2021-11-22T15:00:00",
          "2021-11-22T16:00:00",
          "2021-11-22T17:00:00",
          "2021-11-22T18:00:00",
          "2021-11-22T19:00:00",
          "2021-11-22T20:00:00",
          "2021-11-22T21:00:00",
          "2021-11-22T22:00:00",
          "2021-11-22T23:00:00",
          "2021-11-23T00:00:00",
          "2021-11-23T01:00:00",
          "2021-11-23T02:00:00",
          "2021-11-23T03:00:00",
          "2021-11-23T04:00:00",
          "2021-11-23T05:00:00",
          "2021-11-23T06:00:00",
          "2021-11-23T07:00:00",
          "2021-11-23T08:00:00",
          "2021-11-23T09:00:00",
          "2021-11-23T10:00:00",
          "2021-11-23T11:00:00",
          "2021-11-23T12:00:00",
          "2021-11-23T13:00:00",
          "2021-11-23T14:00:00",
          "2021-11-23T15:00:00",
          "2021-11-23T16:00:00",
          "2021-11-23T17:00:00"
         ],
         "xaxis": "x",
         "y": [
          -34.979083144407454,
          -39.76305935708968,
          -23.28944601828864,
          -21.683722309420173,
          -31.79381518319646,
          -28.943966369527896,
          -28.13154314665556,
          -29.482551322755903,
          -45.08743406273275,
          -38.013916601070676,
          -62.6903997939976,
          -33.963113566551904,
          -60.7337022185539,
          -28.59946811669234,
          -54.2941644202366,
          -42.4037460758675,
          -35.921975995167884,
          -40.14053890881719,
          -35.6738747376173,
          -43.47979515047618,
          -28.793878230189975,
          -43.02526666488005,
          -32.80164078937609,
          -38.67454174624751,
          -40.97133918618434,
          -34.85945130540236,
          -31.515392528155274,
          -24.950202779736586,
          -29.1095336552305,
          -31.12614804862801,
          -25.663531256382434,
          -22.757249333127394,
          -27.126391125059655,
          -25.77918037614646,
          -40.1022247367322,
          -40.155590328203594,
          -31.94807056259963,
          -26.774348944957893,
          -30.10571111645377,
          -55.0056483180561,
          -50.691214871938506,
          -37.94710402792223,
          -40.80393242892,
          -42.626005041506154,
          -48.300425391509805,
          -28.182180384834776,
          -21.092907069003573,
          -20.586742037810303,
          -27.644308771830328,
          -24.829594632141962,
          -36.014462367155446,
          -30.24470431506332,
          -35.630897414534736,
          -51.40094319095567,
          -53.54165801423672,
          -55.12087549160438,
          -71.41593992086914,
          -47.60800234129947,
          -63.9577090499488,
          -45.932537690362985,
          -34.47822060125283,
          -28.93924950301607,
          -104.01269247956036,
          -19.977726451737567,
          -30.693278826616766,
          -30.841663327862978,
          -35.53531747740091,
          -29.992378638710182,
          -25.521892561251036,
          -44.17914039371529,
          -50.93356516574276,
          -35.151173416893,
          -30.56232929833147,
          -30.951678056192478,
          -30.80339765511031,
          -28.788463481081994,
          -36.980268755162356,
          -53.56151410448984,
          -48.66198744353123,
          -32.21502328105807,
          -36.628950605811504,
          -40.9004795473189,
          -31.240338591684846,
          -32.304758790943076,
          -28.48926054295098,
          -59.199557448010864,
          -30.337845544251564,
          -26.20505894784575,
          -34.43589633942534,
          -31.159801255969953,
          -55.46085875382967,
          -44.241397530172534,
          -145.42021698257912,
          -48.36978706698969,
          -37.33775208484391,
          -61.93461453620319,
          -109.19101725059721,
          -38.38547180834095,
          -35.39565778917009,
          -20.604814395367434,
          -14.977217045459845,
          -23.649178723282873,
          -23.476923941438965,
          -28.088560544397012,
          -56.54471329587185,
          -35.67850343420109,
          -26.338682010680348,
          -32.54667291765379,
          -46.8186100586665,
          -39.89366948472628,
          -40.14167691997805,
          -39.14174540754156,
          -28.52947209529888,
          -24.437182399767998,
          -27.759661174736607,
          -24.277704361275187,
          -23.611780007619654,
          -23.8844146063133,
          -34.39835985150519,
          -32.20506173914228,
          -27.18511054236039,
          -26.70047871483061,
          -28.18694318038828,
          -36.485223141878855,
          -50.23829968103688,
          -44.961344523517525,
          -44.26516433295613,
          -30.673368442705183,
          -15.847548123631983,
          -18.475465851226502,
          -45.819505124568,
          -20.61370726142431,
          -22.133549502197923
         ],
         "yaxis": "y"
        }
       ],
       "layout": {
        "legend": {
         "title": {
          "text": "variable"
         },
         "tracegroupgap": 0
        },
        "template": {
         "data": {
          "bar": [
           {
            "error_x": {
             "color": "#2a3f5f"
            },
            "error_y": {
             "color": "#2a3f5f"
            },
            "marker": {
             "line": {
              "color": "#E5ECF6",
              "width": 0.5
             },
             "pattern": {
              "fillmode": "overlay",
              "size": 10,
              "solidity": 0.2
             }
            },
            "type": "bar"
           }
          ],
          "barpolar": [
           {
            "marker": {
             "line": {
              "color": "#E5ECF6",
              "width": 0.5
             },
             "pattern": {
              "fillmode": "overlay",
              "size": 10,
              "solidity": 0.2
             }
            },
            "type": "barpolar"
           }
          ],
          "carpet": [
           {
            "aaxis": {
             "endlinecolor": "#2a3f5f",
             "gridcolor": "white",
             "linecolor": "white",
             "minorgridcolor": "white",
             "startlinecolor": "#2a3f5f"
            },
            "baxis": {
             "endlinecolor": "#2a3f5f",
             "gridcolor": "white",
             "linecolor": "white",
             "minorgridcolor": "white",
             "startlinecolor": "#2a3f5f"
            },
            "type": "carpet"
           }
          ],
          "choropleth": [
           {
            "colorbar": {
             "outlinewidth": 0,
             "ticks": ""
            },
            "type": "choropleth"
           }
          ],
          "contour": [
           {
            "colorbar": {
             "outlinewidth": 0,
             "ticks": ""
            },
            "colorscale": [
             [
              0,
              "#0d0887"
             ],
             [
              0.1111111111111111,
              "#46039f"
             ],
             [
              0.2222222222222222,
              "#7201a8"
             ],
             [
              0.3333333333333333,
              "#9c179e"
             ],
             [
              0.4444444444444444,
              "#bd3786"
             ],
             [
              0.5555555555555556,
              "#d8576b"
             ],
             [
              0.6666666666666666,
              "#ed7953"
             ],
             [
              0.7777777777777778,
              "#fb9f3a"
             ],
             [
              0.8888888888888888,
              "#fdca26"
             ],
             [
              1,
              "#f0f921"
             ]
            ],
            "type": "contour"
           }
          ],
          "contourcarpet": [
           {
            "colorbar": {
             "outlinewidth": 0,
             "ticks": ""
            },
            "type": "contourcarpet"
           }
          ],
          "heatmap": [
           {
            "colorbar": {
             "outlinewidth": 0,
             "ticks": ""
            },
            "colorscale": [
             [
              0,
              "#0d0887"
             ],
             [
              0.1111111111111111,
              "#46039f"
             ],
             [
              0.2222222222222222,
              "#7201a8"
             ],
             [
              0.3333333333333333,
              "#9c179e"
             ],
             [
              0.4444444444444444,
              "#bd3786"
             ],
             [
              0.5555555555555556,
              "#d8576b"
             ],
             [
              0.6666666666666666,
              "#ed7953"
             ],
             [
              0.7777777777777778,
              "#fb9f3a"
             ],
             [
              0.8888888888888888,
              "#fdca26"
             ],
             [
              1,
              "#f0f921"
             ]
            ],
            "type": "heatmap"
           }
          ],
          "heatmapgl": [
           {
            "colorbar": {
             "outlinewidth": 0,
             "ticks": ""
            },
            "colorscale": [
             [
              0,
              "#0d0887"
             ],
             [
              0.1111111111111111,
              "#46039f"
             ],
             [
              0.2222222222222222,
              "#7201a8"
             ],
             [
              0.3333333333333333,
              "#9c179e"
             ],
             [
              0.4444444444444444,
              "#bd3786"
             ],
             [
              0.5555555555555556,
              "#d8576b"
             ],
             [
              0.6666666666666666,
              "#ed7953"
             ],
             [
              0.7777777777777778,
              "#fb9f3a"
             ],
             [
              0.8888888888888888,
              "#fdca26"
             ],
             [
              1,
              "#f0f921"
             ]
            ],
            "type": "heatmapgl"
           }
          ],
          "histogram": [
           {
            "marker": {
             "pattern": {
              "fillmode": "overlay",
              "size": 10,
              "solidity": 0.2
             }
            },
            "type": "histogram"
           }
          ],
          "histogram2d": [
           {
            "colorbar": {
             "outlinewidth": 0,
             "ticks": ""
            },
            "colorscale": [
             [
              0,
              "#0d0887"
             ],
             [
              0.1111111111111111,
              "#46039f"
             ],
             [
              0.2222222222222222,
              "#7201a8"
             ],
             [
              0.3333333333333333,
              "#9c179e"
             ],
             [
              0.4444444444444444,
              "#bd3786"
             ],
             [
              0.5555555555555556,
              "#d8576b"
             ],
             [
              0.6666666666666666,
              "#ed7953"
             ],
             [
              0.7777777777777778,
              "#fb9f3a"
             ],
             [
              0.8888888888888888,
              "#fdca26"
             ],
             [
              1,
              "#f0f921"
             ]
            ],
            "type": "histogram2d"
           }
          ],
          "histogram2dcontour": [
           {
            "colorbar": {
             "outlinewidth": 0,
             "ticks": ""
            },
            "colorscale": [
             [
              0,
              "#0d0887"
             ],
             [
              0.1111111111111111,
              "#46039f"
             ],
             [
              0.2222222222222222,
              "#7201a8"
             ],
             [
              0.3333333333333333,
              "#9c179e"
             ],
             [
              0.4444444444444444,
              "#bd3786"
             ],
             [
              0.5555555555555556,
              "#d8576b"
             ],
             [
              0.6666666666666666,
              "#ed7953"
             ],
             [
              0.7777777777777778,
              "#fb9f3a"
             ],
             [
              0.8888888888888888,
              "#fdca26"
             ],
             [
              1,
              "#f0f921"
             ]
            ],
            "type": "histogram2dcontour"
           }
          ],
          "mesh3d": [
           {
            "colorbar": {
             "outlinewidth": 0,
             "ticks": ""
            },
            "type": "mesh3d"
           }
          ],
          "parcoords": [
           {
            "line": {
             "colorbar": {
              "outlinewidth": 0,
              "ticks": ""
             }
            },
            "type": "parcoords"
           }
          ],
          "pie": [
           {
            "automargin": true,
            "type": "pie"
           }
          ],
          "scatter": [
           {
            "marker": {
             "colorbar": {
              "outlinewidth": 0,
              "ticks": ""
             }
            },
            "type": "scatter"
           }
          ],
          "scatter3d": [
           {
            "line": {
             "colorbar": {
              "outlinewidth": 0,
              "ticks": ""
             }
            },
            "marker": {
             "colorbar": {
              "outlinewidth": 0,
              "ticks": ""
             }
            },
            "type": "scatter3d"
           }
          ],
          "scattercarpet": [
           {
            "marker": {
             "colorbar": {
              "outlinewidth": 0,
              "ticks": ""
             }
            },
            "type": "scattercarpet"
           }
          ],
          "scattergeo": [
           {
            "marker": {
             "colorbar": {
              "outlinewidth": 0,
              "ticks": ""
             }
            },
            "type": "scattergeo"
           }
          ],
          "scattergl": [
           {
            "marker": {
             "colorbar": {
              "outlinewidth": 0,
              "ticks": ""
             }
            },
            "type": "scattergl"
           }
          ],
          "scattermapbox": [
           {
            "marker": {
             "colorbar": {
              "outlinewidth": 0,
              "ticks": ""
             }
            },
            "type": "scattermapbox"
           }
          ],
          "scatterpolar": [
           {
            "marker": {
             "colorbar": {
              "outlinewidth": 0,
              "ticks": ""
             }
            },
            "type": "scatterpolar"
           }
          ],
          "scatterpolargl": [
           {
            "marker": {
             "colorbar": {
              "outlinewidth": 0,
              "ticks": ""
             }
            },
            "type": "scatterpolargl"
           }
          ],
          "scatterternary": [
           {
            "marker": {
             "colorbar": {
              "outlinewidth": 0,
              "ticks": ""
             }
            },
            "type": "scatterternary"
           }
          ],
          "surface": [
           {
            "colorbar": {
             "outlinewidth": 0,
             "ticks": ""
            },
            "colorscale": [
             [
              0,
              "#0d0887"
             ],
             [
              0.1111111111111111,
              "#46039f"
             ],
             [
              0.2222222222222222,
              "#7201a8"
             ],
             [
              0.3333333333333333,
              "#9c179e"
             ],
             [
              0.4444444444444444,
              "#bd3786"
             ],
             [
              0.5555555555555556,
              "#d8576b"
             ],
             [
              0.6666666666666666,
              "#ed7953"
             ],
             [
              0.7777777777777778,
              "#fb9f3a"
             ],
             [
              0.8888888888888888,
              "#fdca26"
             ],
             [
              1,
              "#f0f921"
             ]
            ],
            "type": "surface"
           }
          ],
          "table": [
           {
            "cells": {
             "fill": {
              "color": "#EBF0F8"
             },
             "line": {
              "color": "white"
             }
            },
            "header": {
             "fill": {
              "color": "#C8D4E3"
             },
             "line": {
              "color": "white"
             }
            },
            "type": "table"
           }
          ]
         },
         "layout": {
          "annotationdefaults": {
           "arrowcolor": "#2a3f5f",
           "arrowhead": 0,
           "arrowwidth": 1
          },
          "autotypenumbers": "strict",
          "coloraxis": {
           "colorbar": {
            "outlinewidth": 0,
            "ticks": ""
           }
          },
          "colorscale": {
           "diverging": [
            [
             0,
             "#8e0152"
            ],
            [
             0.1,
             "#c51b7d"
            ],
            [
             0.2,
             "#de77ae"
            ],
            [
             0.3,
             "#f1b6da"
            ],
            [
             0.4,
             "#fde0ef"
            ],
            [
             0.5,
             "#f7f7f7"
            ],
            [
             0.6,
             "#e6f5d0"
            ],
            [
             0.7,
             "#b8e186"
            ],
            [
             0.8,
             "#7fbc41"
            ],
            [
             0.9,
             "#4d9221"
            ],
            [
             1,
             "#276419"
            ]
           ],
           "sequential": [
            [
             0,
             "#0d0887"
            ],
            [
             0.1111111111111111,
             "#46039f"
            ],
            [
             0.2222222222222222,
             "#7201a8"
            ],
            [
             0.3333333333333333,
             "#9c179e"
            ],
            [
             0.4444444444444444,
             "#bd3786"
            ],
            [
             0.5555555555555556,
             "#d8576b"
            ],
            [
             0.6666666666666666,
             "#ed7953"
            ],
            [
             0.7777777777777778,
             "#fb9f3a"
            ],
            [
             0.8888888888888888,
             "#fdca26"
            ],
            [
             1,
             "#f0f921"
            ]
           ],
           "sequentialminus": [
            [
             0,
             "#0d0887"
            ],
            [
             0.1111111111111111,
             "#46039f"
            ],
            [
             0.2222222222222222,
             "#7201a8"
            ],
            [
             0.3333333333333333,
             "#9c179e"
            ],
            [
             0.4444444444444444,
             "#bd3786"
            ],
            [
             0.5555555555555556,
             "#d8576b"
            ],
            [
             0.6666666666666666,
             "#ed7953"
            ],
            [
             0.7777777777777778,
             "#fb9f3a"
            ],
            [
             0.8888888888888888,
             "#fdca26"
            ],
            [
             1,
             "#f0f921"
            ]
           ]
          },
          "colorway": [
           "#636efa",
           "#EF553B",
           "#00cc96",
           "#ab63fa",
           "#FFA15A",
           "#19d3f3",
           "#FF6692",
           "#B6E880",
           "#FF97FF",
           "#FECB52"
          ],
          "font": {
           "color": "#2a3f5f"
          },
          "geo": {
           "bgcolor": "white",
           "lakecolor": "white",
           "landcolor": "#E5ECF6",
           "showlakes": true,
           "showland": true,
           "subunitcolor": "white"
          },
          "hoverlabel": {
           "align": "left"
          },
          "hovermode": "closest",
          "mapbox": {
           "style": "light"
          },
          "paper_bgcolor": "white",
          "plot_bgcolor": "#E5ECF6",
          "polar": {
           "angularaxis": {
            "gridcolor": "white",
            "linecolor": "white",
            "ticks": ""
           },
           "bgcolor": "#E5ECF6",
           "radialaxis": {
            "gridcolor": "white",
            "linecolor": "white",
            "ticks": ""
           }
          },
          "scene": {
           "xaxis": {
            "backgroundcolor": "#E5ECF6",
            "gridcolor": "white",
            "gridwidth": 2,
            "linecolor": "white",
            "showbackground": true,
            "ticks": "",
            "zerolinecolor": "white"
           },
           "yaxis": {
            "backgroundcolor": "#E5ECF6",
            "gridcolor": "white",
            "gridwidth": 2,
            "linecolor": "white",
            "showbackground": true,
            "ticks": "",
            "zerolinecolor": "white"
           },
           "zaxis": {
            "backgroundcolor": "#E5ECF6",
            "gridcolor": "white",
            "gridwidth": 2,
            "linecolor": "white",
            "showbackground": true,
            "ticks": "",
            "zerolinecolor": "white"
           }
          },
          "shapedefaults": {
           "line": {
            "color": "#2a3f5f"
           }
          },
          "ternary": {
           "aaxis": {
            "gridcolor": "white",
            "linecolor": "white",
            "ticks": ""
           },
           "baxis": {
            "gridcolor": "white",
            "linecolor": "white",
            "ticks": ""
           },
           "bgcolor": "#E5ECF6",
           "caxis": {
            "gridcolor": "white",
            "linecolor": "white",
            "ticks": ""
           }
          },
          "title": {
           "x": 0.05
          },
          "xaxis": {
           "automargin": true,
           "gridcolor": "white",
           "linecolor": "white",
           "ticks": "",
           "title": {
            "standoff": 15
           },
           "zerolinecolor": "white",
           "zerolinewidth": 2
          },
          "yaxis": {
           "automargin": true,
           "gridcolor": "white",
           "linecolor": "white",
           "ticks": "",
           "title": {
            "standoff": 15
           },
           "zerolinecolor": "white",
           "zerolinewidth": 2
          }
         }
        },
        "title": {
         "text": "fut low - spot low"
        },
        "xaxis": {
         "anchor": "y",
         "domain": [
          0,
          1
         ],
         "title": {
          "text": "index"
         }
        },
        "yaxis": {
         "anchor": "x",
         "domain": [
          0,
          1
         ],
         "title": {
          "text": "value"
         }
        }
       }
      },
      "text/html": [
       "<div>                            <div id=\"98293f13-a555-4248-9fe9-3c98e2a11865\" class=\"plotly-graph-div\" style=\"height:525px; width:100%;\"></div>            <script type=\"text/javascript\">                require([\"plotly\"], function(Plotly) {                    window.PLOTLYENV=window.PLOTLYENV || {};                                    if (document.getElementById(\"98293f13-a555-4248-9fe9-3c98e2a11865\")) {                    Plotly.newPlot(                        \"98293f13-a555-4248-9fe9-3c98e2a11865\",                        [{\"hovertemplate\":\"variable=0<br>index=%{x}<br>value=%{y}<extra></extra>\",\"legendgroup\":\"0\",\"line\":{\"color\":\"#636efa\",\"dash\":\"solid\"},\"marker\":{\"symbol\":\"circle\"},\"mode\":\"lines\",\"name\":\"0\",\"orientation\":\"v\",\"showlegend\":true,\"type\":\"scatter\",\"x\":[\"2021-11-18T05:00:00\",\"2021-11-18T06:00:00\",\"2021-11-18T07:00:00\",\"2021-11-18T08:00:00\",\"2021-11-18T09:00:00\",\"2021-11-18T10:00:00\",\"2021-11-18T11:00:00\",\"2021-11-18T12:00:00\",\"2021-11-18T13:00:00\",\"2021-11-18T14:00:00\",\"2021-11-18T15:00:00\",\"2021-11-18T16:00:00\",\"2021-11-18T17:00:00\",\"2021-11-18T18:00:00\",\"2021-11-18T19:00:00\",\"2021-11-18T20:00:00\",\"2021-11-18T21:00:00\",\"2021-11-18T22:00:00\",\"2021-11-18T23:00:00\",\"2021-11-19T00:00:00\",\"2021-11-19T01:00:00\",\"2021-11-19T02:00:00\",\"2021-11-19T03:00:00\",\"2021-11-19T04:00:00\",\"2021-11-19T05:00:00\",\"2021-11-19T06:00:00\",\"2021-11-19T07:00:00\",\"2021-11-19T08:00:00\",\"2021-11-19T09:00:00\",\"2021-11-19T10:00:00\",\"2021-11-19T11:00:00\",\"2021-11-19T12:00:00\",\"2021-11-19T13:00:00\",\"2021-11-19T14:00:00\",\"2021-11-19T15:00:00\",\"2021-11-19T16:00:00\",\"2021-11-19T17:00:00\",\"2021-11-19T18:00:00\",\"2021-11-19T19:00:00\",\"2021-11-19T20:00:00\",\"2021-11-19T21:00:00\",\"2021-11-19T22:00:00\",\"2021-11-19T23:00:00\",\"2021-11-20T00:00:00\",\"2021-11-20T01:00:00\",\"2021-11-20T02:00:00\",\"2021-11-20T03:00:00\",\"2021-11-20T04:00:00\",\"2021-11-20T05:00:00\",\"2021-11-20T06:00:00\",\"2021-11-20T07:00:00\",\"2021-11-20T08:00:00\",\"2021-11-20T09:00:00\",\"2021-11-20T10:00:00\",\"2021-11-20T11:00:00\",\"2021-11-20T12:00:00\",\"2021-11-20T13:00:00\",\"2021-11-20T14:00:00\",\"2021-11-20T15:00:00\",\"2021-11-20T16:00:00\",\"2021-11-20T17:00:00\",\"2021-11-20T18:00:00\",\"2021-11-20T19:00:00\",\"2021-11-20T20:00:00\",\"2021-11-20T21:00:00\",\"2021-11-20T22:00:00\",\"2021-11-20T23:00:00\",\"2021-11-21T00:00:00\",\"2021-11-21T01:00:00\",\"2021-11-21T02:00:00\",\"2021-11-21T03:00:00\",\"2021-11-21T04:00:00\",\"2021-11-21T05:00:00\",\"2021-11-21T06:00:00\",\"2021-11-21T07:00:00\",\"2021-11-21T08:00:00\",\"2021-11-21T09:00:00\",\"2021-11-21T10:00:00\",\"2021-11-21T11:00:00\",\"2021-11-21T12:00:00\",\"2021-11-21T13:00:00\",\"2021-11-21T14:00:00\",\"2021-11-21T15:00:00\",\"2021-11-21T16:00:00\",\"2021-11-21T17:00:00\",\"2021-11-21T18:00:00\",\"2021-11-21T19:00:00\",\"2021-11-21T20:00:00\",\"2021-11-21T21:00:00\",\"2021-11-21T22:00:00\",\"2021-11-21T23:00:00\",\"2021-11-22T00:00:00\",\"2021-11-22T01:00:00\",\"2021-11-22T02:00:00\",\"2021-11-22T03:00:00\",\"2021-11-22T04:00:00\",\"2021-11-22T05:00:00\",\"2021-11-22T06:00:00\",\"2021-11-22T07:00:00\",\"2021-11-22T08:00:00\",\"2021-11-22T09:00:00\",\"2021-11-22T10:00:00\",\"2021-11-22T11:00:00\",\"2021-11-22T12:00:00\",\"2021-11-22T13:00:00\",\"2021-11-22T14:00:00\",\"2021-11-22T15:00:00\",\"2021-11-22T16:00:00\",\"2021-11-22T17:00:00\",\"2021-11-22T18:00:00\",\"2021-11-22T19:00:00\",\"2021-11-22T20:00:00\",\"2021-11-22T21:00:00\",\"2021-11-22T22:00:00\",\"2021-11-22T23:00:00\",\"2021-11-23T00:00:00\",\"2021-11-23T01:00:00\",\"2021-11-23T02:00:00\",\"2021-11-23T03:00:00\",\"2021-11-23T04:00:00\",\"2021-11-23T05:00:00\",\"2021-11-23T06:00:00\",\"2021-11-23T07:00:00\",\"2021-11-23T08:00:00\",\"2021-11-23T09:00:00\",\"2021-11-23T10:00:00\",\"2021-11-23T11:00:00\",\"2021-11-23T12:00:00\",\"2021-11-23T13:00:00\",\"2021-11-23T14:00:00\",\"2021-11-23T15:00:00\",\"2021-11-23T16:00:00\",\"2021-11-23T17:00:00\"],\"xaxis\":\"x\",\"y\":[-34.979083144407454,-39.76305935708968,-23.28944601828864,-21.683722309420173,-31.79381518319646,-28.943966369527896,-28.13154314665556,-29.482551322755903,-45.08743406273275,-38.013916601070676,-62.6903997939976,-33.963113566551904,-60.7337022185539,-28.59946811669234,-54.2941644202366,-42.4037460758675,-35.921975995167884,-40.14053890881719,-35.6738747376173,-43.47979515047618,-28.793878230189975,-43.02526666488005,-32.80164078937609,-38.67454174624751,-40.97133918618434,-34.85945130540236,-31.515392528155274,-24.950202779736586,-29.1095336552305,-31.12614804862801,-25.663531256382434,-22.757249333127394,-27.126391125059655,-25.77918037614646,-40.1022247367322,-40.155590328203594,-31.94807056259963,-26.774348944957893,-30.10571111645377,-55.0056483180561,-50.691214871938506,-37.94710402792223,-40.80393242892,-42.626005041506154,-48.300425391509805,-28.182180384834776,-21.092907069003573,-20.586742037810303,-27.644308771830328,-24.829594632141962,-36.014462367155446,-30.24470431506332,-35.630897414534736,-51.40094319095567,-53.54165801423672,-55.12087549160438,-71.41593992086914,-47.60800234129947,-63.9577090499488,-45.932537690362985,-34.47822060125283,-28.93924950301607,-104.01269247956036,-19.977726451737567,-30.693278826616766,-30.841663327862978,-35.53531747740091,-29.992378638710182,-25.521892561251036,-44.17914039371529,-50.93356516574276,-35.151173416893,-30.56232929833147,-30.951678056192478,-30.80339765511031,-28.788463481081994,-36.980268755162356,-53.56151410448984,-48.66198744353123,-32.21502328105807,-36.628950605811504,-40.9004795473189,-31.240338591684846,-32.304758790943076,-28.48926054295098,-59.199557448010864,-30.337845544251564,-26.20505894784575,-34.43589633942534,-31.159801255969953,-55.46085875382967,-44.241397530172534,-145.42021698257912,-48.36978706698969,-37.33775208484391,-61.93461453620319,-109.19101725059721,-38.38547180834095,-35.39565778917009,-20.604814395367434,-14.977217045459845,-23.649178723282873,-23.476923941438965,-28.088560544397012,-56.54471329587185,-35.67850343420109,-26.338682010680348,-32.54667291765379,-46.8186100586665,-39.89366948472628,-40.14167691997805,-39.14174540754156,-28.52947209529888,-24.437182399767998,-27.759661174736607,-24.277704361275187,-23.611780007619654,-23.8844146063133,-34.39835985150519,-32.20506173914228,-27.18511054236039,-26.70047871483061,-28.18694318038828,-36.485223141878855,-50.23829968103688,-44.961344523517525,-44.26516433295613,-30.673368442705183,-15.847548123631983,-18.475465851226502,-45.819505124568,-20.61370726142431,-22.133549502197923],\"yaxis\":\"y\"}],                        {\"legend\":{\"title\":{\"text\":\"variable\"},\"tracegroupgap\":0},\"template\":{\"data\":{\"bar\":[{\"error_x\":{\"color\":\"#2a3f5f\"},\"error_y\":{\"color\":\"#2a3f5f\"},\"marker\":{\"line\":{\"color\":\"#E5ECF6\",\"width\":0.5},\"pattern\":{\"fillmode\":\"overlay\",\"size\":10,\"solidity\":0.2}},\"type\":\"bar\"}],\"barpolar\":[{\"marker\":{\"line\":{\"color\":\"#E5ECF6\",\"width\":0.5},\"pattern\":{\"fillmode\":\"overlay\",\"size\":10,\"solidity\":0.2}},\"type\":\"barpolar\"}],\"carpet\":[{\"aaxis\":{\"endlinecolor\":\"#2a3f5f\",\"gridcolor\":\"white\",\"linecolor\":\"white\",\"minorgridcolor\":\"white\",\"startlinecolor\":\"#2a3f5f\"},\"baxis\":{\"endlinecolor\":\"#2a3f5f\",\"gridcolor\":\"white\",\"linecolor\":\"white\",\"minorgridcolor\":\"white\",\"startlinecolor\":\"#2a3f5f\"},\"type\":\"carpet\"}],\"choropleth\":[{\"colorbar\":{\"outlinewidth\":0,\"ticks\":\"\"},\"type\":\"choropleth\"}],\"contour\":[{\"colorbar\":{\"outlinewidth\":0,\"ticks\":\"\"},\"colorscale\":[[0.0,\"#0d0887\"],[0.1111111111111111,\"#46039f\"],[0.2222222222222222,\"#7201a8\"],[0.3333333333333333,\"#9c179e\"],[0.4444444444444444,\"#bd3786\"],[0.5555555555555556,\"#d8576b\"],[0.6666666666666666,\"#ed7953\"],[0.7777777777777778,\"#fb9f3a\"],[0.8888888888888888,\"#fdca26\"],[1.0,\"#f0f921\"]],\"type\":\"contour\"}],\"contourcarpet\":[{\"colorbar\":{\"outlinewidth\":0,\"ticks\":\"\"},\"type\":\"contourcarpet\"}],\"heatmap\":[{\"colorbar\":{\"outlinewidth\":0,\"ticks\":\"\"},\"colorscale\":[[0.0,\"#0d0887\"],[0.1111111111111111,\"#46039f\"],[0.2222222222222222,\"#7201a8\"],[0.3333333333333333,\"#9c179e\"],[0.4444444444444444,\"#bd3786\"],[0.5555555555555556,\"#d8576b\"],[0.6666666666666666,\"#ed7953\"],[0.7777777777777778,\"#fb9f3a\"],[0.8888888888888888,\"#fdca26\"],[1.0,\"#f0f921\"]],\"type\":\"heatmap\"}],\"heatmapgl\":[{\"colorbar\":{\"outlinewidth\":0,\"ticks\":\"\"},\"colorscale\":[[0.0,\"#0d0887\"],[0.1111111111111111,\"#46039f\"],[0.2222222222222222,\"#7201a8\"],[0.3333333333333333,\"#9c179e\"],[0.4444444444444444,\"#bd3786\"],[0.5555555555555556,\"#d8576b\"],[0.6666666666666666,\"#ed7953\"],[0.7777777777777778,\"#fb9f3a\"],[0.8888888888888888,\"#fdca26\"],[1.0,\"#f0f921\"]],\"type\":\"heatmapgl\"}],\"histogram\":[{\"marker\":{\"pattern\":{\"fillmode\":\"overlay\",\"size\":10,\"solidity\":0.2}},\"type\":\"histogram\"}],\"histogram2d\":[{\"colorbar\":{\"outlinewidth\":0,\"ticks\":\"\"},\"colorscale\":[[0.0,\"#0d0887\"],[0.1111111111111111,\"#46039f\"],[0.2222222222222222,\"#7201a8\"],[0.3333333333333333,\"#9c179e\"],[0.4444444444444444,\"#bd3786\"],[0.5555555555555556,\"#d8576b\"],[0.6666666666666666,\"#ed7953\"],[0.7777777777777778,\"#fb9f3a\"],[0.8888888888888888,\"#fdca26\"],[1.0,\"#f0f921\"]],\"type\":\"histogram2d\"}],\"histogram2dcontour\":[{\"colorbar\":{\"outlinewidth\":0,\"ticks\":\"\"},\"colorscale\":[[0.0,\"#0d0887\"],[0.1111111111111111,\"#46039f\"],[0.2222222222222222,\"#7201a8\"],[0.3333333333333333,\"#9c179e\"],[0.4444444444444444,\"#bd3786\"],[0.5555555555555556,\"#d8576b\"],[0.6666666666666666,\"#ed7953\"],[0.7777777777777778,\"#fb9f3a\"],[0.8888888888888888,\"#fdca26\"],[1.0,\"#f0f921\"]],\"type\":\"histogram2dcontour\"}],\"mesh3d\":[{\"colorbar\":{\"outlinewidth\":0,\"ticks\":\"\"},\"type\":\"mesh3d\"}],\"parcoords\":[{\"line\":{\"colorbar\":{\"outlinewidth\":0,\"ticks\":\"\"}},\"type\":\"parcoords\"}],\"pie\":[{\"automargin\":true,\"type\":\"pie\"}],\"scatter\":[{\"marker\":{\"colorbar\":{\"outlinewidth\":0,\"ticks\":\"\"}},\"type\":\"scatter\"}],\"scatter3d\":[{\"line\":{\"colorbar\":{\"outlinewidth\":0,\"ticks\":\"\"}},\"marker\":{\"colorbar\":{\"outlinewidth\":0,\"ticks\":\"\"}},\"type\":\"scatter3d\"}],\"scattercarpet\":[{\"marker\":{\"colorbar\":{\"outlinewidth\":0,\"ticks\":\"\"}},\"type\":\"scattercarpet\"}],\"scattergeo\":[{\"marker\":{\"colorbar\":{\"outlinewidth\":0,\"ticks\":\"\"}},\"type\":\"scattergeo\"}],\"scattergl\":[{\"marker\":{\"colorbar\":{\"outlinewidth\":0,\"ticks\":\"\"}},\"type\":\"scattergl\"}],\"scattermapbox\":[{\"marker\":{\"colorbar\":{\"outlinewidth\":0,\"ticks\":\"\"}},\"type\":\"scattermapbox\"}],\"scatterpolar\":[{\"marker\":{\"colorbar\":{\"outlinewidth\":0,\"ticks\":\"\"}},\"type\":\"scatterpolar\"}],\"scatterpolargl\":[{\"marker\":{\"colorbar\":{\"outlinewidth\":0,\"ticks\":\"\"}},\"type\":\"scatterpolargl\"}],\"scatterternary\":[{\"marker\":{\"colorbar\":{\"outlinewidth\":0,\"ticks\":\"\"}},\"type\":\"scatterternary\"}],\"surface\":[{\"colorbar\":{\"outlinewidth\":0,\"ticks\":\"\"},\"colorscale\":[[0.0,\"#0d0887\"],[0.1111111111111111,\"#46039f\"],[0.2222222222222222,\"#7201a8\"],[0.3333333333333333,\"#9c179e\"],[0.4444444444444444,\"#bd3786\"],[0.5555555555555556,\"#d8576b\"],[0.6666666666666666,\"#ed7953\"],[0.7777777777777778,\"#fb9f3a\"],[0.8888888888888888,\"#fdca26\"],[1.0,\"#f0f921\"]],\"type\":\"surface\"}],\"table\":[{\"cells\":{\"fill\":{\"color\":\"#EBF0F8\"},\"line\":{\"color\":\"white\"}},\"header\":{\"fill\":{\"color\":\"#C8D4E3\"},\"line\":{\"color\":\"white\"}},\"type\":\"table\"}]},\"layout\":{\"annotationdefaults\":{\"arrowcolor\":\"#2a3f5f\",\"arrowhead\":0,\"arrowwidth\":1},\"autotypenumbers\":\"strict\",\"coloraxis\":{\"colorbar\":{\"outlinewidth\":0,\"ticks\":\"\"}},\"colorscale\":{\"diverging\":[[0,\"#8e0152\"],[0.1,\"#c51b7d\"],[0.2,\"#de77ae\"],[0.3,\"#f1b6da\"],[0.4,\"#fde0ef\"],[0.5,\"#f7f7f7\"],[0.6,\"#e6f5d0\"],[0.7,\"#b8e186\"],[0.8,\"#7fbc41\"],[0.9,\"#4d9221\"],[1,\"#276419\"]],\"sequential\":[[0.0,\"#0d0887\"],[0.1111111111111111,\"#46039f\"],[0.2222222222222222,\"#7201a8\"],[0.3333333333333333,\"#9c179e\"],[0.4444444444444444,\"#bd3786\"],[0.5555555555555556,\"#d8576b\"],[0.6666666666666666,\"#ed7953\"],[0.7777777777777778,\"#fb9f3a\"],[0.8888888888888888,\"#fdca26\"],[1.0,\"#f0f921\"]],\"sequentialminus\":[[0.0,\"#0d0887\"],[0.1111111111111111,\"#46039f\"],[0.2222222222222222,\"#7201a8\"],[0.3333333333333333,\"#9c179e\"],[0.4444444444444444,\"#bd3786\"],[0.5555555555555556,\"#d8576b\"],[0.6666666666666666,\"#ed7953\"],[0.7777777777777778,\"#fb9f3a\"],[0.8888888888888888,\"#fdca26\"],[1.0,\"#f0f921\"]]},\"colorway\":[\"#636efa\",\"#EF553B\",\"#00cc96\",\"#ab63fa\",\"#FFA15A\",\"#19d3f3\",\"#FF6692\",\"#B6E880\",\"#FF97FF\",\"#FECB52\"],\"font\":{\"color\":\"#2a3f5f\"},\"geo\":{\"bgcolor\":\"white\",\"lakecolor\":\"white\",\"landcolor\":\"#E5ECF6\",\"showlakes\":true,\"showland\":true,\"subunitcolor\":\"white\"},\"hoverlabel\":{\"align\":\"left\"},\"hovermode\":\"closest\",\"mapbox\":{\"style\":\"light\"},\"paper_bgcolor\":\"white\",\"plot_bgcolor\":\"#E5ECF6\",\"polar\":{\"angularaxis\":{\"gridcolor\":\"white\",\"linecolor\":\"white\",\"ticks\":\"\"},\"bgcolor\":\"#E5ECF6\",\"radialaxis\":{\"gridcolor\":\"white\",\"linecolor\":\"white\",\"ticks\":\"\"}},\"scene\":{\"xaxis\":{\"backgroundcolor\":\"#E5ECF6\",\"gridcolor\":\"white\",\"gridwidth\":2,\"linecolor\":\"white\",\"showbackground\":true,\"ticks\":\"\",\"zerolinecolor\":\"white\"},\"yaxis\":{\"backgroundcolor\":\"#E5ECF6\",\"gridcolor\":\"white\",\"gridwidth\":2,\"linecolor\":\"white\",\"showbackground\":true,\"ticks\":\"\",\"zerolinecolor\":\"white\"},\"zaxis\":{\"backgroundcolor\":\"#E5ECF6\",\"gridcolor\":\"white\",\"gridwidth\":2,\"linecolor\":\"white\",\"showbackground\":true,\"ticks\":\"\",\"zerolinecolor\":\"white\"}},\"shapedefaults\":{\"line\":{\"color\":\"#2a3f5f\"}},\"ternary\":{\"aaxis\":{\"gridcolor\":\"white\",\"linecolor\":\"white\",\"ticks\":\"\"},\"baxis\":{\"gridcolor\":\"white\",\"linecolor\":\"white\",\"ticks\":\"\"},\"bgcolor\":\"#E5ECF6\",\"caxis\":{\"gridcolor\":\"white\",\"linecolor\":\"white\",\"ticks\":\"\"}},\"title\":{\"x\":0.05},\"xaxis\":{\"automargin\":true,\"gridcolor\":\"white\",\"linecolor\":\"white\",\"ticks\":\"\",\"title\":{\"standoff\":15},\"zerolinecolor\":\"white\",\"zerolinewidth\":2},\"yaxis\":{\"automargin\":true,\"gridcolor\":\"white\",\"linecolor\":\"white\",\"ticks\":\"\",\"title\":{\"standoff\":15},\"zerolinecolor\":\"white\",\"zerolinewidth\":2}}},\"title\":{\"text\":\"fut low - spot low\"},\"xaxis\":{\"anchor\":\"y\",\"domain\":[0.0,1.0],\"title\":{\"text\":\"index\"}},\"yaxis\":{\"anchor\":\"x\",\"domain\":[0.0,1.0],\"title\":{\"text\":\"value\"}}},                        {\"responsive\": true}                    ).then(function(){\n",
       "                            \n",
       "var gd = document.getElementById('98293f13-a555-4248-9fe9-3c98e2a11865');\n",
       "var x = new MutationObserver(function (mutations, observer) {{\n",
       "        var display = window.getComputedStyle(gd).display;\n",
       "        if (!display || display === 'none') {{\n",
       "            console.log([gd, 'removed!']);\n",
       "            Plotly.purge(gd);\n",
       "            observer.disconnect();\n",
       "        }}\n",
       "}});\n",
       "\n",
       "// Listen for the removal of the full notebook cells\n",
       "var notebookContainer = gd.closest('#notebook-container');\n",
       "if (notebookContainer) {{\n",
       "    x.observe(notebookContainer, {childList: true});\n",
       "}}\n",
       "\n",
       "// Listen for the clearing of the current output cell\n",
       "var outputEl = gd.closest('.output');\n",
       "if (outputEl) {{\n",
       "    x.observe(outputEl, {childList: true});\n",
       "}}\n",
       "\n",
       "                        })                };                });            </script>        </div>"
      ]
     },
     "metadata": {},
     "output_type": "display_data"
    }
   ],
   "source": [
    "premium=compute_premium(futures_df,mode=2)\n",
    "ewMin=premium.resample('1h').min()\n",
    "ewMin=ewMin[~ewMin.index.duplicated()]\n",
    "fig = px.line(ewMin,title=\"fut low - spot low\")#, x='date', y=\"GOOG\")\n",
    "fig.show()"
   ]
  },
  {
   "cell_type": "markdown",
   "id": "c06435f5",
   "metadata": {},
   "source": [
    "## spot vs funding"
   ]
  },
  {
   "cell_type": "code",
   "execution_count": null,
   "id": "e8044242",
   "metadata": {},
   "outputs": [],
   "source": []
  }
 ],
 "metadata": {
  "kernelspec": {
   "display_name": "Python 3 (ipykernel)",
   "language": "python",
   "name": "python3"
  },
  "language_info": {
   "codemirror_mode": {
    "name": "ipython",
    "version": 3
   },
   "file_extension": ".py",
   "mimetype": "text/x-python",
   "name": "python",
   "nbconvert_exporter": "python",
   "pygments_lexer": "ipython3",
   "version": "3.9.5"
  }
 },
 "nbformat": 4,
 "nbformat_minor": 5
}
